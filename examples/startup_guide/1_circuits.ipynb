{
 "cells": [
  {
   "cell_type": "markdown",
   "metadata": {
    "collapsed": true
   },
   "source": [
    "# Building a circuit : Introductions to  Operations, Circuit, CircuitDAG, DAG visualization, openQASM/qiskit visualization, and pre-built circuits"
   ]
  },
  {
   "cell_type": "markdown",
   "metadata": {},
   "source": [
    "## Overview [Public API]\n",
    "\n",
    "The circuit classes contain our quantum algorithms (that is, the time-ordered sequence of operations which we apply on specific qubits to get from our input states to our target states).\n",
    "\n",
    "They can, in principle, be represented in multiple different ways. Currently, our code base supports:\n",
    "1. Directed-acyclic graph (DAG) circuit representation, for simulation\n",
    "2. openQASM representation, for saving data, conversion to IBM's qiskit platform (note: this is only a visual compatibility at this point--more work is likely required to be able to simulate our circuits in qiskit)."
   ]
  },
  {
   "cell_type": "markdown",
   "metadata": {},
   "source": [
    "## Photonic Circuits [Public API]\n",
    "\n",
    "Our discrete photonic quantum circuits have 3 types of registers:\n",
    "1. **Classical registers:** these registers store classical information like measurement results and can be used to control the application of gates on qubits. Typically, only one classical register is needed\n",
    "2. **Photonic quantum registers:** these qubit registers are the qubits used in the construction of our target quantum state.\n",
    "3. **Emitter quantum registers:** these registers are solid state qubits, which can generate photons (while this is not enforced by the circuit class, the emitters in fact generate the photon).\n",
    "\n",
    "All the registers are zero-indexed. At this stage in the implementation, we only consider single-qubit registers."
   ]
  },
  {
   "cell_type": "markdown",
   "metadata": {},
   "source": [
    "## Operations\n",
    "\n",
    "**[Public API]**\n",
    "\n",
    "We support a set of operations which can be sequentially applied to form a quantum circuit. Operations are defined by the following:\n",
    "\n",
    "1. **Operation type:** this is the class of the Operation object, and tells us what type of gate the Operation applies (e.g. CNOT, Hadamard)\n",
    "2. **Their operation registers:** The operation registers defines the qubit/classical bit used by the operation. This must specify both the type of the register (classical, photonic quantum, emitter quantum), and its index."
   ]
  },
  {
   "cell_type": "code",
   "execution_count": 1,
   "metadata": {
    "pycharm": {
     "is_executing": true
    }
   },
   "outputs": [],
   "source": [
    "\"\"\" Operation Examples \"\"\"\n",
    "import src.ops as ops\n",
    "\n",
    "# Single Qubit Examples\n",
    "# Hadamard on emitter 0\n",
    "h = ops.Hadamard(register=0, reg_type='e')\n",
    "# Pauli X gate on photon 1\n",
    "paulix = ops.SigmaX(register=1, reg_type='p')\n",
    "\n",
    "\n",
    "# Controlled Pair Example\n",
    "# CNOT controlled by emitter 0, targeting photon 1\n",
    "cnot = ops.CNOT(control=0, control_type='e', target=1, target_type='p')\n",
    "\n",
    "\n",
    "# CLassically controlled pair example\n",
    "# Classical CNOT, where emitter 2 is measured, saved to classical register 0, \n",
    "# and conditionally applied to photon 1\n",
    "ccnot = ops.ClassicalCNOT(control=2, control_type='e', target=1, target_type='p', c_register=0)\n",
    "\n",
    "# Classically controlled CNOT + measured qubit reset\n",
    "# Emitter 0 is measured, saved to classical reg 0, conditional gate on photon 0\n",
    "ccnot_reset = ops.MeasurementCNOTandReset(control=0, control_type='e',\n",
    "                                          target=0, target_type='p',\n",
    "                                          c_register=0)"
   ]
  },
  {
   "cell_type": "markdown",
   "metadata": {},
   "source": [
    "In certain conditions, it may be useful to define a single operation object which applies multiple gates sequentially.\n",
    "\n",
    "**NOTE:** this feature is only supported for single-qubit operations at the moment"
   ]
  },
  {
   "cell_type": "code",
   "execution_count": 2,
   "metadata": {
    "pycharm": {
     "is_executing": true
    }
   },
   "outputs": [],
   "source": [
    "\"\"\" Operation Wrapper Example \"\"\"\n",
    "\n",
    "HP_gate = ops.OneQubitGateWrapper([ops.Hadamard, ops.Phase], register=0, reg_type='p')\n",
    "\n",
    "# NOTE: this applies first a phase gate, then a Hadamard gate on the register (following usual convention)"
   ]
  },
  {
   "cell_type": "markdown",
   "metadata": {},
   "source": [
    "Optionally, a noise model can be proposed for each `Operation` (by default, the noise model is `NoNoise`)."
   ]
  },
  {
   "cell_type": "code",
   "execution_count": 3,
   "metadata": {
    "pycharm": {
     "is_executing": true
    }
   },
   "outputs": [],
   "source": [
    "import src.noise.noise_models as nm\n",
    "h_with_noise = ops.CNOT(\n",
    "    control=0,\n",
    "    control_type='e',\n",
    "    target=0,\n",
    "    target_type='p',\n",
    "    noise = nm.PauliError(\"X\")\n",
    ")"
   ]
  },
  {
   "cell_type": "markdown",
   "metadata": {},
   "source": [
    "### Operation Base Classes/Inheritance [Implementer Info]\n",
    "\n",
    "Because we want to be able to support different state representations with few changes to the API, these operation objects **do not encode how we apply the operation to the state**. That is, there is no code in these Operation objects that tells us how they modify states (this is handled in the compilers).\n",
    "\n",
    "Then, there is a lot of similarities between the implementation of these different operation objects. To avoid rewriting the code repeatedly (bad practice, since it means each change must be made in multiple places!), we use **base classes** from which specific Operation objects (e.g. the Hadamard and CNOT viewed above) inherit code."
   ]
  },
  {
   "cell_type": "markdown",
   "metadata": {},
   "source": [
    "#### OperationBase\n",
    "\n",
    "All Operation classes **inherit** from `OperationBase`.\n",
    "\n",
    "**Python note:** A child class (e.g. `Hadamard`) may inherit from a parent class (e.g. `OperationBase`). This means that you can call functions on a child which ARE NOT EXPLICITLY defined in the child, if they are explicitly defined in the parent--if the child does not have its own version of the function, the code called will be the parent-code.\n",
    "\n",
    "From an implementation point of view, this is also useful in the circuit implementation because the common superclass of the operations allows us to manipulate `Operation` objects in the same way regardless of their actual corresponding gate. \n",
    "\n",
    "Operation base has `q_registers`, `q_registers_type` and `c_registers` , in which it saves the information of which quantum/classical registers of the circuit it must act on. It also contains a noise model."
   ]
  },
  {
   "cell_type": "code",
   "execution_count": 4,
   "metadata": {
    "pycharm": {
     "is_executing": true
    }
   },
   "outputs": [],
   "source": [
    "\"\"\" A look into OperationBase \"\"\"\n",
    "\n",
    "# Operation object which acts on quantum registers 0, 1 and classical register 0\n",
    "base0 = ops.OperationBase(q_registers=(0, 1), \n",
    "                          q_registers_type=('e', 'p'),\n",
    "                          c_registers=(0,))\n",
    "\n",
    "# Careful, base0 may not be the same as base1! Order of register matters\n",
    "base1 = ops.OperationBase(q_registers=(1, 0), \n",
    "                          q_registers_type=('e', 'p'),\n",
    "                          c_registers=(1,))\n",
    "\n",
    "# NOTE: the comma in c_registers=(0,) is necessary in python to make c_registers a TUPLE (iterable data) instead of an int"
   ]
  },
  {
   "cell_type": "markdown",
   "metadata": {},
   "source": [
    "#### InputOutputOperationBase, SingleQubitOperationBase, InputOutputOperationBase, ControlledPairOperationBase, ClassicalControlledPairOperationBase\n",
    "\n",
    "All the above inherit from `OperationBase`: like `OperationBase`, they exist such that we can recycle code between similar operations (for example, all single-qubit unitary gates acting on qubits need similar info stored)\n",
    "\n",
    "See `ops.py` for their precise implementations"
   ]
  },
  {
   "cell_type": "markdown",
   "metadata": {},
   "source": [
    "#### The \"real\" operations\n",
    "\n",
    "Finally, we get to the \"real\" operations which we want in our circuit (note that you can PLACE the base classes in the circuit object--mostly for testing purposes--but that the compiler will raise an error if you try to compile the base classes)\n",
    "\n",
    "These include:\n",
    "\n",
    "**InputOutputOperationBase** types: Input, Output (these are simply placeholder Operations to signal the beginning/end of the circuit)\n",
    "\n",
    "**SingleQubitOperationBase** types: Hadamard, SigmaX,SigmaY, SigmaZ\n",
    "\n",
    "**ControlledPairOperationBase** types: CNOT, CPHASE\n",
    "\n",
    "**ClassicalControlledPairOperationBase** types: classical CNOT/CPHASE, MeasurementCNOTandReset (same as classical CNOT, with the measured qubit being reset to |0>)\n",
    "\n",
    "**OperationBase** type (though we may want another base class later for this, if we implement more): MeasurementZ\n"
   ]
  },
  {
   "cell_type": "markdown",
   "metadata": {},
   "source": [
    "## Circuit Class [Public API]\n",
    "\n",
    "The circuit class is built to remember with `Operation`-type objects to apply in each order. It also provides visualization and saving-to-string functionalities.\n",
    "\n",
    "Like with `OperationBase`, we have a base class called `Circuit` (to allow future software expansions). Unlike `OperationBase`, we only have one circuit implementation at the moment, called `CircuitDAG`.\n",
    "\n",
    "`CircuitDAG` represents a circuit via a directed acyclic graph (DAG)."
   ]
  },
  {
   "cell_type": "markdown",
   "metadata": {},
   "source": [
    "#### What is the DAG representation?\n",
    "\n",
    "The circuit DAG representation is used by other simulator softwares such as qiskit (IBM). Each NODE of the graph corresponds to an operation. Each EDGE of the graph corresponds to a qubit.\n",
    "\n",
    "The graph is directed because the operations have an order. The direction of the edges follows the direction of time.\n",
    "\n",
    "The graph is acyclic, because each a loop would indicate that a certain operation A occurs both before and after a certain operation B.\n",
    "\n",
    "Example:\n",
    "\n",
    "![DAG example](../img/circuit_dag_explanation.PNG \"DAG Circuit Example\")"
   ]
  },
  {
   "cell_type": "markdown",
   "metadata": {},
   "source": [
    "#### [Implementer's note]\n",
    "\n",
    "The underlying representation of our circuit uses the `networkx` graph package `MultiDiGraph` class, such that we can represent multiple edges between the same nodes (for example, two consecutive CNOT gates on the same pair qubits would be represented as two CNOT nodes, connected by two edges--one for each qubit)\n",
    "\n",
    "#### [End of Implementer's note]"
   ]
  },
  {
   "cell_type": "code",
   "execution_count": 5,
   "metadata": {},
   "outputs": [],
   "source": [
    "\"\"\" Create and validate a circuit \"\"\"\n",
    "import src.ops as ops\n",
    "from src.circuit import CircuitDAG\n",
    "\n",
    "# NOTE: all the operations below are callable on any circuit object\n",
    "# but... we will only have CircuitDAG implemented for the foreseeable future\n",
    "\n",
    "# Create a circuit with 2 quantum registers and 1 classical registers\n",
    "# If you don't specify n_quantum, n_classical, an empty circuit (no registers) is created by default\n",
    "circuit = CircuitDAG(n_emitter=1, n_photon=1, n_classical=1)\n",
    "\n",
    "circuit.add(ops.Hadamard(register=0, reg_type='e'))\n",
    "circuit.add(ops.CNOT(control=0, control_type='e', target=0, target_type='p'))\n",
    "\n",
    "circuit.validate()  # will raise an AssertionError if not valid!"
   ]
  },
  {
   "cell_type": "code",
   "execution_count": 6,
   "metadata": {},
   "outputs": [
    {
     "name": "stdout",
     "output_type": "stream",
     "text": [
      "Validate function raised an AssertionError!\n"
     ]
    }
   ],
   "source": [
    "\"\"\" Example where the circuit is invalid \"\"\"\n",
    "import src.ops as ops\n",
    "from src.circuit import CircuitDAG\n",
    "\n",
    "invalid_circuit = CircuitDAG(n_emitter=1, n_photon=0, n_classical=0)\n",
    "\n",
    "# Adding this operation creates a self-loop in the graph, since the control and target are the same. This is not valid!\n",
    "invalid_circuit.add(ops.CNOT(control=0, control_type='e', target=0, target_type='e'))\n",
    "\n",
    "try:\n",
    "    invalid_circuit.validate()  # will raise an AssertionError if not valid!\n",
    "except AssertionError:\n",
    "    print(f'Validate function raised an AssertionError!')"
   ]
  },
  {
   "cell_type": "code",
   "execution_count": 7,
   "metadata": {},
   "outputs": [
    {
     "data": {
      "image/png": "[encoded data removed]",
      "text/plain": [
       "<Figure size 432x288 with 1 Axes>"
      ]
     },
     "metadata": {},
     "output_type": "display_data"
    },
    {
     "data": {
      "image/png": "[encoded data removed]",
      "text/plain": [
       "<Figure size 432x288 with 1 Axes>"
      ]
     },
     "metadata": {},
     "output_type": "display_data"
    },
    {
     "data": {
      "text/plain": [
       "(<Figure size 432x288 with 1 Axes>, <AxesSubplot:>)"
      ]
     },
     "execution_count": 7,
     "metadata": {},
     "output_type": "execute_result"
    }
   ],
   "source": [
    "\"\"\" Visualization \"\"\"\n",
    "\n",
    "# Now, let's visualize the first circuit we made\n",
    "\n",
    "circuit.draw_dag()  # DAG visualization--this shows the internal circuit representation\n",
    "circuit.draw_circuit()  # this shows the circuit diagram"
   ]
  },
  {
   "cell_type": "markdown",
   "metadata": {},
   "source": [
    "We see that node 1 seems to be the Hadamard, and node 2 is the CNOT.\n",
    "\n",
    "In general, the operations are numbered. If you add an Operation on registers of size > 1, each pair of qubits affected by the Operation get their own number. **For now, all registers are single-qubit registers**."
   ]
  },
  {
   "cell_type": "markdown",
   "metadata": {},
   "source": [
    "#### How to change the circuit size\n",
    "\n",
    "The circuit size does not have to be initially defined. You can also add registers via an explicit function call, or add `Operation` objects to the circuit which add registers.\n",
    "\n",
    "If you choose to add `Operation` objects to grow the circuit, however, make sure to add the register numbers contiguously (an error will be raised if you leave a gap in the photon numbering)."
   ]
  },
  {
   "cell_type": "code",
   "execution_count": 8,
   "metadata": {},
   "outputs": [
    {
     "name": "stdout",
     "output_type": "stream",
     "text": [
      "initial circuit\n",
      "Emitter num: 0\n",
      "Photon num: 0\n",
      "Classical bit num: 0\n"
     ]
    },
    {
     "data": {
      "image/png": "[encoded data removed]",
      "text/plain": [
       "<Figure size 432x288 with 1 Axes>"
      ]
     },
     "metadata": {},
     "output_type": "display_data"
    },
    {
     "name": "stdout",
     "output_type": "stream",
     "text": [
      "\n",
      " circuit after operation\n",
      "Emitter num: 1\n",
      "Photon num: 1\n",
      "Classical bit num: 0\n"
     ]
    },
    {
     "data": {
      "image/png": "[encoded data removed]",
      "text/plain": [
       "<Figure size 432x288 with 1 Axes>"
      ]
     },
     "metadata": {},
     "output_type": "display_data"
    },
    {
     "name": "stdout",
     "output_type": "stream",
     "text": [
      "circuit after adding a classical and emitter register\n",
      "Emitter num: 2\n",
      "Photon num: 1\n",
      "Classical bit num: 1\n"
     ]
    },
    {
     "data": {
      "image/png": "[encoded data removed]",
      "text/plain": [
       "<Figure size 432x288 with 1 Axes>"
      ]
     },
     "metadata": {},
     "output_type": "display_data"
    },
    {
     "name": "stdout",
     "output_type": "stream",
     "text": [
      "\n",
      "gap left in photon ordering, raises an error\n",
      "ERROR\n",
      "Register numbering must be continuous. Photonic qubit register 2 cannot be added. Next register that can be added is 1\n"
     ]
    }
   ],
   "source": [
    "\"\"\" Growing the circuit through operations \"\"\"\n",
    "\n",
    "def print_circuit_size(c):\n",
    "    print(f'Emitter num: {c.n_emitters}')\n",
    "    print(f'Photon num: {c.n_photons}')\n",
    "    print(f'Classical bit num: {c.n_classical}')\n",
    "    c.draw_circuit()\n",
    "\n",
    "circuit = CircuitDAG()\n",
    "print('initial circuit')\n",
    "print_circuit_size(circuit)\n",
    "\n",
    "circuit.add(ops.CNOT(control=0, control_type='e', target=0, target_type='p'))\n",
    "print('\\n circuit after operation')\n",
    "print_circuit_size(circuit)\n",
    "\n",
    "circuit.add_classical_register()\n",
    "circuit.add_emitter_register()\n",
    "print('circuit after adding a classical and emitter register')\n",
    "print_circuit_size(circuit)\n",
    "\n",
    "print('\\ngap left in photon ordering, raises an error')\n",
    "try:\n",
    "    circuit.add(ops.Hadamard(register=2, reg_type='p'))\n",
    "except ValueError as e:\n",
    "    print('ERROR')\n",
    "    print(e)"
   ]
  },
  {
   "cell_type": "markdown",
   "metadata": {},
   "source": [
    "#### Advanced circuit building (CircuitDAG specific)\n",
    "\n",
    "In certain solver applications, it is useful to be able to swap, insert, and remove operations from the circuit. "
   ]
  },
  {
   "cell_type": "code",
   "execution_count": 9,
   "metadata": {},
   "outputs": [
    {
     "name": "stdout",
     "output_type": "stream",
     "text": [
      "Initial circuit\n"
     ]
    },
    {
     "data": {
      "image/png": "[encoded data removed]",
      "text/plain": [
       "<Figure size 432x288 with 1 Axes>"
      ]
     },
     "metadata": {},
     "output_type": "display_data"
    },
    {
     "data": {
      "text/plain": [
       "(<Figure size 432x288 with 1 Axes>, <AxesSubplot:>)"
      ]
     },
     "execution_count": 9,
     "metadata": {},
     "output_type": "execute_result"
    }
   ],
   "source": [
    "\"\"\" Consider \"\"\"\n",
    "\n",
    "import benchmarks.circuits as circ \n",
    "\n",
    "# This initial circuit is provided by the code base\n",
    "circuit, _ = circ.ghz4_state_circuit()\n",
    "\n",
    "print(\"Initial circuit\")\n",
    "circuit.draw_circuit()"
   ]
  },
  {
   "cell_type": "code",
   "execution_count": 10,
   "metadata": {},
   "outputs": [
    {
     "name": "stdout",
     "output_type": "stream",
     "text": [
      "Basic add: adds to the end of the circuit\n"
     ]
    },
    {
     "data": {
      "image/png": "[encoded data removed]",
      "text/plain": [
       "<Figure size 432x288 with 1 Axes>"
      ]
     },
     "metadata": {},
     "output_type": "display_data"
    },
    {
     "data": {
      "text/plain": [
       "(<Figure size 432x288 with 1 Axes>, <AxesSubplot:>)"
      ]
     },
     "execution_count": 10,
     "metadata": {},
     "output_type": "execute_result"
    }
   ],
   "source": [
    "print(\"Basic add: adds to the end of the circuit\")\n",
    "circuit.add(ops.SigmaX(register=3, reg_type='p'))\n",
    "circuit.draw_circuit()"
   ]
  },
  {
   "cell_type": "code",
   "execution_count": 11,
   "metadata": {},
   "outputs": [
    {
     "data": {
      "image/png": "[encoded data removed]",
      "text/plain": [
       "<Figure size 432x288 with 1 Axes>"
      ]
     },
     "metadata": {},
     "output_type": "display_data"
    },
    {
     "name": "stdout",
     "output_type": "stream",
     "text": [
      "Insert at: insert operations on specific DAG edges (e.g. 3 and 4)\n"
     ]
    },
    {
     "data": {
      "image/png": "[encoded data removed]",
      "text/plain": [
       "<Figure size 432x288 with 1 Axes>"
      ]
     },
     "metadata": {},
     "output_type": "display_data"
    },
    {
     "data": {
      "text/plain": [
       "(<Figure size 432x288 with 1 Axes>, <AxesSubplot:>)"
      ]
     },
     "execution_count": 11,
     "metadata": {},
     "output_type": "execute_result"
    }
   ],
   "source": [
    "circuit.draw_dag()\n",
    "\n",
    "\"\"\"\n",
    "Say we want to add a second CNOT across e0, p3 (after the first one)\n",
    "The DAG edge we add on is between nodes 5 and 7 (on \"e0\"), 5 and 6 (on \"p3\")\n",
    "\n",
    "Note that this is not obvious, but the solvers typically track this information\n",
    "\"\"\"\n",
    "\n",
    "print(\"Insert at: insert operations on specific DAG edges (e.g. 3 and 4)\")\n",
    "circuit.insert_at(ops.CNOT(control=0, control_type='e',\n",
    "                           target=3, target_type='p'),\n",
    "                  [(5, 6, 'p3'), (5, 7, 'e0')])\n",
    "circuit.draw_circuit()"
   ]
  },
  {
   "cell_type": "code",
   "execution_count": 12,
   "metadata": {},
   "outputs": [
    {
     "name": "stdout",
     "output_type": "stream",
     "text": [
      "Remove op: Remove a given operation\n"
     ]
    },
    {
     "data": {
      "image/png": "[encoded data removed]",
      "text/plain": [
       "<Figure size 432x288 with 1 Axes>"
      ]
     },
     "metadata": {},
     "output_type": "display_data"
    },
    {
     "data": {
      "text/plain": [
       "(<Figure size 432x288 with 1 Axes>, <AxesSubplot:>)"
      ]
     },
     "execution_count": 12,
     "metadata": {},
     "output_type": "execute_result"
    }
   ],
   "source": [
    "\"\"\"\n",
    "Remove the hadamard on e0\n",
    "\"\"\"\n",
    "\n",
    "print(\"Remove op: Remove a given operation\")\n",
    "circuit.remove_op(7)\n",
    "circuit.draw_circuit()"
   ]
  },
  {
   "cell_type": "markdown",
   "metadata": {},
   "source": [
    "Our solvers can also swap components, but there is not explicit circuit class function for this."
   ]
  },
  {
   "cell_type": "markdown",
   "metadata": {},
   "source": [
    "#### Get a sequence of operations\n",
    "\n",
    "In our software, the circuit is responsible for providing the compiler with a sequence of operations to compile. This sequence is built from the nodes of the graph provided in \"topological\" order:"
   ]
  },
  {
   "cell_type": "code",
   "execution_count": 13,
   "metadata": {},
   "outputs": [
    {
     "name": "stdout",
     "output_type": "stream",
     "text": [
      "operation objects (sequence):\n",
      "[<src.ops.Input object at 0x0000029470CB18E0>, <src.ops.Input object at 0x0000029470CB1160>, <src.ops.Input object at 0x00000294710122E0>, <src.ops.Input object at 0x0000029470CC8310>, <src.ops.Input object at 0x0000029470CC8400>, <src.ops.Input object at 0x0000029470CC8520>, <src.ops.Hadamard object at 0x0000029470CB1820>, <src.ops.CNOT object at 0x0000029470CB1610>, <src.ops.Output object at 0x0000029471012E50>, <src.ops.CNOT object at 0x0000029470CC8700>, <src.ops.Output object at 0x0000029470CC8130>, <src.ops.CNOT object at 0x0000029470CC87F0>, <src.ops.Output object at 0x0000029470CC8430>, <src.ops.CNOT object at 0x0000029470CC8760>, <src.ops.CNOT object at 0x000002946A43F970>, <src.ops.Hadamard object at 0x0000029470CC86D0>, <src.ops.MeasurementCNOTandReset object at 0x0000029470CC8640>, <src.ops.Output object at 0x000002947101A0D0>, <src.ops.Output object at 0x0000029470CC8610>, <src.ops.Hadamard object at 0x0000029470CC8220>, <src.ops.SigmaX object at 0x000002946A458B20>, <src.ops.Output object at 0x0000029470CC84C0>]\n"
     ]
    }
   ],
   "source": [
    "op_seq = circuit.sequence()\n",
    "print(\"operation objects (sequence):\")\n",
    "print(op_seq)"
   ]
  },
  {
   "cell_type": "markdown",
   "metadata": {},
   "source": [
    "### Saving and visualization\n",
    "\n",
    "We want to be able to save circuits to the disk; saving the circuit python object is a) cumbersome and b) risky (we may lose the ability to open a store python object if we change the circuit implementation).\n",
    "\n",
    "OpenQASM is a standard way of describing a quantum circuit, so we opt to save our circuit in the openQASM format (represented as a string in code). We can also load in openQASM files (defined as in our code⁠—this may not work for arbitrary openQASM circuits) to create a new circuit object.\n",
    "\n",
    "**NOTE 1:** our current openQASM construction is intended primarily for:\n",
    "\n",
    "a) Visualization purposes and\n",
    "\n",
    "b) Saving purposes\n",
    "\n",
    "The actual gate definitions in the file should be double-checked, if we want to simulate our circuits in another platform via openQASM.\n",
    "\n",
    "**NOTE 2:** openQASM does not distinguish between photonic qubits and emitter qubits (this distinction is particular to photonic quantum computing applications). In our openQASM scripts, we distinguish photonic and emitter qubits by the naming convention of our registers."
   ]
  },
  {
   "cell_type": "code",
   "execution_count": 14,
   "metadata": {},
   "outputs": [
    {
     "name": "stdout",
     "output_type": "stream",
     "text": [
      "openQASM representation of the circuit:\n",
      "OPENQASM 2.0;\n",
      "\n",
      "gate h a { U(pi/2, 0, pi) a; }\n",
      "\n",
      "gate x a { U(pi, 0, pi) a; }\n",
      "qreg p0[1];\n",
      "qreg p1[1];\n",
      "qreg p2[1];\n",
      "qreg p3[1];\n",
      "qreg e0[1];\n",
      "creg c0[1];\n",
      "\n",
      "h e0[0];\n",
      "CX e0[0], p0[0];\n",
      "CX e0[0], p1[0];\n",
      "CX e0[0], p2[0];\n",
      "CX e0[0], p3[0];\n",
      "CX e0[0], p3[0];\n",
      "h p3[0];\n",
      "barrier p0, p1, p2, p3, e0;\n",
      "measure e0[0] -> c0[0]; \n",
      "if (c0==1) x p3[0]; \n",
      "barrier e0, p3; \n",
      "reset e0[0];\n",
      "barrier p0, p1, p2, p3, e0;\n",
      "h p3[0];\n",
      "x p3[0];\n"
     ]
    }
   ],
   "source": [
    "\"\"\" Get openQASM string from circuit \"\"\"\n",
    "\n",
    "print(\"openQASM representation of the circuit:\")\n",
    "print(circuit.to_openqasm())"
   ]
  },
  {
   "cell_type": "code",
   "execution_count": 15,
   "metadata": {},
   "outputs": [
    {
     "data": {
      "image/png": "[encoded data removed]",
      "text/plain": [
       "<Figure size 432x288 with 1 Axes>"
      ]
     },
     "metadata": {},
     "output_type": "display_data"
    },
    {
     "data": {
      "text/plain": [
       "(<Figure size 432x288 with 1 Axes>, <AxesSubplot:>)"
      ]
     },
     "execution_count": 15,
     "metadata": {},
     "output_type": "execute_result"
    }
   ],
   "source": [
    "\"\"\" Define a new circuit with an openQASM string \"\"\"\n",
    "\n",
    "openqasm_str = circuit.to_openqasm()\n",
    "\n",
    "circuit_copy = CircuitDAG.from_openqasm(openqasm_str)\n",
    "circuit_copy.draw_circuit()"
   ]
  }
 ],
 "metadata": {
  "kernelspec": {
   "display_name": "Python 3 (ipykernel)",
   "language": "python",
   "name": "python3"
  },
  "language_info": {
   "codemirror_mode": {
    "name": "ipython",
    "version": 3
   },
   "file_extension": ".py",
   "mimetype": "text/x-python",
   "name": "python",
   "nbconvert_exporter": "python",
   "pygments_lexer": "ipython3",
   "version": "3.9.5"
  }
 },
 "nbformat": 4,
 "nbformat_minor": 1
}
