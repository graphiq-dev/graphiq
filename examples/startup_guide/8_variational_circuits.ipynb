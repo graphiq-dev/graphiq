{
 "cells": [
  {
   "cell_type": "markdown",
   "source": [
    "# [In progress] Optimizing a parameterized quantum circuit: Gradient-descent, JAX backend for DensityMatrix"
   ],
   "metadata": {
    "collapsed": false
   }
  },
  {
   "cell_type": "markdown",
   "source": [
    "Variational circuits are a class of circuits which are composed of continuously parameterized gates. These parameters are generally optimized to meet a certain functionality, such as generating a target output quantum state. Such variational circuits are attractive in the NISQ era, where quantum devices are not error-corrected and limited to shallow (i.e., few-gate) circuits.\n",
    "\n",
    "We use `JAX` and its ecosystem of associated libraries, such as `Optax`, for automatically differentiation our circuits and optimizing them via a gradient descent algorithm."
   ],
   "metadata": {
    "collapsed": false
   }
  },
  {
   "cell_type": "code",
   "execution_count": 10,
   "outputs": [
    {
     "name": "stdout",
     "output_type": "stream",
     "text": [
      "The autoreload extension is already loaded. To reload it, use:\n",
      "  %reload_ext autoreload\n"
     ]
    }
   ],
   "source": [
    "%load_ext autoreload\n",
    "%autoreload 2"
   ],
   "metadata": {
    "collapsed": false,
    "pycharm": {
     "name": "#%%\n"
    }
   }
  },
  {
   "cell_type": "code",
   "execution_count": 11,
   "outputs": [],
   "source": [
    "import optax\n",
    "import jax\n",
    "import src.backends.density_matrix\n",
    "src.backends.density_matrix.DENSITY_MATRIX_ARRAY_LIBRARY = \"jax\""
   ],
   "metadata": {
    "collapsed": false,
    "pycharm": {
     "name": "#%%\n"
    }
   }
  },
  {
   "cell_type": "code",
   "execution_count": 12,
   "outputs": [],
   "source": [
    "import matplotlib.pyplot as plt\n",
    "import tqdm\n",
    "\n",
    "from src import ops\n",
    "from src.circuit import CircuitDAG\n",
    "import src.backends.density_matrix.functions as dmf\n",
    "from src.backends.density_matrix.compiler import DensityMatrixCompiler\n",
    "from src.metrics import Infidelity\n",
    "\n",
    "import benchmarks.circuits"
   ],
   "metadata": {
    "collapsed": false,
    "pycharm": {
     "name": "#%%\n"
    }
   }
  },
  {
   "cell_type": "markdown",
   "source": [
    "As usual, we start with our target state. For this tutorial, choose any of the Bell state, 3- or 4-qubit GHZ state. We will use the infidelity as our metric to minimize. Currently, variational circuits are only supported for the DensityMatrix backend."
   ],
   "metadata": {
    "collapsed": false
   }
  },
  {
   "cell_type": "code",
   "execution_count": 13,
   "outputs": [
    {
     "name": "stderr",
     "output_type": "stream",
     "text": [
      "C:\\Users\\benma\\OneDrive - University of Waterloo\\Backups\\Desktop (BACKUP)\\1 - Projects\\AF Inverse Graph Design\\graph-compiler\\src\\state.py:238: UserWarning: Stabilizer representation being set is not compared to previously existing representations. Make sure the newrepresentation is consistent with other object representations\n",
      "  warnings.warn(\n"
     ]
    }
   ],
   "source": [
    "# _, target = benchmarks.circuits.bell_state_circuit()\n",
    "_, target = benchmarks.circuits.ghz3_state_circuit()\n",
    "# _, target = benchmarks.circuits.ghz4_state_circuit()\n",
    "\n",
    "compiler = DensityMatrixCompiler()\n",
    "metric = Infidelity(target=target)"
   ],
   "metadata": {
    "collapsed": false,
    "pycharm": {
     "name": "#%%\n"
    }
   }
  },
  {
   "cell_type": "code",
   "execution_count": 14,
   "outputs": [],
   "source": [
    "circuit = CircuitDAG(n_emitter=target.n_qubits, n_photon=0, n_classical=0)\n",
    "\n",
    "circuit.add(\n",
    "    ops.ParameterizedOneQubitRotation(\n",
    "        register=0,\n",
    "        reg_type=\"e\",\n",
    "        params=(0.0, 1.0, 1.0),  # set the parameters explicitly, if desired\n",
    "    )\n",
    ")\n",
    "for i in range(1, target.n_qubits):\n",
    "    circuit.add(\n",
    "        ops.ParameterizedControlledRotationQubit(\n",
    "            control=i - 1, control_type=\"e\", target=i, target_type=\"e\"\n",
    "        )\n",
    "    )\n",
    "\n",
    "params = circuit.initialize_parameters()  # randomly sample the initial parameters"
   ],
   "metadata": {
    "collapsed": false,
    "pycharm": {
     "name": "#%%\n"
    }
   }
  },
  {
   "cell_type": "markdown",
   "source": [
    "We wrap all the functions for computing the metric loss value into a single function, where the first parameter is our parameter dictionary."
   ],
   "metadata": {
    "collapsed": false
   }
  },
  {
   "cell_type": "code",
   "execution_count": 15,
   "outputs": [
    {
     "data": {
      "text/plain": "DeviceArray(0.5527185, dtype=float32)"
     },
     "execution_count": 15,
     "metadata": {},
     "output_type": "execute_result"
    }
   ],
   "source": [
    "def compute_loss(params: dict, circuit: CircuitDAG):\n",
    "    circuit.parameters = params\n",
    "    output_state = compiler.compile(circuit)\n",
    "    loss = metric.evaluate(output_state, circuit)\n",
    "    return loss\n",
    "\n",
    "compute_loss(params, circuit)"
   ],
   "metadata": {
    "collapsed": false,
    "pycharm": {
     "name": "#%%\n"
    }
   }
  },
  {
   "cell_type": "markdown",
   "source": [
    "Now, we define our `Optax` optimizer to use. For this demonstration, we will use the Adagrad algorithm, but many other popular optimizers exist and are already implemented in `Optax`. These include Adam, SGD, RMSProp, etc."
   ],
   "metadata": {
    "collapsed": false
   }
  },
  {
   "cell_type": "code",
   "execution_count": 16,
   "outputs": [],
   "source": [
    "learning_rate = 0.4\n",
    "n_step = 10\n",
    "progress = True\n",
    "optimizer = optax.adagrad(learning_rate)\n",
    "opt_state = optimizer.init(params)"
   ],
   "metadata": {
    "collapsed": false,
    "pycharm": {
     "name": "#%%\n"
    }
   }
  },
  {
   "cell_type": "markdown",
   "source": [
    "Here is the main learning loop. We iterate `n_step` times in our gradient-descent algorithm. Each loss value is stored to an array for plotting the learning curve later."
   ],
   "metadata": {
    "collapsed": false
   }
  },
  {
   "cell_type": "code",
   "execution_count": 20,
   "outputs": [
    {
     "name": "stderr",
     "output_type": "stream",
     "text": [
      "Cost: 0.4891765118: 100%|██████████| 10/10 [00:06<00:00,  1.62it/s]\n"
     ]
    }
   ],
   "source": [
    "loss_curve = []\n",
    "for step in (pbar := tqdm.tqdm(range(n_step), disable=(not progress))):\n",
    "    loss = compute_loss(params, circuit)\n",
    "    grads = jax.grad(compute_loss)(params, circuit)\n",
    "    updates, opt_state = optimizer.update(grads, opt_state)\n",
    "    params = optax.apply_updates(params, updates)\n",
    "    loss_curve.append(loss)\n",
    "    if progress:\n",
    "        pbar.set_description(f\"Cost: {loss:.10f}\")\n",
    "    else:\n",
    "        print(step, loss, params)\n"
   ],
   "metadata": {
    "collapsed": false,
    "pycharm": {
     "name": "#%%\n"
    }
   }
  },
  {
   "cell_type": "markdown",
   "source": [
    "Plot the resulting state to see how the optimization performed."
   ],
   "metadata": {
    "collapsed": false
   }
  },
  {
   "cell_type": "code",
   "execution_count": 22,
   "outputs": [
    {
     "data": {
      "text/plain": "<Figure size 432x288 with 2 Axes>",
      "image/png": "[encoded data removed]"
     },
     "metadata": {
      "needs_background": "light"
     },
     "output_type": "display_data"
    },
    {
     "data": {
      "text/plain": "(<Figure size 432x288 with 2 Axes>,\n [<Axes3DSubplot:title={'center':'Real'}>,\n  <Axes3DSubplot:title={'center':'Imaginary'}>])"
     },
     "execution_count": 22,
     "metadata": {},
     "output_type": "execute_result"
    }
   ],
   "source": [
    "circuit.parameters = params\n",
    "output_state = compiler.compile(circuit)\n",
    "output_state.dm.draw()\n",
    "\n",
    "\n",
    "# fig, ax = plt.subplots(1, 1)\n",
    "# ax.plot(loss_curve)\n",
    "# ax.set(xlabel=\"Optimization Step\", ylabel=\"Infidelity\")\n",
    "# plt.show()"
   ],
   "metadata": {
    "collapsed": false,
    "pycharm": {
     "name": "#%%\n"
    }
   }
  },
  {
   "cell_type": "markdown",
   "source": [
    "Now we do it with the GradientDescentSolver."
   ],
   "metadata": {
    "collapsed": false
   }
  },
  {
   "cell_type": "code",
   "execution_count": 23,
   "outputs": [],
   "source": [
    "from src.solvers.gradient_descent_solver import GradientDescentSolver, adagrad"
   ],
   "metadata": {
    "collapsed": false,
    "pycharm": {
     "name": "#%%\n"
    }
   }
  },
  {
   "cell_type": "code",
   "execution_count": 24,
   "outputs": [],
   "source": [
    "optimizer = adagrad(learning_rate=0.4)\n",
    "solver = GradientDescentSolver(\n",
    "    target=target,\n",
    "    metric=metric,\n",
    "    compiler=compiler,\n",
    "    circuit=circuit,\n",
    "    optimizer=optimizer,\n",
    "    n_step=n_step,\n",
    ")"
   ],
   "metadata": {
    "collapsed": false,
    "pycharm": {
     "name": "#%%\n"
    }
   }
  },
  {
   "cell_type": "code",
   "execution_count": 25,
   "outputs": [
    {
     "name": "stderr",
     "output_type": "stream",
     "text": [
      "Cost: 0.4985480309: 100%|██████████| 10/10 [00:05<00:00,  1.95it/s]\n"
     ]
    }
   ],
   "source": [
    "loss_curve, params = solver.solve()"
   ],
   "metadata": {
    "collapsed": false,
    "pycharm": {
     "name": "#%%\n"
    }
   }
  },
  {
   "cell_type": "code",
   "execution_count": 26,
   "outputs": [
    {
     "data": {
      "text/plain": "<Figure size 432x288 with 1 Axes>",
      "image/png": "[encoded data removed]"
     },
     "metadata": {
      "needs_background": "light"
     },
     "output_type": "display_data"
    }
   ],
   "source": [
    "fig, ax = plt.subplots(1, 1)\n",
    "ax.plot(loss_curve)\n",
    "ax.set(xlabel=\"Optimization Step\", ylabel=\"Infidelity\")\n",
    "plt.show()"
   ],
   "metadata": {
    "collapsed": false,
    "pycharm": {
     "name": "#%%\n"
    }
   }
  }
 ],
 "metadata": {
  "kernelspec": {
   "display_name": "Python 3",
   "language": "python",
   "name": "python3"
  },
  "language_info": {
   "codemirror_mode": {
    "name": "ipython",
    "version": 2
   },
   "file_extension": ".py",
   "mimetype": "text/x-python",
   "name": "python",
   "nbconvert_exporter": "python",
   "pygments_lexer": "ipython2",
   "version": "2.7.6"
  }
 },
 "nbformat": 4,
 "nbformat_minor": 0
}