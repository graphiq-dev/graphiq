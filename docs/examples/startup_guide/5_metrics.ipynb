{
 "cells": [
  {
   "cell_type": "markdown",
   "metadata": {
    "collapsed": true,
    "pycharm": {
     "name": "#%% md\n"
    }
   },
   "source": [
    "# Metric functions"
   ]
  },
  {
   "cell_type": "markdown",
   "metadata": {
    "pycharm": {
     "name": "#%% md\n"
    }
   },
   "source": [
    "## Overview\n",
    "Metrics quantify quantum states and circuits. They are used to evaluate the quality of a circuit for generating a target graph state. \n",
    "In this context, we can think of metrics as cost functions.\n",
    "\n",
    "We will consider the following:\n",
    "1. General features of metrics/cost functions\n",
    "2. `Infidelity`, `TraceDistance`, and `CircuitDepth`\n",
    "3. Joint metrics (trading off between metric classes)"
   ]
  },
  {
   "cell_type": "markdown",
   "metadata": {
    "pycharm": {
     "name": "#%% md\n"
    }
   },
   "source": [
    "## Metric objects\n",
    "\n",
    "Current metrics include `Infidelity`, `TraceDistance`, and `CircuitDepth`. These are all subclasses of `MetricBase`, which is an abstract class.\n",
    "Each metric object logs evaluated values every `log_step` number of steps. \n",
    "Metric functions are evaluated on a given state and/or circuit as `metric.evaluate(state, circuit)`, returning a scalar value.\n",
    "Metrics may only depend on the produced state(e.g. `Infidelity`,  `TraceDistance`), or only depend on the circuit (e.g. `CircuitDepth`). However, we require both arguments such that the solver can be agnostic to the metric type (i.e. so that it can pass both arguments without having to check the type of metric which it is running).\n",
    "\n",
    "### `Infidelity`\n",
    "Evaluated as the $1 - F(\\rho, \\sigma)$ where $F(\\rho, \\sigma)$ is the fidelity between the target state, $\\sigma$, and the produced state, $\\rho$.\n",
    "\n",
    "### `TraceDistance`\n",
    "Evaluated as the trace distance between the target state and the produced state.\n",
    "\n",
    "### `CircuitDepth` \n",
    "Evaluated as the depth of the circuit, denoted as the number of layers of gates in the circuit."
   ]
  },
  {
   "cell_type": "markdown",
   "metadata": {
    "pycharm": {
     "name": "#%% md\n"
    }
   },
   "source": []
  },
  {
   "cell_type": "code",
   "execution_count": 2,
   "metadata": {
    "pycharm": {
     "name": "#%%\n"
    },
    "ExecuteTime": {
     "end_time": "2024-01-16T03:07:28.780547Z",
     "start_time": "2024-01-16T03:07:25.693973Z"
    }
   },
   "outputs": [
    {
     "name": "stdout",
     "output_type": "stream",
     "text": [
      "Cost functions results on perfect state/circuit:\n",
      "Infidelity: 0.0\n",
      "Trace distance: 0.0\n",
      "Circuit depth: 8\n",
      "\n",
      "Infidelity log: [0.0]\n",
      "\n",
      "Trace Distance log: [0.0]\n",
      "\n",
      "Circuit depth log: [8]\n"
     ]
    }
   ],
   "source": [
    "\"\"\" Evaluating metrics \"\"\"\n",
    "from graphiq.benchmarks.circuits import (\n",
    "    ghz4_state_circuit,\n",
    "    linear_cluster_4qubit_circuit,\n",
    ")\n",
    "import graphiq.metrics as met\n",
    "\n",
    "# consider a 4-qubit GHZ target state\n",
    "ghz4_circuit, ghz4_target = ghz4_state_circuit()\n",
    "\n",
    "# initialize metrics\n",
    "infidelity = met.Infidelity(ghz4_target)\n",
    "trace_dist = met.TraceDistance(ghz4_target)\n",
    "circ_depth = met.CircuitDepth()\n",
    "\n",
    "# Let's look at optimal results\n",
    "print(f\"Cost functions results on perfect state/circuit:\")\n",
    "print(f\"Infidelity: {infidelity.evaluate(ghz4_target, ghz4_circuit)}\")\n",
    "print(f\"Trace distance: {trace_dist.evaluate(ghz4_target, ghz4_circuit)}\")\n",
    "print(f\"Circuit depth: {circ_depth.evaluate(ghz4_target, ghz4_circuit)}\")\n",
    "\n",
    "# look at the logged values\n",
    "print(f\"\\nInfidelity log: {infidelity.log}\")\n",
    "print(f\"\\nTrace Distance log: {trace_dist.log}\")\n",
    "print(f\"\\nCircuit depth log: {circ_depth.log}\")"
   ]
  },
  {
   "cell_type": "markdown",
   "metadata": {
    "pycharm": {
     "name": "#%% md\n"
    }
   },
   "source": [
    "### CircuitDepth metric: normalization\n",
    "\n",
    "While the `Infidelity` and `TraceDistance` metrics have an obvious normalization, this is not the case for `CircuitDepth`. In the example above, we did not normalize circuit depth at all. However, we also allow a `depth_penalty` function to be defined."
   ]
  },
  {
   "cell_type": "code",
   "execution_count": 3,
   "metadata": {
    "pycharm": {
     "name": "#%%\n"
    },
    "ExecuteTime": {
     "end_time": "2024-01-16T03:07:29.563630Z",
     "start_time": "2024-01-16T03:07:29.559918Z"
    }
   },
   "outputs": [
    {
     "name": "stdout",
     "output_type": "stream",
     "text": [
      "Circuit depth penalty: 0.25\n"
     ]
    }
   ],
   "source": [
    "\"\"\" CircuitDepth metric: normalization \"\"\"\n",
    "\n",
    "circ_depth_quadratic = met.CircuitDepth(depth_penalty=lambda x: (x / 16) ** 2)\n",
    "print(\n",
    "    f\"Circuit depth penalty: {circ_depth_quadratic.evaluate(ghz4_target, ghz4_circuit)}\"\n",
    ")"
   ]
  },
  {
   "cell_type": "markdown",
   "metadata": {
    "pycharm": {
     "name": "#%% md\n"
    }
   },
   "source": [
    "### Function implementation\n",
    "`Infidelity` and `TraceDistance` are currently only implemented in the density matrix representation (and the state input must reflect this--currently the state input is a numpy array, but shortly a change will come in and it will be a `QuantumState` object. Nevertheless, the `QuantumState` object must have a density matrix representation). An upcoming change will add the option to run `Infidelity` in stabilizer formalism.\n",
    "They are implemented from helper functions in `graphiq/backends/density_matrix/functions.py`.\n",
    "`CircuitDepth` is implemented from a `depth` attribute in the circuit class."
   ]
  },
  {
   "cell_type": "markdown",
   "metadata": {
    "pycharm": {
     "name": "#%% md\n"
    }
   },
   "source": [
    "## Joint metrics\n",
    "\n",
    "It can be useful to consider multiple metrics at once in our cost function. \n"
   ]
  },
  {
   "cell_type": "code",
   "execution_count": 8,
   "metadata": {
    "pycharm": {
     "name": "#%%\n"
    },
    "ExecuteTime": {
     "end_time": "2024-01-16T03:08:21.643073Z",
     "start_time": "2024-01-16T03:08:21.636577Z"
    }
   },
   "outputs": [
    {
     "name": "stdout",
     "output_type": "stream",
     "text": [
      "Combined metric on correct state/circuit: 0.25\n",
      "Weighted metric: 0.05\n"
     ]
    }
   ],
   "source": [
    "\"\"\" Combo metric, default weighting \"\"\"\n",
    "\n",
    "combo_metric = met.Metrics([infidelity, trace_dist, circ_depth_quadratic])\n",
    "print(\n",
    "    f\"Combined metric on correct state/circuit: {combo_metric.evaluate(ghz4_target, ghz4_circuit)}\"\n",
    ")\n",
    "\n",
    "combo_metric = met.Metrics(\n",
    "    [infidelity, trace_dist, circ_depth_quadratic], metric_weight=[0.4, 0.4, 0.2]\n",
    ")\n",
    "print(f\"Weighted metric: {combo_metric.evaluate(ghz4_target, ghz4_circuit)}\")"
   ]
  }
 ],
 "metadata": {
  "kernelspec": {
   "display_name": "Python 3 (ipykernel)",
   "language": "python",
   "name": "python3"
  },
  "language_info": {
   "codemirror_mode": {
    "name": "ipython",
    "version": 3
   },
   "file_extension": ".py",
   "mimetype": "text/x-python",
   "name": "python",
   "nbconvert_exporter": "python",
   "pygments_lexer": "ipython3",
   "version": "3.9.5"
  }
 },
 "nbformat": 4,
 "nbformat_minor": 1
}
