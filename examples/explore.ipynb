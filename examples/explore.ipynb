{
 "cells": [
  {
   "cell_type": "markdown",
   "source": [
    "# Explore alternative circuits\n",
    "In this tutorial, we explore alternative circuits that can generate the target quantum state by utilizing the set of isomorphic graphs."
   ],
   "metadata": {
    "collapsed": false
   }
  },
  {
   "cell_type": "code",
   "execution_count": 8,
   "outputs": [],
   "source": [
    "from graphiq.backends.lc_equivalence_check import iso_graph_finder\n",
    "from graphiq.backends.stabilizer.compiler import StabilizerCompiler\n",
    "from graphiq.state import QuantumState\n",
    "from graphiq.metrics import Infidelity, CircuitDepth\n",
    "from graphiq.solvers.time_reversed_solver import TimeReversedSolver\n",
    "\n",
    "import networkx as nx"
   ],
   "metadata": {
    "collapsed": false
   }
  },
  {
   "cell_type": "markdown",
   "source": [
    "Again, we target a 4-qubit linear cluster state and use utility functions for generating the set of isomorphic graphs to our target -- defined as a `networkx` graph."
   ],
   "metadata": {
    "collapsed": false
   }
  },
  {
   "cell_type": "code",
   "execution_count": 13,
   "outputs": [
    {
     "name": "stdout",
     "output_type": "stream",
     "text": [
      "24 graphs that are isomorphic to the input.\n"
     ]
    }
   ],
   "source": [
    "compiler = StabilizerCompiler()\n",
    "graph = nx.Graph([(0, 1), (1, 2), (2, 3)])\n",
    "iso_graphs = iso_graph_finder(graph)\n",
    "print(f\"{len(iso_graphs)} graphs that are isomorphic to the input.\")"
   ],
   "metadata": {
    "collapsed": false
   }
  },
  {
   "cell_type": "markdown",
   "source": [
    "We first check the circuit depth of the generating circuit identified using the `TimeReversedSolver` for the original target. "
   ],
   "metadata": {
    "collapsed": false
   }
  },
  {
   "cell_type": "code",
   "execution_count": 21,
   "outputs": [
    {
     "name": "stdout",
     "output_type": "stream",
     "text": [
      "Starting graph has depth 9.\n"
     ]
    }
   ],
   "source": [
    "target = QuantumState(graph, rep_type=\"graph\")\n",
    "metric = CircuitDepth()\n",
    "solver = TimeReversedSolver(\n",
    "    target=target,\n",
    "    metric=metric,\n",
    "    compiler=compiler,\n",
    ")\n",
    "solver.solve()\n",
    "best_score, circuit = solver.result\n",
    "\n",
    "print(f\"Starting graph has depth {best_score}.\")"
   ],
   "metadata": {
    "collapsed": false
   }
  },
  {
   "cell_type": "markdown",
   "source": [
    "We then loop over all graphs that are isomorphic to our original target, compute a generating circuit, and check the circuit depth for all. In this way, we exhaustively look for a generating circuit that has lower depth."
   ],
   "metadata": {
    "collapsed": false
   }
  },
  {
   "cell_type": "code",
   "execution_count": 22,
   "outputs": [
    {
     "name": "stdout",
     "output_type": "stream",
     "text": [
      "Best score is 6\n"
     ]
    }
   ],
   "source": [
    "for graph in iso_graphs:\n",
    "    solver = TimeReversedSolver(\n",
    "        target=QuantumState(graph, rep_type=\"graph\"),\n",
    "        metric=metric,\n",
    "        compiler=compiler,\n",
    "    )\n",
    "    solver.solve()\n",
    "    score, circuit = solver.result\n",
    "    if score < best_score:\n",
    "        best_score = score\n",
    "\n",
    "print(f\"Best score is {best_score}\")"
   ],
   "metadata": {
    "collapsed": false
   }
  }
 ],
 "metadata": {
  "kernelspec": {
   "display_name": "Python 3",
   "language": "python",
   "name": "python3"
  },
  "language_info": {
   "codemirror_mode": {
    "name": "ipython",
    "version": 2
   },
   "file_extension": ".py",
   "mimetype": "text/x-python",
   "name": "python",
   "nbconvert_exporter": "python",
   "pygments_lexer": "ipython2",
   "version": "2.7.6"
  }
 },
 "nbformat": 4,
 "nbformat_minor": 0
}
