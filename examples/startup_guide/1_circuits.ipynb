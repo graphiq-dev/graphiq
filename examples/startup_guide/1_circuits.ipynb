{
 "cells": [
  {
   "cell_type": "markdown",
   "metadata": {
    "collapsed": true
   },
   "source": [
    "# Building a circuit : Introductions to  Operations, Circuit, CircuitDAG, DAG visualization, openQASM/qiskit visualization, and pre-built circuits"
   ]
  },
  {
   "cell_type": "markdown",
   "metadata": {},
   "source": [
    "## Overview [Public API]\n",
    "\n",
    "The circuit classes contain our quantum algorithms (that is, the time-ordered sequence of operations which we apply on specific qubits to get from our input states to our target states).\n",
    "\n",
    "They can, in principle, be represented in multiple different ways. Currently, our code base supports:\n",
    "1. Directed-acyclic graph (DAG) circuit representation, for simulation\n",
    "2. openQASM representation, for saving data, conversion to IBM's qiskit platform (note: this is only a visual compatibility at this point--more work is likely required to be able to simulate our circuits in qiskit)."
   ]
  },
  {
   "cell_type": "markdown",
   "metadata": {},
   "source": [
    "## Photonic Circuits [Public API]\n",
    "\n",
    "Our discrete photonic quantum circuits have 3 types of registers:\n",
    "1. **Classical registers:** these registers store classical information like measurement results and can be used to control the application of gates on qubits. Typically, only one classical register is needed\n",
    "2. **Photonic quantum registers:** these qubit registers are the qubits used in the construction of our target quantum state.\n",
    "3. **Emitter quantum registers:** these registers are solid state qubits, which can generate photons (while this is not enforced by the circuit class, the emitters in fact generate the photon).\n",
    "\n",
    "All the registers are zero-indexed. At this stage in the implementation, we only consider single-qubit registers."
   ]
  },
  {
   "cell_type": "markdown",
   "metadata": {},
   "source": [
    "## Operations\n",
    "\n",
    "**[Public API]**\n",
    "\n",
    "We support a set of operations which can be sequentially applied to form a quantum circuit. Operations are defined by the following:\n",
    "\n",
    "1. **Operation type:** this is the class of the Operation object, and tells us what type of gate the Operation applies (e.g. CNOT, Hadamard)\n",
    "2. **Their operation registers:** The operation registers defines the qubit/classical bit used by the operation. This must specify both the type of the register (classical, photonic quantum, emitter quantum), and its index."
   ]
  },
  {
   "cell_type": "code",
   "execution_count": 11,
   "metadata": {},
   "outputs": [],
   "source": [
    "\"\"\" Operation Examples \"\"\"\n",
    "import src.ops as ops\n",
    "\n",
    "# Single Qubit Examples\n",
    "# Hadamard on emitter 0\n",
    "h = ops.Hadamard(register=0, reg_type='e')\n",
    "# Pauli X gate on photon 1\n",
    "paulix = ops.SigmaX(register=1, reg_type='p')\n",
    "\n",
    "\n",
    "# Controlled Pair Example\n",
    "# CNOT controlled by emitter 0, targeting photon 1\n",
    "cnot = ops.CNOT(control=0, control_type='e', target=1, target_type='p')\n",
    "\n",
    "\n",
    "# CLassically controlled pair example\n",
    "# Classical CNOT, where emitter 2 is measured, saved to classical register 0, \n",
    "# and conditionally applied to photon 1\n",
    "ccnot = ops.ClassicalCNOT(control=2, control_type='e', target=1, target_type='p', c_register=0)\n",
    "\n",
    "# Classically controlled CNOT + measured qubit reset\n",
    "# Emitter 0 is measured, saved to classical reg 0, conditional gate on photon 0\n",
    "ccnot_reset = ops.MeasurementCNOTandReset(control=0, control_type='e',\n",
    "                                          target=0, target_type='p',\n",
    "                                          c_register=0)"
   ]
  },
  {
   "cell_type": "markdown",
   "metadata": {},
   "source": [
    "In certain conditions, it may be useful to define a single operation object which applies multiple gates sequentially.\n",
    "\n",
    "**NOTE:** this feature is only supported for single-qubit operations at the moment"
   ]
  },
  {
   "cell_type": "code",
   "execution_count": 12,
   "metadata": {},
   "outputs": [],
   "source": [
    "\"\"\" Operation Wrapper Example \"\"\"\n",
    "\n",
    "HP_gate = ops.OneQubitGateWrapper([ops.Hadamard, ops.Phase], register=0, reg_type='p')\n",
    "\n",
    "# NOTE: this applies first a phase gate, then a Hadamard gate on the register (following usual convention)"
   ]
  },
  {
   "cell_type": "markdown",
   "metadata": {},
   "source": [
    "Optionally, a noise model can be proposed for each `Operation` (by default, the noise model is `NoNoise`)."
   ]
  },
  {
   "cell_type": "code",
   "execution_count": 10,
   "metadata": {},
   "outputs": [],
   "source": [
    "import src.noise.noise_models as nm\n",
    "h_with_noise = ops.CNOT(\n",
    "    control=0,\n",
    "    control_type='e',\n",
    "    target=0,\n",
    "    target_type='p',\n",
    "    noise = nm.PauliError(\"X\")\n",
    ")"
   ]
  },
  {
   "cell_type": "markdown",
   "metadata": {},
   "source": [
    "### Operation Base Classes/Inheritance [Implementer Info]\n",
    "\n",
    "Because we want to be able to support different state representations with few changes to the API, these operation objects **do not encode how we apply the operation to the state**. That is, there is no code in these Operation objects that tells us how they modify states (this is handled in the compilers).\n",
    "\n",
    "Then, there is a lot of similarities between the implementation of these different operation objects. To avoid rewriting the code repeatedly (bad practice, since it means each change must be made in multiple places!), we use **base classes** from which specific Operation objects (e.g. the Hadamard and CNOT viewed above) inherit code."
   ]
  },
  {
   "cell_type": "markdown",
   "metadata": {},
   "source": [
    "#### OperationBase\n",
    "\n",
    "All Operation classes **inherit** from `OperationBase`.\n",
    "\n",
    "**Python note:** A child class (e.g. `Hadamard`) may inherit from a parent class (e.g. `OperationBase`). This means that you can call functions on a child which ARE NOT EXPLICITLY defined in the child, if they are explicitly defined in the parent--if the child does not have its own version of the function, the code called will be the parent-code.\n",
    "\n",
    "From an implementation point of view, this is also useful in the circuit implementation because the common superclass of the operations allows us to manipulate `Operation` objects in the same way regardless of their actual corresponding gate. \n",
    "\n",
    "Operation base has `q_registers`, `q_registers_type` and `c_registers` , in which it saves the information of which quantum/classical registers of the circuit it must act on. It also contains a noise model."
   ]
  },
  {
   "cell_type": "code",
   "execution_count": 13,
   "metadata": {},
   "outputs": [],
   "source": [
    "\"\"\" A look into OperationBase \"\"\"\n",
    "\n",
    "# Operation object which acts on quantum registers 0, 1 and classical register 0\n",
    "base0 = ops.OperationBase(q_registers=(0, 1), \n",
    "                          q_registers_type=('e', 'p'),\n",
    "                          c_registers=(0,))\n",
    "\n",
    "# Careful, base0 may not be the same as base1! Order of register matters\n",
    "base1 = ops.OperationBase(q_registers=(1, 0), \n",
    "                          q_registers_type=('e', 'p'),\n",
    "                          c_registers=(1,))\n",
    "\n",
    "# NOTE: the comma in c_registers=(0,) is necessary in python to make c_registers a TUPLE (iterable data) instead of an int"
   ]
  },
  {
   "cell_type": "markdown",
   "metadata": {},
   "source": [
    "#### InputOutputOperationBase, SingleQubitOperationBase, InputOutputOperationBase, ControlledPairOperationBase, ClassicalControlledPairOperationBase\n",
    "\n",
    "All the above inherit from `OperationBase`: like `OperationBase`, they exist such that we can recycle code between similar operations (for example, all single-qubit unitary gates acting on qubits need similar info stored)\n",
    "\n",
    "See `ops.py` for their precise implementations"
   ]
  },
  {
   "cell_type": "markdown",
   "metadata": {},
   "source": [
    "#### The \"real\" operations\n",
    "\n",
    "Finally, we get to the \"real\" operations which we want in our circuit (note that you can PLACE the base classes in the circuit object--mostly for testing purposes--but that the compiler will raise an error if you try to compile the base classes)\n",
    "\n",
    "These include:\n",
    "\n",
    "**InputOutputOperationBase** types: Input, Output (these are simply placeholder Operations to signal the beginning/end of the circuit)\n",
    "\n",
    "**SingleQubitOperationBase** types: Hadamard, SigmaX,SigmaY, SigmaZ\n",
    "\n",
    "**ControlledPairOperationBase** types: CNOT, CPHASE\n",
    "\n",
    "**ClassicalControlledPairOperationBase** types: classical CNOT/CPHASE, MeasurementCNOTandReset (same as classical CNOT, with the measured qubit being reset to |0>)\n",
    "\n",
    "**OperationBase** type (though we may want another base class later for this, if we implement more): MeasurementZ\n"
   ]
  },
  {
   "cell_type": "markdown",
   "metadata": {},
   "source": [
    "## Circuit Class\n",
    "\n",
    "//TODO"
   ]
  }
 ],
 "metadata": {
  "kernelspec": {
   "display_name": "Python 3 (ipykernel)",
   "language": "python",
   "name": "python3"
  },
  "language_info": {
   "codemirror_mode": {
    "name": "ipython",
    "version": 3
   },
   "file_extension": ".py",
   "mimetype": "text/x-python",
   "name": "python",
   "nbconvert_exporter": "python",
   "pygments_lexer": "ipython3",
   "version": "3.9.5"
  }
 },
 "nbformat": 4,
 "nbformat_minor": 1
}
