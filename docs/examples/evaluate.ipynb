{
 "cells": [
  {
   "cell_type": "markdown",
   "source": [
    "# Mapping a target state to a generating circuit\n"
   ],
   "metadata": {
    "collapsed": false
   }
  },
  {
   "cell_type": "code",
   "execution_count": 4,
   "outputs": [
    {
     "name": "stdout",
     "output_type": "stream",
     "text": [
      "The autoreload extension is already loaded. To reload it, use:\n",
      "  %reload_ext autoreload\n"
     ]
    }
   ],
   "source": [
    "%load_ext autoreload\n",
    "%autoreload 2"
   ],
   "metadata": {
    "collapsed": false
   }
  },
  {
   "cell_type": "code",
   "execution_count": 15,
   "outputs": [],
   "source": [
    "from graphiq.backends.stabilizer.compiler import StabilizerCompiler\n",
    "from graphiq.state import QuantumState\n",
    "from graphiq.metrics import Infidelity, CircuitDepth\n",
    "from graphiq.solvers.deterministic_solver import DeterministicSolver\n",
    "\n",
    "import networkx as nx"
   ],
   "metadata": {
    "collapsed": false
   }
  },
  {
   "cell_type": "code",
   "execution_count": 8,
   "outputs": [],
   "source": [
    "compiler = StabilizerCompiler()\n",
    "graph = nx.Graph([(0, 1), (1, 2), (2, 3)])\n",
    "target = QuantumState(graph, rep_type=\"graph\")\n",
    "metric = Infidelity(target)"
   ],
   "metadata": {
    "collapsed": false
   }
  },
  {
   "cell_type": "code",
   "execution_count": 10,
   "outputs": [],
   "source": [
    "solver = DeterministicSolver(\n",
    "    target=target,\n",
    "    metric=metric,\n",
    "    compiler=compiler,\n",
    ")"
   ],
   "metadata": {
    "collapsed": false
   }
  },
  {
   "cell_type": "code",
   "execution_count": 19,
   "outputs": [
    {
     "name": "stdout",
     "output_type": "stream",
     "text": [
      "The fidelity between the target and generated states is 1.0\n",
      "Circuit depth is 9\n"
     ]
    },
    {
     "data": {
      "text/plain": "<Figure size 640x480 with 1 Axes>",
      "image/png": "[encoded data removed]"
     },
     "metadata": {},
     "output_type": "display_data"
    },
    {
     "data": {
      "text/plain": "(<Figure size 640x480 with 1 Axes>, <Axes: >)"
     },
     "execution_count": 19,
     "metadata": {},
     "output_type": "execute_result"
    }
   ],
   "source": [
    "solver.solve()\n",
    "score, circuit = solver.result\n",
    "print(f\"The fidelity between the target and generated states is {1 - score}\")\n",
    "depth = CircuitDepth()\n",
    "print(f\"Circuit depth is {depth.evaluate(state=None, circuit=circuit)}\")\n",
    "circuit.draw_circuit()"
   ],
   "metadata": {
    "collapsed": false
   }
  }
 ],
 "metadata": {
  "kernelspec": {
   "display_name": "Python 3",
   "language": "python",
   "name": "python3"
  },
  "language_info": {
   "codemirror_mode": {
    "name": "ipython",
    "version": 2
   },
   "file_extension": ".py",
   "mimetype": "text/x-python",
   "name": "python",
   "nbconvert_exporter": "python",
   "pygments_lexer": "ipython2",
   "version": "2.7.6"
  }
 },
 "nbformat": 4,
 "nbformat_minor": 0
}
