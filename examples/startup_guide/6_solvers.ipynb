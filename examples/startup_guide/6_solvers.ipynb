{
 "cells": [
  {
   "cell_type": "markdown",
   "metadata": {
    "collapsed": true
   },
   "source": [
    "\n",
    "Our `EvolutionarySolver` is a probabilistic solver where a population of candidate circuits are mutated and repeatedly evaluated / improved. This solver should be flexible/capable of targeting different circuit construction criteria. However, it is not guaranteed to produce a result of a certain quality.\n",
    "\n",
    "Our `DeterministicSolver` follows a polynomial algorithm designed by Li et al, and can deterministically create a given target state. However, it is a) in development at the moment and b) restricted to a very particular objective (i.e. relies on particular hardware, cannot account for noise in the design)."
   ]
  }
 ],
 "metadata": {
  "kernelspec": {
   "display_name": "Python 3 (ipykernel)",
   "language": "python",
   "name": "python3"
  },
  "language_info": {
   "codemirror_mode": {
    "name": "ipython",
    "version": 3
   },
   "file_extension": ".py",
   "mimetype": "text/x-python",
   "name": "python",
   "nbconvert_exporter": "python",
   "pygments_lexer": "ipython3",
   "version": "3.9.5"
  }
 },
 "nbformat": 4,
 "nbformat_minor": 1
}
