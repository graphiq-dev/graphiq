{
 "cells": [
  {
   "cell_type": "markdown",
   "metadata": {
    "collapsed": true
   },
   "source": [
    "# Startup Example: Using the Graph Compiler Package Functionalities"
   ]
  },
  {
   "cell_type": "markdown",
   "metadata": {},
   "source": [
    "## Objective\n",
    "\n",
    "The goal of this objective is to introduce users to main classes used in our package. This document is primarily targeted to implementers, but may also be useful for other users. It also provides some explanations of python, where deemed useful\n",
    "\n",
    "The generally used API will be denoted by **\"\"\"[Public API]\"\"\"** in the python code snippets; this is information that any users of the software should generally know, and we should aim to make few changes to that public interface.\n",
    "\n",
    "Notes to the implementer will be denoated by **\"\"\"[Implementer info]\"\"\"**; this is information that would ordinarily be abstracted away from users, but that implementers need to know. This info will be subject to rapid change--if this document is failing/seems to be contradicting the code base, please feel free to update it to reflect the latest implementation information!"
   ]
  },
  {
   "cell_type": "markdown",
   "metadata": {},
   "source": [
    "### Last modified: 2022-05-25"
   ]
  },
  {
   "cell_type": "markdown",
   "metadata": {},
   "source": [
    "## Table of Contents\n",
    "\n",
    "1. Building a Circuit (introduction to Operations, Circuit, CircuitDAG, and associated visualizations)\n",
    "2. Creating a state (introduction to State and State Representations, and associated visualizations)\n",
    "3. Run a Circuit (introduction to Compilers and modularization)\n",
    "4. Solver and Metric APIs\n",
    "5. Miscellaneous details (openQASM support)\n",
    "\n",
    "Let's get into it!"
   ]
  },
  {
   "cell_type": "markdown",
   "metadata": {},
   "source": [
    "## Building a Circuit\n",
    "### Operation classes\n",
    "\n",
    "We have a set of operations which can be sequentially applied to form a quantum circuit. Operations should have two conceptual features:\n",
    "1. An operation type. This is the actual **class** of the Operation object, and tells us what kind of gate the operation corresponds to (e.g. Hadamard, pauli X, or CNOT)\n",
    "2. A set of registers to which the operation is applied. **This tells us which qudit/cbits the gate must act on**. The number of registers provided should match the number of registers expected by the operation type"
   ]
  },
  {
   "cell_type": "code",
   "execution_count": 47,
   "metadata": {},
   "outputs": [],
   "source": [
    "\"\"\" Public API \"\"\"\n",
    "# Declaring Operation objects\n",
    "import src.ops as ops  # this import is necessary to access the operation classes\n",
    "\n",
    "h = ops.Hadamard(register=0)\n",
    "cnot = ops.CNOT(control=0, target=1)"
   ]
  },
  {
   "cell_type": "markdown",
   "metadata": {},
   "source": [
    "**Python note**: in the preceding example, we chose to import the `ops.py` MODULE as `ops`. Then, to access any of its functions, we must write `ops.<function name>`. Alternatively, we could import specific classes (or functions) from `ops.py`:"
   ]
  },
  {
   "cell_type": "code",
   "execution_count": 48,
   "metadata": {},
   "outputs": [],
   "source": [
    "\"\"\" Public API \"\"\"\n",
    "# Alternate import option\n",
    "from src.ops import Hadamard, CNOT\n",
    "\n",
    "h = Hadamard(register=0)\n",
    "cnot = ops.CNOT(control=0, target=1)"
   ]
  },
  {
   "cell_type": "markdown",
   "metadata": {},
   "source": [
    "### Operation Base Classes\n",
    "\n",
    "Because we want to be able to support different state representations with few changes to the API, these operation objects **do not encode how we apply the operation to the state**. That is, there is no code in these Operation objects that tells us how they modify states (this is handled in the compiler, which we will get to).\n",
    "\n",
    "Then, there is a lot of similarities between the implementation of these different operation objects. To avoid rewriting the code repeatedly (bad practice, since it means each change must be made in multiple places!), we use **base classes** which specific Operation objects (e.g. the Hadamard and CNOT viewed above) can INHERIT code.\n",
    "\n",
    "\n",
    "#### OperationBase\n",
    "\n",
    "All Operation classes **inherit** from `OperationBase`.\n",
    "\n",
    "**Python note:** A child class (e.g. `Hadamard`) may inherit from a parent class (e.g. `OperationBase`). This means that you can call functions on a child which ARE NOT EXPLICITLY defined in the child, if they are explicitly defined in the parent--if the child does not have its own version of the function, the code called will be the parent-code.\n",
    "\n",
    "Operation base has `q_registers` and `c_registers`, in which it saves the information of which quantum/classical registers of the circuit it must act on."
   ]
  },
  {
   "cell_type": "code",
   "execution_count": 49,
   "metadata": {},
   "outputs": [],
   "source": [
    "\"\"\" [Implementer Info] \"\"\"\n",
    "\n",
    "# Operation object which acts on quantum registers 0, 1 and classical register 0\n",
    "base0 = ops.OperationBase(q_registers=(0, 1), c_registers=(0,))\n",
    "\n",
    "# Careful, base0 may not be the same as base1! Order of register matters\n",
    "base1 = ops.OperationBase(q_registers=(1, 0), c_registers=(1,))\n",
    "\n",
    "# NOTE: the comma in c_registers=(0,) is necessary in python to make c_registers a TUPLE (iterable data) instead of an int"
   ]
  },
  {
   "cell_type": "markdown",
   "metadata": {},
   "source": [
    "#### SingleQubitOperationBase, InputOutputOperationBase, ControlledPairOperationBase, ClassicalControlledPairOperationBase\n",
    "\n",
    "All the above inherit from `OperationBase`: like `OperationBase`, they exist such that we can recycle code between similar operations (for example, all single-qubit unitary gates acting on qubits need similar info stored)\n",
    "\n",
    "See `ops.py` for their precise implementations"
   ]
  },
  {
   "cell_type": "markdown",
   "metadata": {},
   "source": [
    "#### The \"real\" operations\n",
    "\n",
    "Finally, we get to the \"real\" operations which we want in our circuit (note that you can PLACE the base classes in the circuit object--mostly for testing purposes--but that the compiler will raise an error if you try to compile the base classes)\n",
    "\n",
    "These include:\n",
    "\n",
    "**SingleQubitOperationBase** types: Hadamard, SigmaX,SigmaY, SigmaZ\n",
    "\n",
    "**ControlledPairOperationBase** types: CNOT, CPHASE\n",
    "\n",
    "**ClassicalControlledPairOperationBase** types: classical CNOT/CPHASE\n",
    "**OperationBase** type (though we may want another base class later for this, if we implement more): MeasurementZ\n",
    "\n",
    "See the \"\"\"[Public API] \"\"\" code above for examples of those."
   ]
  },
  {
   "cell_type": "markdown",
   "metadata": {},
   "source": [
    "### Registers\n",
    "\n",
    "Some pieces software (e.g. qiskit, openQASM from IBM) support both **register indexing** and **(register, qubit) indexing** for their operations.\n",
    "\n",
    "For example:\n",
    "\n",
    "`two_qubit_op a b` would act on registers a, b (that is, we apply `two_qubit_op` $a[i], b[i] \\forall i \\in \\{0,..., |A| - 1 = |B| - 1\\}$ where $|A|$ is the number of qubits in A, $|B|$ is the number of qubits in B.\n",
    "\n",
    "`two_qubit_op a b[i]` would act on register a, and qubit i of register b (that is, we apply `two_qubit_op`$a[j], b[i] \\forall j \\in \\{0, ..., |A| - 1\\}$\n",
    "\n",
    "`two_qubit_op a[i] b` would act on qubit i of register a, and register b (that is, we apply `two_qubit_op`$a[i], b[j] \\forall j \\in \\{0, ..., |B| - 1\\}$\n",
    "\n",
    "`two_qubit_op a[j] b[i]` would act on qubit j of register a, and qubit i of register b (that is, we apply `two_qubit_op`$a[j], b[i]$"
   ]
  },
  {
   "cell_type": "markdown",
   "metadata": {},
   "source": [
    "Our software also supports this capabilities. We assume that assigning to an Operation an integer as a register refers to the full register, and that assigning to an operation a TUPLE as a register refers to the specific qubit.\n",
    "\n",
    "This is discussed further under our `circuit.py` discussion"
   ]
  },
  {
   "cell_type": "code",
   "execution_count": 50,
   "metadata": {},
   "outputs": [],
   "source": [
    "\"\"\" [Public API] \"\"\"\n",
    "\n",
    "# Index operation to the register 0\n",
    "H_reg = Hadamard(register=0)\n",
    "\n",
    "# Index operation to the register 0, qubit 0\n",
    "H_reg_q = Hadamard(register=(0, 0))\n",
    "\n",
    "# Index operation between registers\n",
    "cnot_reg = CNOT(control=0, target=1)  # NOTE: register 0, 1 will need to have the same size in the circuit\n",
    "\n",
    "# Index operation between a register, and a (reg, qubit) pair\n",
    "cnot_reg_reg_q = CNOT(control=(0, 0), target=1)\n",
    "\n",
    "# Index operation to two specific qubits\n",
    "cnot_reg_q = CNOT(control=(0, 0), target=(0, 1))"
   ]
  },
  {
   "cell_type": "markdown",
   "metadata": {},
   "source": [
    "#### Implementers note: what is @property, @<...>.setter?\n",
    "\n",
    "Here's a python explanation if you're interested: https://www.freecodecamp.org/news/python-property-decorator/\n",
    "\n",
    "In our code specifically, we use it so that when the `q_registers`/`c_registers` which are defined in `OperationBase` are modified in a child of `OperationBase`, the child will also update its `register` or `control, target` object fields. This becomes useful in the circuit class."
   ]
  },
  {
   "cell_type": "markdown",
   "metadata": {},
   "source": [
    "### The Circuit Class\n",
    "\n",
    "The circuit class is built to remember with `Operation`-type objects to apply in each order.\n",
    "\n",
    "Like with `OperationBase`, we have a base class called `Circuit` (to allow future software expansions). Unlike `OperationBase`, we only have one circuit implementation at the moment, called `CircuitDAG`.\n",
    "\n",
    "`CircuitDAG` represents a circuit via a directed acyclic graph (DAG)."
   ]
  },
  {
   "cell_type": "markdown",
   "metadata": {},
   "source": [
    "#### What is the DAG representation?\n",
    "\n",
    "The circuit DAG representation is used by other simulator softwares such as qiskit (IBM). Each NODE of the graph corresponds to an operation. Each EDGE of the graph corresponds to a qubit.\n",
    "\n",
    "The graph is directed because the operations have an order. The direction of the edges follows the direction of time.\n",
    "\n",
    "The graph is acyclic, because each a loop would indicate that a certain operation A occurs both before and after a certain operation B.\n",
    "\n",
    "Example:\n",
    "\n",
    "![DAG example](img/circuit_dag_explanation.PNG \"DAG Circuit Example\")"
   ]
  },
  {
   "cell_type": "markdown",
   "metadata": {},
   "source": [
    "#### What operations do circuits support?\n",
    "\n",
    "Find out below..."
   ]
  },
  {
   "cell_type": "code",
   "execution_count": 51,
   "metadata": {},
   "outputs": [],
   "source": [
    "\"\"\" Public API \"\"\"\n",
    "import src.ops as ops   # we did this earlier so not technically needed\n",
    "from src.circuit import CircuitDAG\n",
    "\n",
    "# NOTE: all the operations below are callable on any circuit object\n",
    "# but... we will only have CircuitDAG implemented for the foreseeable future\n",
    "\n",
    "# Create a circuit with 2 quantum registers and 1 classical registers\n",
    "# If you don't specify n_quantum, n_classical, an empty circuit (no registers) is created by default\n",
    "circuit = CircuitDAG(n_quantum=2, n_classical=0)\n",
    "\n",
    "# Add Operations to the circuit to create a Bell state\n",
    "circuit.add(Hadamard(register=0))\n",
    "circuit.add(CNOT(control=0, target=1))\n",
    "\n",
    "# Used for testing: make sure the circuit is \"valid\" (see docstring)\n",
    "circuit.validate()  # will raise an AssertionError if not valid!"
   ]
  },
  {
   "cell_type": "code",
   "execution_count": 52,
   "metadata": {},
   "outputs": [
    {
     "data": {
      "text/plain": "<Figure size 432x288 with 1 Axes>",
      "image/png": "[encoded data removed]"
     },
     "metadata": {},
     "output_type": "display_data"
    }
   ],
   "source": [
    "\"\"\" Public API \"\"\"\n",
    "\n",
    "# Great, we've built a circuit! Let's see what it looks like\n",
    "\n",
    "circuit.show()"
   ]
  },
  {
   "cell_type": "markdown",
   "metadata": {},
   "source": [
    "We see that node 1 seems to be the Hadamard, and node 2 is the CNOT.\n",
    "\n",
    "In general, the operations are NUMBERED IN THE ORDER THEY WERE ADDED TO THE CIRCUIT. If you add an Operation on registers of size > 1, each pair of qubits affected by the Operation get their own number. **By default, registers are single-qubit registers**.\n",
    "\n",
    "Ok, but it's not super easy to read this circuit... so we also provide a separate visualization function:"
   ]
  },
  {
   "cell_type": "code",
   "execution_count": 53,
   "metadata": {},
   "outputs": [
    {
     "name": "stdout",
     "output_type": "stream",
     "text": [
      "OPENQASM 2.0;\n",
      "\n",
      "gate h a { U(pi/2, 0, pi) a; }\n",
      "\n",
      "qreg q0[1];\n",
      "qreg q1[1];\n",
      "\n",
      "h q0[0];\n",
      "CX q0[0], q1[0];\n"
     ]
    },
    {
     "data": {
      "text/plain": "<Figure size 432x288 with 1 Axes>",
      "image/png": "[encoded data removed]"
     },
     "metadata": {},
     "output_type": "display_data"
    }
   ],
   "source": [
    "\"\"\" [Public API] \"\"\"\n",
    "# Let's see what the circuit looks like in a conventional format\n",
    "import matplotlib.pyplot as plt\n",
    "from src.visualizers.openqasm_visualization import draw_openqasm\n",
    "\n",
    "\"\"\"\n",
    "First, we need to get a STRING of the openQASM code that matches our circuit...\n",
    "This information is stored partly in the circuit and its Operations at \n",
    "runtime, and is queried from src.libraries.openqasm_lib.py\n",
    "\n",
    "[Implementer info] New implemented Operations will need to have their openQASM definitions added\n",
    "to be visualized!\n",
    "\"\"\"\n",
    "\n",
    "# Get openQASM representation of circuit\n",
    "openqasm_str = circuit.to_openqasm()\n",
    "print(openqasm_str)\n",
    "\n",
    "# Draw the circuit (calls on qiskit functionalities right now)\n",
    "# I wouldn't worry about the implementation, it's likely to change\n",
    "fig, ax = plt.subplots()\n",
    "draw_openqasm(openqasm_str, show=False, ax=ax)\n",
    "plt.show()"
   ]
  },
  {
   "cell_type": "markdown",
   "metadata": {},
   "source": [
    "#### Get a sequence of operations\n",
    "\n",
    "In our software, the circuit is responsible for providing the compiler with a sequence of operations to compile. This sequence is built from the nodes of the graph provided in \"topological\" order:"
   ]
  },
  {
   "cell_type": "code",
   "execution_count": 54,
   "metadata": {},
   "outputs": [
    {
     "name": "stdout",
     "output_type": "stream",
     "text": [
      "operation objects (sequence):\n",
      "[<src.ops.Input object at 0x00000242201A7E50>, <src.ops.Input object at 0x00000242201A7910>, <src.ops.Hadamard object at 0x0000024221013970>, <src.ops.CNOT object at 0x0000024220517B80>, <src.ops.Output object at 0x00000242201A73A0>, <src.ops.Output object at 0x00000242201A7BB0>]\n"
     ]
    }
   ],
   "source": [
    "op_seq = circuit.sequence()\n",
    "print(\"operation objects (sequence):\")\n",
    "print(op_seq)"
   ]
  },
  {
   "cell_type": "markdown",
   "metadata": {},
   "source": [
    "#### Working with registers\n",
    "\n",
    "As mentioned under Operations, we may want to allow both single-qubit quantum registers and multi-qubit quantum registers (where the registers act as a \"shortcut command\" for applying operation on multiple qubits at once).\n",
    "\n",
    "We don't (in general) want our solver to be CONSTRAINED to only using the registers it started with. As such, we provide a few mechanisms to expand the circuit:\n",
    "1. `add_quantum_register(size=<desired size of new register>)`/`add_classical_register(size=<desired size of new register>)`. These allow us to explicitly create a new register of a certain size.\n",
    "2. `expand_quantum_register(register, new_size)`/`expand_classical_register(register, new_size)`. This allows us to explicitly expand a previously created register\n",
    "3. Adding an Operation using `circuit.add(op)` as above, where `op` contains a previously not included register (though careful! The register numbers must remain continuous or an error will be raised."
   ]
  },
  {
   "cell_type": "code",
   "execution_count": 55,
   "metadata": {},
   "outputs": [
    {
     "data": {
      "text/plain": "<Figure size 432x288 with 1 Axes>",
      "image/png": "[encoded data removed]"
     },
     "metadata": {},
     "output_type": "display_data"
    }
   ],
   "source": [
    "\"\"\"[Public API]\"\"\"\n",
    "\n",
    "# Create an empty circuit to start\n",
    "circuit = CircuitDAG()\n",
    "fig, ax = plt.subplots()\n",
    "draw_openqasm(circuit.to_openqasm(), show=False, ax=ax)\n",
    "plt.show()  # NOTE: we see just a white square... because it's empty!\n",
    "\n",
    "\n",
    "# 1. Add 2 quantum registers of size 3, 1 classical register of size 1\n",
    "\n",
    "\n"
   ]
  }
 ],
 "metadata": {
  "kernelspec": {
   "display_name": "Python 3 (ipykernel)",
   "language": "python",
   "name": "python3"
  },
  "language_info": {
   "codemirror_mode": {
    "name": "ipython",
    "version": 3
   },
   "file_extension": ".py",
   "mimetype": "text/x-python",
   "name": "python",
   "nbconvert_exporter": "python",
   "pygments_lexer": "ipython3",
   "version": "3.9.5"
  }
 },
 "nbformat": 4,
 "nbformat_minor": 1
}