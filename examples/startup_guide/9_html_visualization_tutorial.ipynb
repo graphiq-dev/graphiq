{
 "cells": [
  {
   "cell_type": "markdown",
   "id": "31a001e7",
   "metadata": {},
   "source": [
    "# HTML Visualization\n",
    "\n",
    "The visualization module includes 3 parts:\n",
    "- A web app that can handle visualization info.\n",
    "- `Painter` class that helps in building positions, coordinates mapping, and visualization info to send to the app.\n",
    "- `OpenQASMParser` class, a parser that helps extract useful information from the OpenQASM 2.0 string"
   ]
  },
  {
   "cell_type": "markdown",
   "id": "348a8f7b",
   "metadata": {},
   "source": [
    "## Web app (Built with Flask):\n",
    "The web app is used to handle the visualization info and draw the svg figure on the html\n",
    "\n",
    "### How to start the app\n",
    "1. Install `Flask`: If you haven't install `Flask`, run:\n",
    "`pip install Flask` or `pip install -r requirements.txt` since the `Flask` package is included in the `requirements.txt` file\n",
    "\n",
    "2. In the `html_visualization` directory, you can see a file called `app.py`. \n",
    "Simply run `python app.py` or run the `app.py` file on PyCharm IDE.\n",
    "\n",
    "3. Open a new tab on Google Chrome, and type in `127.0.0.1:5000` and you will see the app open\n",
    "\n",
    "Here is how the app looks like at first. Don't worry if you see the page is empty, that's how the web app is initialized. We will get to the part where we send visualization info to the app and it will draw on the svg element.\n",
    "\n",
    "![app_init](../img/html_visualization/app_init.png \"App Init\")"
   ]
  },
  {
   "cell_type": "markdown",
   "id": "b4d91891",
   "metadata": {},
   "source": [
    "## `Painter` class:\n",
    "This class provides useful tools to create positions, mapping, and visualization info that will send to the web app."
   ]
  },
  {
   "cell_type": "markdown",
   "id": "f64bffc5",
   "metadata": {},
   "source": [
    "## Draw tutorial\n",
    "In order to draw, you will need to import the `Painter` class, the class constructor take no arguement to initialize.\n",
    "Each time you add something new to draw remember to called the function `draw()`, it's the main function that send visualization info to the web app.\n",
    "\n",
    "### Add register\n",
    "1. Fisrt we initialize the `Painter` class.\n",
    "2. Then we called the `add_register` function, the function takes 3 arguements: `reg_name`, `size`, and `reg-type`. The `reg_type` default value is 'qreg'. but when we specify 'creg' it will draw classical register instead.\n",
    "3. And then called the `draw()` function, which will send the visualization info to the web app"
   ]
  },
  {
   "cell_type": "code",
   "execution_count": 11,
   "id": "163c4921",
   "metadata": {},
   "outputs": [
    {
     "name": "stdout",
     "output_type": "stream",
     "text": [
      "{'qreg': {'p[0]': 50, 'p[1]': 100, 'p[2]': 150, 'p[3]': 200}, 'creg': {'c[4]': 250}}\n"
     ]
    },
    {
     "data": {
      "text/plain": [
       "<Response [200]>"
      ]
     },
     "execution_count": 11,
     "metadata": {},
     "output_type": "execute_result"
    }
   ],
   "source": [
    "from src.utils.draw import Painter\n",
    "\n",
    "painter = Painter()\n",
    "painter.add_register(reg_name=\"p\", size=4)\n",
    "painter.add_register(reg_name=\"c\", size=4, reg_type='creg')\n",
    "\n",
    "\"\"\"\n",
    "The register label positions is stored in the registers_position variable.\n",
    "The variable store the y coordinates of the label. \n",
    "\"\"\"\n",
    "print(painter.registers_position)\n",
    "painter.draw()"
   ]
  },
  {
   "cell_type": "markdown",
   "id": "4ce489a0",
   "metadata": {},
   "source": [
    "![draw_reg](../img/html_visualization/draw_reg.png \"Draw registers example\")"
   ]
  },
  {
   "cell_type": "markdown",
   "id": "b9113069",
   "metadata": {},
   "source": [
    "### Add operations\n",
    "\n",
    "#### Add gates\n",
    "Here are some examples, on how to draw gates using the `Painter`.\n",
    "1. First, we initialize the `Painter`, and draw some registers on there.\n",
    "2. Next, we add some gates using the `add_gate` function, The function takes 4 arguments: `gate_name`, `qargs`, `params`, and `controls`.\n",
    "\n",
    "***Note***\n",
    "1. The `qargs` is a list of label which the gate acts on and however right now multi qargs is not supported, so the function will throw error."
   ]
  },
  {
   "cell_type": "code",
   "execution_count": 12,
   "id": "a2fbc93e",
   "metadata": {},
   "outputs": [
    {
     "data": {
      "text/plain": [
       "<Response [200]>"
      ]
     },
     "execution_count": 12,
     "metadata": {},
     "output_type": "execute_result"
    }
   ],
   "source": [
    "\"\"\"Add gates\"\"\"\n",
    "painter = Painter()\n",
    "painter.add_register(reg_name=\"p\", size=4, reg_type='qreg')\n",
    "painter.add_register(reg_name=\"e\", size=1, reg_type='qreg')\n",
    "painter.add_register(reg_name=\"c\", size=4, reg_type='creg')\n",
    "\n",
    "\n",
    "painter.add_gate(gate_name=\"H\", qargs=['p[0]'])\n",
    "painter.add_gate(gate_name=\"CX\", qargs=['p[1]'], controls=['e[0]'])\n",
    "painter.add_gate(gate_name=\"RX\", qargs=['p[0]'], params={'theta': 'pi/2'})\n",
    "painter.add_gate(gate_name=\"RZ\", qargs=['p[1]'], params={'theta': 'pi/8'}, controls=['e[0]'])\n",
    "painter.draw()"
   ]
  },
  {
   "cell_type": "markdown",
   "id": "fb970b35",
   "metadata": {},
   "source": [
    "![draw_gates](../img/html_visualization/draw_gates.png \"Draw gates example\")"
   ]
  },
  {
   "cell_type": "markdown",
   "id": "92bedb82",
   "metadata": {},
   "source": [
    "#### Add measurement\n",
    "\n",
    "For draw measures, we call the `add_measurement` to draw it to the web app.\n",
    "The function takes 2 arguments:\n",
    "1. `qreg` which is the qreg label that the function will draw on\n",
    "2. `creg` which is the creg label that the function will draw to\n",
    "\n",
    "Here is some example of the how to draw measurements "
   ]
  },
  {
   "cell_type": "code",
   "execution_count": 13,
   "id": "95b09181",
   "metadata": {},
   "outputs": [
    {
     "data": {
      "text/plain": [
       "<Response [200]>"
      ]
     },
     "execution_count": 13,
     "metadata": {},
     "output_type": "execute_result"
    }
   ],
   "source": [
    "for i in range(4):\n",
    "    painter.add_measurement(f\"p[{i}]\", \"c[4]\")\n",
    "    \n",
    "painter.draw()"
   ]
  },
  {
   "cell_type": "markdown",
   "id": "1be2f872",
   "metadata": {},
   "source": [
    "![draw_measure](../img/html_visualization/draw_measure.png \"Draw measurement example\")"
   ]
  },
  {
   "cell_type": "markdown",
   "id": "21d7c0ff",
   "metadata": {},
   "source": [
    "#### Add barriers\n",
    "\n",
    "For draw barriers, we call the `add_barriers` function.\n",
    "The function only takes one argument: `qreg`, which is a list of qreg labels that the function will draw the barrier on"
   ]
  },
  {
   "cell_type": "code",
   "execution_count": 14,
   "id": "0843f47c",
   "metadata": {},
   "outputs": [
    {
     "data": {
      "text/plain": [
       "<Response [200]>"
      ]
     },
     "execution_count": 14,
     "metadata": {},
     "output_type": "execute_result"
    }
   ],
   "source": [
    "painter.add_barriers([\"p[0]\", \"p[1]\", \"p[2]\", \"p[3]\", \"e[0]\"])\n",
    "painter.draw()"
   ]
  },
  {
   "cell_type": "markdown",
   "id": "dba0d866",
   "metadata": {},
   "source": [
    "![draw_barriers](../img/html_visualization/draw_barriers.png \"Draw barriers example\")"
   ]
  },
  {
   "cell_type": "markdown",
   "id": "740018f6",
   "metadata": {},
   "source": [
    "#### Add resets\n",
    "\n",
    "For draw reset, we call the `add_reset` function. The function only takes one argument `qreg`, which is a qreg label that the function will draw on"
   ]
  },
  {
   "cell_type": "code",
   "execution_count": 15,
   "id": "8ccbdeea",
   "metadata": {},
   "outputs": [
    {
     "data": {
      "text/plain": [
       "<Response [200]>"
      ]
     },
     "execution_count": 15,
     "metadata": {},
     "output_type": "execute_result"
    }
   ],
   "source": [
    "for i in [\"e[0]\", \"p[0]\", \"p[1]\", \"p[2]\", \"p[3]\"]:\n",
    "    painter.add_reset(i)\n",
    "    \n",
    "painter.draw()"
   ]
  },
  {
   "cell_type": "markdown",
   "id": "35edc254",
   "metadata": {},
   "source": [
    "![draw_reset](../img/html_visualization/draw_reset.png \"Draw resets example\")"
   ]
  },
  {
   "cell_type": "markdown",
   "id": "41fad987",
   "metadata": {},
   "source": [
    "### Load OpenQASM example\n",
    "\n",
    "To be able to draw from openqasm string, the `Painter` has a function called `load_openqasm_str`. The function takes an `OpenQASM 2.0` string as an input, and will add all the drawing information that need to be draw on the web app. \n",
    "\n",
    "Here an example, that we draw `ghz3` circuit from our `benchmarks.circuits`"
   ]
  },
  {
   "cell_type": "code",
   "execution_count": 16,
   "id": "2a7f1991",
   "metadata": {},
   "outputs": [
    {
     "name": "stderr",
     "output_type": "stream",
     "text": [
      "D:\\Jobs\\Ki3\\graph-compiler\\src\\state.py:251: UserWarning: Stabilizer representation being set is not compared to previously existing representations. Make sure the newrepresentation is consistent with other object representations\n",
      "  warnings.warn(\n"
     ]
    },
    {
     "data": {
      "text/plain": [
       "<Response [200]>"
      ]
     },
     "execution_count": 16,
     "metadata": {},
     "output_type": "execute_result"
    }
   ],
   "source": [
    "from benchmarks.circuits import *\n",
    "\n",
    "circuit, state = ghz3_state_circuit()\n",
    "openqasm = circuit.to_openqasm()\n",
    "\n",
    "painter = Painter()\n",
    "painter.load_openqasm_str(openqasm)\n",
    "painter.draw()"
   ]
  },
  {
   "cell_type": "markdown",
   "id": "75033316",
   "metadata": {},
   "source": [
    "![draw_ghz3](../img/html_visualization/ghz3.png \"Draw ghz3 example\")"
   ]
  },
  {
   "cell_type": "code",
   "execution_count": null,
   "id": "18cbc422",
   "metadata": {},
   "outputs": [],
   "source": []
  }
 ],
 "metadata": {
  "kernelspec": {
   "display_name": "graph-compiler",
   "language": "python",
   "name": "graph-compiler-env"
  },
  "language_info": {
   "codemirror_mode": {
    "name": "ipython",
    "version": 3
   },
   "file_extension": ".py",
   "mimetype": "text/x-python",
   "name": "python",
   "nbconvert_exporter": "python",
   "pygments_lexer": "ipython3",
   "version": "3.9.12"
  }
 },
 "nbformat": 4,
 "nbformat_minor": 5
}
