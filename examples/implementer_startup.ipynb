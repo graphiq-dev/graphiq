{
 "cells": [
  {
   "cell_type": "markdown",
   "metadata": {
    "collapsed": true
   },
   "source": [
    "# Startup Example: Using the Graph Compiler Package Functionalities"
   ]
  },
  {
   "cell_type": "markdown",
   "metadata": {},
   "source": [
    "## Objective\n",
    "\n",
    "The goal of this objective is to introduce users to main classes used in our package. This document is primarily targeted to implementers, but may also be useful for other users. It also provides some explanations of python, where deemed useful\n",
    "\n",
    "The generally used API will be denoted by **\"\"\"[Public API]\"\"\"** in the python code snippets; this is information that any users of the software should generally know, and we should aim to make few changes to that public interface.\n",
    "\n",
    "Notes to the implementer will be denoated by **\"\"\"[Implementer info]\"\"\"**; this is information that would ordinarily be abstracted away from users, but that implementers need to know. This info will be subject to rapid change--if this document is failing/seems to be contradicting the code base, please feel free to update it to reflect the latest implementation information!"
   ]
  },
  {
   "cell_type": "markdown",
   "metadata": {},
   "source": [
    "### Last modified: 2022-05-25"
   ]
  },
  {
   "cell_type": "markdown",
   "metadata": {},
   "source": [
    "## Table of Contents\n",
    "\n",
    "1. Building a Circuit (introduction to Operations, Circuit, CircuitDAG, and associated visualizations)\n",
    "2. Creating a state (introduction to State and State Representations, and associated visualizations)\n",
    "3. Run a Circuit (introduction to Compilers)\n",
    "4. Solver and Metric APIs\n",
    "5. Miscellaneous details (openQASM support)\n",
    "\n",
    "Let's get into it!"
   ]
  },
  {
   "cell_type": "markdown",
   "metadata": {},
   "source": [
    "## Building a Circuit\n",
    "### Operation classes\n",
    "\n",
    "We have a set of operations which can be sequentially applied to form a quantum circuit. Operations should have two conceptual features:\n",
    "1. An operation type. This is the actual **class** of the Operation object, and tells us what kind of gate the operation corresponds to (e.g. Hadamard, pauli X, or CNOT)\n",
    "2. A set of registers to which the operation is applied. **This tells us which qudit/cbits the gate must act on**. The number of registers provided should match the number of registers expected by the operation type"
   ]
  },
  {
   "cell_type": "code",
   "execution_count": 1,
   "metadata": {
    "pycharm": {
     "is_executing": true
    }
   },
   "outputs": [],
   "source": [
    "\"\"\" Public API \"\"\"\n",
    "# Declaring Operation objects\n",
    "import src.ops as ops  # this import is necessary to access the operation classes\n",
    "\n",
    "h = ops.Hadamard(register=0)\n",
    "cnot = ops.CNOT(control=0, target=1)"
   ]
  },
  {
   "cell_type": "markdown",
   "metadata": {},
   "source": [
    "**Python note**: in the preceding example, we chose to import the `ops.py` MODULE as `ops`. Then, to access any of its functions, we must write `ops.<function name>`. Alternatively, we could import specific classes (or functions) from `ops.py`:"
   ]
  },
  {
   "cell_type": "code",
   "execution_count": 2,
   "metadata": {},
   "outputs": [],
   "source": [
    "\"\"\" Public API \"\"\"\n",
    "# Alternate import option\n",
    "from src.ops import Hadamard, CNOT\n",
    "\n",
    "h = Hadamard(register=0)\n",
    "cnot = ops.CNOT(control=0, target=1)"
   ]
  },
  {
   "cell_type": "markdown",
   "metadata": {},
   "source": [
    "### Operation Base Classes\n",
    "\n",
    "Because we want to be able to support different state representations with few changes to the API, these operation objects **do not encode how we apply the operation to the state**. That is, there is no code in these Operation objects that tells us how they modify states (this is handled in the compiler, which we will get to).\n",
    "\n",
    "Then, there is a lot of similarities between the implementation of these different operation objects. To avoid rewriting the code repeatedly (bad practice, since it means each change must be made in multiple places!), we use **base classes** which specific Operation objects (e.g. the Hadamard and CNOT viewed above) can INHERIT code.\n",
    "\n",
    "\n",
    "#### OperationBase\n",
    "\n",
    "All Operation classes **inherit** from `OperationBase`.\n",
    "\n",
    "**Python note:** A child class (e.g. `Hadamard`) may inherit from a parent class (e.g. `OperationBase`). This means that you can call functions on a child which ARE NOT EXPLICITLY defined in the child, if they are explicitly defined in the parent--if the child does not have its own version of the function, the code called will be the parent-code.\n",
    "\n",
    "Operation base has `q_registers` and `c_registers`, in which it saves the information of which quantum/classical registers of the circuit it must act on."
   ]
  },
  {
   "cell_type": "code",
   "execution_count": 3,
   "metadata": {},
   "outputs": [],
   "source": [
    "\"\"\" [Implementer Info] \"\"\"\n",
    "\n",
    "# Operation object which acts on quantum registers 0, 1 and classical register 0\n",
    "base0 = ops.OperationBase(q_registers=(0, 1), c_registers=(0,))\n",
    "\n",
    "# Careful, base0 may not be the same as base1! Order of register matters\n",
    "base1 = ops.OperationBase(q_registers=(1, 0), c_registers=(1,))\n",
    "\n",
    "# NOTE: the comma in c_registers=(0,) is necessary in python to make c_registers a TUPLE (iterable data) instead of an int"
   ]
  },
  {
   "cell_type": "markdown",
   "metadata": {},
   "source": [
    "#### SingleQubitOperationBase, InputOutputOperationBase, ControlledPairOperationBase, ClassicalControlledPairOperationBase\n",
    "\n",
    "All the above inherit from `OperationBase`: like `OperationBase`, they exist such that we can recycle code between similar operations (for example, all single-qubit unitary gates acting on qubits need similar info stored)\n",
    "\n",
    "See `ops.py` for their precise implementations"
   ]
  },
  {
   "cell_type": "markdown",
   "metadata": {},
   "source": [
    "#### The \"real\" operations\n",
    "\n",
    "Finally, we get to the \"real\" operations which we want in our circuit (note that you can PLACE the base classes in the circuit object--mostly for testing purposes--but that the compiler will raise an error if you try to compile the base classes)\n",
    "\n",
    "These include:\n",
    "\n",
    "**SingleQubitOperationBase** types: Hadamard, SigmaX,SigmaY, SigmaZ\n",
    "\n",
    "**ControlledPairOperationBase** types: CNOT, CPHASE\n",
    "\n",
    "**ClassicalControlledPairOperationBase** types: classical CNOT/CPHASE\n",
    "**OperationBase** type (though we may want another base class later for this, if we implement more): MeasurementZ\n",
    "\n",
    "See the \"\"\"[Public API] \"\"\" code above for examples of those."
   ]
  },
  {
   "cell_type": "markdown",
   "metadata": {},
   "source": [
    "### Registers\n",
    "\n",
    "Some pieces software (e.g. qiskit, openQASM from IBM) support both **register indexing** and **(register, qubit) indexing** for their operations.\n",
    "\n",
    "For example:\n",
    "\n",
    "`two_qubit_op a b` would act on registers a, b (that is, we apply `two_qubit_op` $a[i], b[i] \\forall i \\in \\{0,..., |A| - 1 = |B| - 1\\}$ where $|A|$ is the number of qubits in A, $|B|$ is the number of qubits in B.\n",
    "\n",
    "`two_qubit_op a b[i]` would act on register a, and qubit i of register b (that is, we apply `two_qubit_op`$a[j], b[i] \\forall j \\in \\{0, ..., |A| - 1\\}$\n",
    "\n",
    "`two_qubit_op a[i] b` would act on qubit i of register a, and register b (that is, we apply `two_qubit_op`$a[i], b[j] \\forall j \\in \\{0, ..., |B| - 1\\}$\n",
    "\n",
    "`two_qubit_op a[j] b[i]` would act on qubit j of register a, and qubit i of register b (that is, we apply `two_qubit_op`$a[j], b[i]$"
   ]
  },
  {
   "cell_type": "markdown",
   "metadata": {},
   "source": [
    "Our software also supports this capabilities. We assume that assigning to an Operation an integer as a register refers to the full register, and that assigning to an operation a TUPLE as a register refers to the specific qubit.\n",
    "\n",
    "This is discussed further under our `circuit.py` discussion"
   ]
  },
  {
   "cell_type": "code",
   "execution_count": 4,
   "metadata": {},
   "outputs": [],
   "source": [
    "\"\"\" [Public API] \"\"\"\n",
    "\n",
    "# Index operation to the register 0\n",
    "H_reg = Hadamard(register=0)\n",
    "\n",
    "# Index operation to the register 0, qubit 0\n",
    "H_reg_q = Hadamard(register=(0, 0))\n",
    "\n",
    "# Index operation between registers\n",
    "cnot_reg = CNOT(control=0, target=1)  # NOTE: register 0, 1 will need to have the same size in the circuit\n",
    "\n",
    "# Index operation between a register, and a (reg, qubit) pair\n",
    "cnot_reg_reg_q = CNOT(control=(0, 0), target=1)\n",
    "\n",
    "# Index operation to two specific qubits\n",
    "cnot_reg_q = CNOT(control=(0, 0), target=(0, 1))"
   ]
  },
  {
   "cell_type": "markdown",
   "metadata": {},
   "source": [
    "#### Implementers note: what is @property, @<...>.setter?\n",
    "\n",
    "Here's a python explanation if you're interested: https://www.freecodecamp.org/news/python-property-decorator/\n",
    "\n",
    "In our code specifically, we use it so that when the `q_registers`/`c_registers` which are defined in `OperationBase` are modified in a child of `OperationBase`, the child will also update its `register` or `control, target` object fields. This becomes useful in the circuit class."
   ]
  },
  {
   "cell_type": "markdown",
   "metadata": {},
   "source": [
    "### The Circuit Class\n",
    "\n",
    "The circuit class is built to remember with `Operation`-type objects to apply in each order.\n",
    "\n",
    "Like with `OperationBase`, we have a base class called `Circuit` (to allow future software expansions). Unlike `OperationBase`, we only have one circuit implementation at the moment, called `CircuitDAG`.\n",
    "\n",
    "`CircuitDAG` represents a circuit via a directed acyclic graph (DAG)."
   ]
  },
  {
   "cell_type": "markdown",
   "metadata": {},
   "source": [
    "#### What is the DAG representation?\n",
    "\n",
    "The circuit DAG representation is used by other simulator softwares such as qiskit (IBM). Each NODE of the graph corresponds to an operation. Each EDGE of the graph corresponds to a qubit.\n",
    "\n",
    "The graph is directed because the operations have an order. The direction of the edges follows the direction of time.\n",
    "\n",
    "The graph is acyclic, because each a loop would indicate that a certain operation A occurs both before and after a certain operation B.\n",
    "\n",
    "Example:\n",
    "\n",
    "![DAG example](img/circuit_dag_explanation.PNG \"DAG Circuit Example\")"
   ]
  },
  {
   "cell_type": "markdown",
   "metadata": {},
   "source": [
    "#### What operations do circuits support?\n",
    "\n",
    "Find out below..."
   ]
  },
  {
   "cell_type": "code",
   "execution_count": 5,
   "metadata": {},
   "outputs": [],
   "source": [
    "\"\"\" Public API \"\"\"\n",
    "import src.ops as ops   # we did this earlier so not technically needed\n",
    "from src.circuit import CircuitDAG\n",
    "\n",
    "# NOTE: all the operations below are callable on any circuit object\n",
    "# but... we will only have CircuitDAG implemented for the foreseeable future\n",
    "\n",
    "# Create a circuit with 2 quantum registers and 1 classical registers\n",
    "# If you don't specify n_quantum, n_classical, an empty circuit (no registers) is created by default\n",
    "circuit = CircuitDAG(n_quantum=2, n_classical=0)\n",
    "\n",
    "# Add Operations to the circuit to create a Bell state\n",
    "circuit.add(Hadamard(register=0))\n",
    "circuit.add(CNOT(control=0, target=1))\n",
    "\n",
    "# Used for testing: make sure the circuit is \"valid\" (see docstring)\n",
    "circuit.validate()  # will raise an AssertionError if not valid!"
   ]
  },
  {
   "cell_type": "code",
   "execution_count": 6,
   "metadata": {},
   "outputs": [
    {
     "data": {
      "image/png": "[encoded data removed]",
      "text/plain": [
       "<Figure size 432x288 with 1 Axes>"
      ]
     },
     "metadata": {},
     "output_type": "display_data"
    },
    {
     "data": {
      "text/plain": [
       "(<Figure size 432x288 with 1 Axes>, <AxesSubplot:>)"
      ]
     },
     "execution_count": 6,
     "metadata": {},
     "output_type": "execute_result"
    }
   ],
   "source": [
    "\"\"\" Public API \"\"\"\n",
    "\n",
    "# Great, we've built a circuit! Let's see what it looks like\n",
    "\n",
    "circuit.draw_dag()"
   ]
  },
  {
   "cell_type": "markdown",
   "metadata": {},
   "source": [
    "We see that node 1 seems to be the Hadamard, and node 2 is the CNOT.\n",
    "\n",
    "In general, the operations are NUMBERED IN THE ORDER THEY WERE ADDED TO THE CIRCUIT. If you add an Operation on registers of size > 1, each pair of qubits affected by the Operation get their own number. **By default, registers are single-qubit registers**.\n",
    "\n",
    "Ok, but it's not super easy to read this circuit... so we also provide a separate visualization function:"
   ]
  },
  {
   "cell_type": "code",
   "execution_count": 7,
   "metadata": {},
   "outputs": [
    {
     "data": {
      "image/png": "[encoded data removed]",
      "text/plain": [
       "<Figure size 432x288 with 1 Axes>"
      ]
     },
     "metadata": {},
     "output_type": "display_data"
    },
    {
     "data": {
      "text/plain": [
       "(<Figure size 432x288 with 1 Axes>, <AxesSubplot:>)"
      ]
     },
     "execution_count": 7,
     "metadata": {},
     "output_type": "execute_result"
    }
   ],
   "source": [
    "\"\"\" [Public API] \"\"\"\n",
    "circuit.draw_circuit()"
   ]
  },
  {
   "cell_type": "markdown",
   "metadata": {},
   "source": [
    "The visualizations draw from our src.visualizer toolboxes (see below)"
   ]
  },
  {
   "cell_type": "code",
   "execution_count": 8,
   "metadata": {},
   "outputs": [
    {
     "name": "stdout",
     "output_type": "stream",
     "text": [
      "OPENQASM 2.0;\n",
      "\n",
      "gate h a { U(pi/2, 0, pi) a; }\n",
      "\n",
      "qreg q0[1];\n",
      "qreg q1[1];\n",
      "\n",
      "h q0[0];\n",
      "CX q0[0], q1[0];\n"
     ]
    },
    {
     "data": {
      "image/png": "[encoded data removed]",
      "text/plain": [
       "<Figure size 432x288 with 1 Axes>"
      ]
     },
     "metadata": {},
     "output_type": "display_data"
    }
   ],
   "source": [
    "\"\"\" [Implementer info] \"\"\"\n",
    "\n",
    "# Behind the scenes, this is how we are making the circuit show\n",
    "import matplotlib.pyplot as plt\n",
    "from src.visualizers.openqasm_visualization import draw_openqasm\n",
    "\n",
    "\"\"\"\n",
    "First, we need to get a STRING of the openQASM code that matches our circuit...\n",
    "This information is stored partly in the circuit and its Operations at \n",
    "runtime, and is queried from src.libraries.openqasm_lib.py\n",
    "\n",
    "[Implementer info] New implemented Operations will need to have their openQASM definitions added\n",
    "to be visualized!\n",
    "\"\"\"\n",
    "\n",
    "# Get openQASM representation of circuit\n",
    "openqasm_str = circuit.to_openqasm()\n",
    "print(openqasm_str)\n",
    "\n",
    "# Draw the circuit (calls on qiskit functionalities right now)\n",
    "# I wouldn't worry about the implementation, it's likely to change\n",
    "fig, ax = plt.subplots()  # side note: ax is optional in general, but seems necessary in jupyter notebooks\n",
    "draw_openqasm(openqasm_str, show=False, fig=fig, ax=ax)\n",
    "plt.show()"
   ]
  },
  {
   "cell_type": "markdown",
   "metadata": {},
   "source": [
    "#### Get a sequence of operations\n",
    "\n",
    "In our software, the circuit is responsible for providing the compiler with a sequence of operations to compile. This sequence is built from the nodes of the graph provided in \"topological\" order:"
   ]
  },
  {
   "cell_type": "code",
   "execution_count": 9,
   "metadata": {},
   "outputs": [
    {
     "name": "stdout",
     "output_type": "stream",
     "text": [
      "operation objects (sequence):\n",
      "[<src.ops.Input object at 0x000001D765C46700>, <src.ops.Input object at 0x000001D765C466D0>, <src.ops.Hadamard object at 0x000001D70897AB20>, <src.ops.CNOT object at 0x000001D70897AB80>, <src.ops.Output object at 0x000001D77FB67910>, <src.ops.Output object at 0x000001D7062803A0>]\n"
     ]
    }
   ],
   "source": [
    "op_seq = circuit.sequence()\n",
    "print(\"operation objects (sequence):\")\n",
    "print(op_seq)"
   ]
  },
  {
   "cell_type": "markdown",
   "metadata": {},
   "source": [
    "#### Working with registers\n",
    "\n",
    "As mentioned under Operations, we may want to allow both single-qubit quantum registers and multi-qubit quantum registers (where the registers act as a \"shortcut command\" for applying operation on multiple qubits at once).\n",
    "\n",
    "We don't (in general) want our solver to be CONSTRAINED to only using the registers it started with. As such, we provide a few mechanisms to expand the circuit:\n",
    "1. `add_quantum_register(size=<desired size of new register>)`/`add_classical_register(size=<desired size of new register>)`. These allow us to explicitly create a new register of a certain size.\n",
    "2. `expand_quantum_register(register, new_size)`/`expand_classical_register(register, new_size)`. This allows us to explicitly expand a previously created register\n",
    "3. Adding an Operation using `circuit.add(op)` as above, where `op` contains a previously not included register (though careful! The register numbers must remain continuous or an error will be raised."
   ]
  },
  {
   "cell_type": "code",
   "execution_count": 10,
   "metadata": {},
   "outputs": [
    {
     "data": {
      "image/png": "[encoded data removed]",
      "text/plain": [
       "<Figure size 432x288 with 1 Axes>"
      ]
     },
     "metadata": {},
     "output_type": "display_data"
    }
   ],
   "source": [
    "\"\"\"[Public API]\"\"\"\n",
    "\n",
    "# Create an empty circuit to start\n",
    "circuit = CircuitDAG()\n",
    "fig, ax = plt.subplots()\n",
    "draw_openqasm(circuit.to_openqasm(), show=False, ax=ax)\n",
    "plt.show()  # NOTE: we see just a white square... because it's empty!"
   ]
  },
  {
   "cell_type": "code",
   "execution_count": 11,
   "metadata": {},
   "outputs": [
    {
     "data": {
      "image/png": "[encoded data removed]",
      "text/plain": [
       "<Figure size 432x288 with 1 Axes>"
      ]
     },
     "metadata": {},
     "output_type": "display_data"
    }
   ],
   "source": [
    "\"\"\"[Public API]\"\"\"\n",
    "\n",
    "\n",
    "# 1. Add 2 quantum registers of size 3, 1 classical register of size 1\n",
    "circuit = CircuitDAG()\n",
    "\n",
    "circuit.add_quantum_register(size=3)\n",
    "circuit.add_quantum_register(size=3)\n",
    "circuit.add_classical_register(size=1)\n",
    "\n",
    "# Add a Hadamard on register 0, then a CNOT between 0 and 1, because why not\n",
    "circuit.add(Hadamard(register=0))\n",
    "circuit.add(CNOT(control=0, target=1))\n",
    "\n",
    "fig, ax = plt.subplots()\n",
    "draw_openqasm(circuit.to_openqasm(), show=False, ax=ax)\n",
    "plt.show()"
   ]
  },
  {
   "cell_type": "markdown",
   "metadata": {},
   "source": [
    "Now we may decide that we actually want a classical register of size 3 as well..."
   ]
  },
  {
   "cell_type": "code",
   "execution_count": 12,
   "metadata": {},
   "outputs": [
    {
     "data": {
      "image/png": "[encoded data removed]",
      "text/plain": [
       "<Figure size 432x288 with 1 Axes>"
      ]
     },
     "metadata": {},
     "output_type": "display_data"
    }
   ],
   "source": [
    "\"\"\"[Public API]\"\"\"\n",
    "\n",
    "# 2. expand classical register to a size of 3\n",
    "circuit.expand_classical_register(0, 3)  # expand register 0 to be of size 3\n",
    "fig, ax = plt.subplots()\n",
    "draw_openqasm(circuit.to_openqasm(), show=False, ax=ax)\n",
    "plt.show() # notice the little \"3\" by c0"
   ]
  },
  {
   "cell_type": "markdown",
   "metadata": {},
   "source": [
    "We could also expand quantum registers 0 and 1. **CAREFUL HOWEVER! As things are currently implemented, the register will expand but the gates which were previously applied to the full register will NOT be applied to the new qubits added to said register**\n",
    "\n",
    "This may change in the future depending on choices we make with the solver... But this is the way things are now:"
   ]
  },
  {
   "cell_type": "code",
   "execution_count": 13,
   "metadata": {},
   "outputs": [
    {
     "data": {
      "image/png": "[encoded data removed]",
      "text/plain": [
       "<Figure size 432x288 with 1 Axes>"
      ]
     },
     "metadata": {},
     "output_type": "display_data"
    }
   ],
   "source": [
    "\"\"\"[Public API]\"\"\"\n",
    "\n",
    "# 2. expand quantum register 0 to a size of 5\n",
    "circuit.expand_quantum_register(0, 5)  # expand register 0 to be of size 3\n",
    "fig, ax = plt.subplots()\n",
    "draw_openqasm(circuit.to_openqasm(), show=False, ax=ax)\n",
    "plt.show()"
   ]
  },
  {
   "cell_type": "code",
   "execution_count": 14,
   "metadata": {},
   "outputs": [
    {
     "data": {
      "image/png": "[encoded data removed]",
      "text/plain": [
       "<Figure size 432x288 with 1 Axes>"
      ]
     },
     "metadata": {},
     "output_type": "display_data"
    }
   ],
   "source": [
    "\"\"\"[Public API]\"\"\"\n",
    "\n",
    "# 3. Expanding quantum registers by adding Operations\n",
    "circuit = CircuitDAG(2, 1)  # we start with two qreg of size 1, 1 creg of size 1\n",
    "fig, ax = plt.subplots()\n",
    "draw_openqasm(circuit.to_openqasm(), show=False, ax=ax)\n",
    "plt.show()"
   ]
  },
  {
   "cell_type": "code",
   "execution_count": 15,
   "metadata": {},
   "outputs": [
    {
     "data": {
      "image/png": "[encoded data removed]",
      "text/plain": [
       "<Figure size 432x288 with 1 Axes>"
      ]
     },
     "metadata": {},
     "output_type": "display_data"
    }
   ],
   "source": [
    "\"\"\"[Public API]\"\"\"\n",
    "\n",
    "# We can create a second qubit in register q0 by adding an operation on it\n",
    "circuit.add(Hadamard(register=(0, 1)))\n",
    "fig, ax = plt.subplots()\n",
    "draw_openqasm(circuit.to_openqasm(), show=False, ax=ax)\n",
    "plt.show()"
   ]
  },
  {
   "cell_type": "code",
   "execution_count": 16,
   "metadata": {},
   "outputs": [
    {
     "data": {
      "image/png": "[encoded data removed]",
      "text/plain": [
       "<Figure size 432x288 with 1 Axes>"
      ]
     },
     "metadata": {},
     "output_type": "display_data"
    }
   ],
   "source": [
    "\"\"\"[Public API]\"\"\"\n",
    "\n",
    "# We can create a new register q2 in the same way\n",
    "circuit.add(ops.SigmaX(register=2))\n",
    "fig, ax = plt.subplots()\n",
    "draw_openqasm(circuit.to_openqasm(), show=False, ax=ax)\n",
    "plt.show()"
   ]
  },
  {
   "cell_type": "code",
   "execution_count": 17,
   "metadata": {},
   "outputs": [
    {
     "name": "stdout",
     "output_type": "stream",
     "text": [
      "Non-consecutive qudit/cbit indexing!\n",
      "Register numbering must be continuous. Quantum register 7 cannot be added.Next register that can be added is 3\n"
     ]
    }
   ],
   "source": [
    "\"\"\"[Public API]\"\"\"\n",
    "\n",
    "# However, qubits must be added consecutively (we cannot add a qubit 3 to q0)\n",
    "# but we COULD add a qubit 2 at the moment)\n",
    "try:\n",
    "    circuit.add(ops.SigmaZ(register=(0, 3)))\n",
    "except ValueError as v:\n",
    "    print(v)\n",
    "    \n",
    "# Similarly, registers must be consecutive (i.e. we can add q3 but not q4, q5, q7 for example)\n",
    "try:\n",
    "    circuit.add(ops.Hadamard(register=7))\n",
    "except ValueError as v:\n",
    "    print(v)"
   ]
  },
  {
   "cell_type": "code",
   "execution_count": 18,
   "metadata": {},
   "outputs": [
    {
     "name": "stdout",
     "output_type": "stream",
     "text": [
      "next q0 qubit: 2\n",
      "next c0 cbit: 1\n"
     ]
    }
   ],
   "source": [
    "\"\"\"[Public API]\"\"\"\n",
    "\n",
    "# Thankfully finding the next qubit of a register is easy\n",
    "print(f'next q0 qubit: {circuit.next_qubit(0)}')\n",
    "print(f'next c0 cbit: {circuit.next_cbit(0)}')"
   ]
  },
  {
   "cell_type": "markdown",
   "metadata": {},
   "source": [
    "#### Circuit Implementation \n",
    "\n",
    "Each circuit remembers its own `q_registers` and `c_registers` lists, where `q_registers[i]` corresponds to the number of qubits in quantum register i (and ditto for `c_registers`).\n",
    "\n",
    "When an Operation is added to the circuit, the class does the following:\n",
    "1. Save openqasm information (don't worry about this, not super important outside of visualization)\n",
    "2. It will look at the registers provided in the Operation, and add the registers to `q/c_registers` as needed in `_add_reg_if_absent`. For each new register the circuit adds Input/Output NODES to its graph representation, and adds an edge between these input/outputs --> this makes the circuit DAG \"valid\" (i.e. all registers are represented and we progress from input to output)\n",
    "3. It will then add the Operation itself to the circuit. The Operation is added as a NODE between the register output nodes and any previous operations on the register\n",
    "\n",
    "**FINALLY, operations are not DIRECTLY added to graphs. Instead, each Operation is decomposed into a series of Operations that act specific groups of qubits (rather than full registers)**\n",
    "\n",
    "That is, `Hadamard(register=1)` gets added to the circuit as `Hadamard(register=(1, 0))`, `Hadamard(register=(1, 1))`, `Hadamard(register=(1, 2))` if register 1 is of size 3.\n",
    "\n",
    "There are more details, but those are the important bits"
   ]
  },
  {
   "cell_type": "markdown",
   "metadata": {},
   "source": [
    "## Creating a State\n",
    "\n",
    "There are two state representations currently implemented:\n",
    "1. The Density Matrix state representation `DensityMatrix`\n",
    "2. The Graph state representation `Graph`\n",
    "\n",
    "This is not fully implemented yet, but we also intend to have a `QuantumState` \"wrapper\" class which holds all individual representations in a given simulation and provides an accessible API for accessing different representations, and converting between representations."
   ]
  },
  {
   "cell_type": "code",
   "execution_count": null,
   "metadata": {},
   "outputs": [],
   "source": [
    "\"\"\" [Public API] \"\"\"\n",
    "\n",
    "# Create a quantum state class.\n",
    "# For now, it can support either a ndarray data input (for density matrix representations) or a graph input (both)\n",
    "# or an integer input (graph only, but soon to be both)\n",
    "\n",
    "# Density matrix initialization\n",
    "import numpy as np\n",
    "\n",
    "from src.state import QuantumState\n",
    "\n",
    "n = 2\n",
    "data = np.eye(2 ** n)\n",
    "state = QuantumState(n, data, representation='density matrix')\n",
    "\n",
    "# We can visualize the density matrix\n",
    "# Note: we have a quantum_state.show() function but it's not implemented yet, so we'll just use the representation-specific visualization tool\n",
    "\n",
    "from src.visualizers.density_matrix import density_matrix_bars\n",
    "fig, ax = density_matrix_bars(state.dm.data)\n",
    "plt.show()"
   ]
  },
  {
   "cell_type": "code",
   "execution_count": null,
   "metadata": {},
   "outputs": [],
   "source": [
    "\"\"\" [Public API] \"\"\"\n",
    "\n",
    "# We can also create a quantum state based on a graph representation\n",
    "import networkx as nx\n",
    "\n",
    "n = 3\n",
    "data = nx.Graph([(1, 2), (2, 3)])\n",
    "state = QuantumState(n, data, representation='graph')\n",
    "\n",
    "from src.visualizers.graph import draw_graph\n",
    "draw_graph(state.graph)"
   ]
  },
  {
   "cell_type": "code",
   "execution_count": null,
   "metadata": {},
   "outputs": [],
   "source": [
    "\"\"\" [Public API] \"\"\"\n",
    "\n",
    "# Now, the following isn't implemented yet but it should be soon--we want to be able to query a representation we DID NOT\n",
    "# initialize --> that is, the QuantumState object should wrap our conversions from state to state\n",
    "\n",
    "try:\n",
    "    print(state.dm)\n",
    "except ValueError as v:\n",
    "    print(v)"
   ]
  },
  {
   "cell_type": "markdown",
   "metadata": {},
   "source": [
    "#### Density Matrix Representation\n",
    "\n",
    "Typically, all the internal manipulations on the states will be done by a `compiler` (see next section). "
   ]
  },
  {
   "cell_type": "code",
   "execution_count": null,
   "metadata": {},
   "outputs": [],
   "source": [
    "\"\"\" [Implementer info] \"\"\"\n",
    "\n",
    "# Density matrices can be initializes from numpy ndarrays\n",
    "# (they are in fact implemented as ndarrays, with various helpful functions\n",
    "# with which the compiler can apply Operations to it)\n",
    "from src.backends.density_matrix.state import DensityMatrix\n",
    "\n",
    "\n",
    "n = 2\n",
    "data = np.eye(2 ** n)\n",
    "dm = DensityMatrix(data)\n",
    "\n",
    "fig, ax = density_matrix_bars(dm.data)\n",
    "plt.show()"
   ]
  },
  {
   "cell_type": "code",
   "execution_count": null,
   "metadata": {},
   "outputs": [],
   "source": [
    "\"\"\" [Implementer info] \"\"\"\n",
    "\n",
    "# However, density matrices representations can also be initialized\n",
    "# from nx.Graph or our own Graph representations objects\n",
    "from src.backends.graph.state import Graph\n",
    "\n",
    "data = nx.Graph([(1, 2), (2, 3)])\n",
    "g = Graph(data, 1)  # 1 is the \"root node id\"\n",
    "\n",
    "draw_graph(g)\n",
    "\n",
    "dm_ex = DensityMatrix.from_graph(g)\n",
    "density_matrix_bars(dm_ex.data)\n",
    "plt.show()"
   ]
  },
  {
   "cell_type": "markdown",
   "metadata": {},
   "source": [
    "There are two manipulations that are supported on `DensityMatrix` objects: unitary transformations (`apply_unitary`) and measurements (`apply_measurement`). Both are implemented through a number of numpy functions.\n",
    "\n",
    "These are used by the compiler to evolve the state through operations."
   ]
  },
  {
   "cell_type": "code",
   "execution_count": null,
   "metadata": {},
   "outputs": [],
   "source": [
    "# We can apply a unitary (which we can load from density_matrix.functions)\n",
    "import src.backends.density_matrix.functions as dm\n",
    "\n",
    "# Apply pauli x\n",
    "n = 3\n",
    "unitary = dm.get_single_qubit_gate(n, 0, dm.sigmax())  # get the gate\n",
    "dm_ex.apply_unitary(unitary)\n",
    "density_matrix_bars(dm_ex.data)"
   ]
  },
  {
   "cell_type": "code",
   "execution_count": null,
   "metadata": {},
   "outputs": [],
   "source": [
    "# Similarly, we can apply a measurement\n",
    "projectors = dm.projectors_zbasis(n, 0)\n",
    "outcome = dm_ex.apply_measurement(projectors)\n",
    "density_matrix_bars(dm_ex.data)\n",
    "print(f'outcome: {outcome}')"
   ]
  },
  {
   "cell_type": "markdown",
   "metadata": {},
   "source": [
    "The Graph state representation has many more available functions, largely for graph manipulation (e.g. adding nodes and edges). They will be available for use for when we write a graph compiler (can be viewed under `src/backends/graph/state.py`)"
   ]
  },
  {
   "cell_type": "markdown",
   "metadata": {},
   "source": [
    "## Run a Circuit\n",
    "\n",
    "We can run a circuit (i.e. get its output) by *compiling* the circuit.\n",
    "\n",
    "We have a set of benchmark circuits we can load from `benchmarks/circuits.py`"
   ]
  },
  {
   "cell_type": "code",
   "execution_count": null,
   "metadata": {},
   "outputs": [],
   "source": [
    "# load a circuit\n",
    "\n",
    "import benchmarks.circuits as circ\n",
    "from src.backends.density_matrix.compiler import DensityMatrixCompiler\n",
    "\n",
    "circuit, _ = circ.ghz3_state_circuit()\n",
    "fig, ax = plt.subplots()\n",
    "draw_openqasm(circuit.to_openqasm(), show=True, ax=ax)\n",
    "\n",
    "# Create a compiler object -- right now we only have the density matrix compiler\n",
    "compiler = DensityMatrixCompiler()\n",
    "dm_state = compiler.compile(circuit)\n",
    "\n",
    "density_matrix_bars(dm_state.data)"
   ]
  },
  {
   "cell_type": "markdown",
   "metadata": {},
   "source": [
    "#### Compiler Implementation\n",
    "\n",
    "The plan is to have multiple different compilers---at least one per representation type, but also likely compilers which use multiple representations at once.\n",
    "\n",
    "At a high level, compilers work this way:\n",
    "1. Get an initial state (right now, the initial state is created in the compiler--this may chhange in the future)\n",
    "2. Pick out a sequence of Operations to execute using `circuit.sequence()`\n",
    "3. For each element of the sequence, use state-representation-specific methods to evolve the state (for the DensityMatrixCompiler, this means using the `apply_unitary` and `apply_measurement` functions\n",
    "\n",
    "Point 3 is currently implemented with a loop which goes through each Operation, and with a series of if-statement that covers each operation allowed by the compiler."
   ]
  }
 ],
 "metadata": {
  "kernelspec": {
   "display_name": "Python 3 (ipykernel)",
   "language": "python",
   "name": "python3"
  },
  "language_info": {
   "codemirror_mode": {
    "name": "ipython",
    "version": 3
   },
   "file_extension": ".py",
   "mimetype": "text/x-python",
   "name": "python",
   "nbconvert_exporter": "python",
   "pygments_lexer": "ipython3",
   "version": "3.9.5"
  }
 },
 "nbformat": 4,
 "nbformat_minor": 1
}