{
 "cells": [
  {
   "cell_type": "code",
   "execution_count": 2,
   "metadata": {
    "pycharm": {
     "is_executing": true
    }
   },
   "outputs": [],
   "source": [
    "\"\"\" Defining a target state from a graph by converting the target graph to a density matrix\"\"\"\n",
    "\n",
    "import networkx as nx\n",
    "from src.backends.density_matrix.state import DensityMatrix\n",
    "from src.state import QuantumState\n",
    "\n",
    "linear_cluster_3_graph = nx.Graph([(1, 2), (2, 3)])  # Edge between node 1-2, node 2-3\n",
    "linear_cluster_3_dm = DensityMatrix.from_graph(linear_cluster_3_graph).data\n",
    "linear_cluster_3_target = QuantumState(3, linear_cluster_3_graph, representation='density matrix')"
   ]
  }
 ],
 "metadata": {
  "kernelspec": {
   "display_name": "Python 3 (ipykernel)",
   "language": "python",
   "name": "python3"
  },
  "language_info": {
   "codemirror_mode": {
    "name": "ipython",
    "version": 3
   },
   "file_extension": ".py",
   "mimetype": "text/x-python",
   "name": "python",
   "nbconvert_exporter": "python",
   "pygments_lexer": "ipython3",
   "version": "3.9.5"
  }
 },
 "nbformat": 4,
 "nbformat_minor": 1
}
