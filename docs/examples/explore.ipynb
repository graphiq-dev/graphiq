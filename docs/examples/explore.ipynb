{
 "cells": [
  {
   "cell_type": "code",
   "execution_count": 1,
   "metadata": {
    "collapsed": true
   },
   "outputs": [],
   "source": [
    "%load_ext autoreload\n",
    "%autoreload 2"
   ]
  },
  {
   "cell_type": "code",
   "execution_count": 8,
   "outputs": [],
   "source": [
    "from graphiq.backends.lc_equivalence_check import iso_graph_finder\n",
    "from graphiq.backends.stabilizer.compiler import StabilizerCompiler\n",
    "from graphiq.state import QuantumState\n",
    "from graphiq.metrics import Infidelity, CircuitDepth\n",
    "from graphiq.solvers.deterministic_solver import DeterministicSolver\n",
    "\n",
    "import networkx as nx"
   ],
   "metadata": {
    "collapsed": false
   }
  },
  {
   "cell_type": "code",
   "execution_count": 13,
   "outputs": [
    {
     "name": "stdout",
     "output_type": "stream",
     "text": [
      "24 graphs that are isomorphic to the input.\n"
     ]
    }
   ],
   "source": [
    "compiler = StabilizerCompiler()\n",
    "graph = nx.Graph([(0, 1), (1, 2), (2, 3)])\n",
    "iso_graphs = iso_graph_finder(graph)\n",
    "print(f\"{len(iso_graphs)} graphs that are isomorphic to the input.\")"
   ],
   "metadata": {
    "collapsed": false
   }
  },
  {
   "cell_type": "code",
   "execution_count": 21,
   "outputs": [
    {
     "name": "stdout",
     "output_type": "stream",
     "text": [
      "Starting graph has depth 9.\n"
     ]
    }
   ],
   "source": [
    "target = QuantumState(graph, rep_type=\"graph\")\n",
    "metric = CircuitDepth()\n",
    "solver = DeterministicSolver(\n",
    "    target=target,\n",
    "    metric=metric,\n",
    "    compiler=compiler,\n",
    ")\n",
    "solver.solve()\n",
    "best_score, circuit = solver.result\n",
    "\n",
    "print(f\"Starting graph has depth {best_score}.\")"
   ],
   "metadata": {
    "collapsed": false
   }
  },
  {
   "cell_type": "code",
   "execution_count": 22,
   "outputs": [
    {
     "name": "stdout",
     "output_type": "stream",
     "text": [
      "Best score is 6\n"
     ]
    }
   ],
   "source": [
    "for graph in iso_graphs:\n",
    "    solver = DeterministicSolver(\n",
    "        target=QuantumState(graph, rep_type=\"graph\"),\n",
    "        metric=metric,\n",
    "        compiler=compiler,\n",
    "    )\n",
    "    solver.solve()\n",
    "    score, circuit = solver.result\n",
    "    if score < best_score:\n",
    "        best_score = score\n",
    "\n",
    "print(f\"Best score is {best_score}\")"
   ],
   "metadata": {
    "collapsed": false
   }
  },
  {
   "cell_type": "code",
   "execution_count": null,
   "outputs": [],
   "source": [],
   "metadata": {
    "collapsed": false
   }
  }
 ],
 "metadata": {
  "kernelspec": {
   "display_name": "Python 3",
   "language": "python",
   "name": "python3"
  },
  "language_info": {
   "codemirror_mode": {
    "name": "ipython",
    "version": 2
   },
   "file_extension": ".py",
   "mimetype": "text/x-python",
   "name": "python",
   "nbconvert_exporter": "python",
   "pygments_lexer": "ipython2",
   "version": "2.7.6"
  }
 },
 "nbformat": 4,
 "nbformat_minor": 0
}
