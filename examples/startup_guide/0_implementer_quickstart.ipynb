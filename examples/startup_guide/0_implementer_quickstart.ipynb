{
 "cells": [
  {
   "cell_type": "markdown",
   "metadata": {
    "collapsed": true
   },
   "source": [
    "# Implementer's Guide: Quickstart"
   ]
  },
  {
   "cell_type": "markdown",
   "metadata": {},
   "source": [
    "## Objective\n",
    "\n",
    "\n",
    "The goal of this set of Jupyter notebooks is to introduce users to main classes used in our package. These documents are primarily targeted to implementers, but may also be useful for other users. It also provides some explanations of python, where deemed useful\n",
    "\n",
    "The generally used API will be denoted by **\"\"\"[Public API]\"\"\"** in the python code snippets; this is information that any users of the software should generally know, and we should aim to make few changes to that public interface.\n",
    "\n",
    "Notes to the implementer will be denoated by **\"\"\"[Implementer info]\"\"\"**; this is information that would ordinarily be abstracted away from users, but that implementers need to know. This info will be subject to rapid change--if this document is failing/seems to be contradicting the code base, please feel free to update it to reflect the latest implementation information!"
   ]
  },
  {
   "cell_type": "markdown",
   "metadata": {},
   "source": [
    "### Last modified: 2022-08-09"
   ]
  },
  {
   "cell_type": "markdown",
   "metadata": {},
   "source": [
    "## Table of Contents\n",
    "\n",
    "0. Example Quickstart\n",
    "1. Building a circuit (introductions to  Operations, Circuit, CircuitDAG, DAG visualization, openQASM/qiskit visualization, pre-built circuits)\n",
    "2. Creating a state (QuantumState, StateBase, DensityMatrix, Stabilizer, conversion between states, associated visualizations)\n",
    "3. Running a circuit (CompilerBase, DensityMatrixCompiler, StabilizerCompiler)\n",
    "4. Noise models\n",
    "5. Metrics (MetricBase, Infidelity, TraceDistance, Metrics)\n",
    "6. Solvers (SolverBase, EvolutionarySolver, DeterministicSolver)\n",
    "7. Benchmarking\n",
    "8. (upcoming) Differentiable circuits\n",
    "\n",
    "Let's get into it!"
   ]
  },
  {
   "cell_type": "markdown",
   "metadata": {},
   "source": [
    "# Example Quickstart [Public API]\n",
    "\n",
    "**Premise:** You're inexperienced with quantum circuits, and you want to design two circuits: one which can build a 3 qubit GHZ state. You don't know how to do so manually, so you chose to use the **graph-compiler** solver."
   ]
  },
  {
   "cell_type": "markdown",
   "metadata": {},
   "source": [
    "## Using a solver: a Quick Summary\n",
    "\n",
    "To create a circuit design, we need to be able to:\n",
    "1. Define your target quantum state.\n",
    "2. Pick a \"compiler\", that is, a simulation representation and engine for any circuit you use as a candidate (this allows you to \"run\" a circuit and see what output it produces).\n",
    "3. Pick a solver which automatically searches for possible solution circuits (the solver uses the compiler, as well as a \"cost function\" which will depend on your target and possibly other factors)"
   ]
  },
  {
   "cell_type": "markdown",
   "metadata": {},
   "source": [
    "## Define a target state\n",
    "\n",
    "First, we want to express our target states to the compiler."
   ]
  },
  {
   "cell_type": "code",
   "execution_count": 1,
   "metadata": {},
   "outputs": [],
   "source": [
    "\"\"\" Defining a target state from a density matrix \"\"\"\n",
    "import numpy as np\n",
    "\n",
    "# We can use density matrix functionalities of the graph-compiler\n",
    "import src.backends.density_matrix.functions as dmf\n",
    "\n",
    "ghz3_target_dm = dmf.ket2dm(\n",
    "    (dmf.tensor(3 * [dmf.state_ketz0()]) + dmf.tensor(3 * [dmf.state_ketz1()]))\n",
    "    / np.sqrt(2)\n",
    ")\n",
    "\n",
    "# We express states as QuantumState objects\n",
    "from src.state import QuantumState\n",
    "\n",
    "# The argument are: 1) number of qubits in state, 2) the state data (density matrix, here), 3) choice of representation\n",
    "# If the choice of representation is unspecified, the constructor picks a compatible representation\n",
    "ghz3_target = QuantumState(3, ghz3_target_dm, representation=\"density matrix\")"
   ]
  },
  {
   "cell_type": "markdown",
   "metadata": {},
   "source": [
    "**NOTE:** We also have the capabilities to initialize QuantumState objects which use graph or stabilizer representation. However we do not delve further into these capabilities at the moment, because the compiler for these representations (i.e. the simulator) are not fully implemented/tested at this time."
   ]
  },
  {
   "cell_type": "markdown",
   "metadata": {},
   "source": [
    "## Define a Compiler\n",
    "\n",
    "The compiler is the quantum simulation engine of the graph-compiler code. Given a circuit, it will simulate the circuit and output the resulting quantum state.\n",
    "\n",
    "The `DensityMatrixCompiler` acts on density matrix representation (no misnomer here). It contains the most powerful representation, and can simulate the greatest amount of noise. However, its runtime is exponential in the number of qubit and so it can only handle smaller states. **At time of writing, it is also the best-tested compiler**.\n",
    "\n",
    "The `StabilizerCompiler` acts on stabilizer representation. It can't represent mixed states, unlike the `DensityMatrixCompiler`, but its runtime is polynomial with the number of qubits.\n",
    "\n",
    "For this example, we use a `DensityMatrixCompiler`."
   ]
  },
  {
   "cell_type": "code",
   "execution_count": 2,
   "metadata": {},
   "outputs": [],
   "source": [
    "\"\"\" Define a compiler \"\"\"\n",
    "from src.backends.density_matrix.compiler import DensityMatrixCompiler\n",
    "\n",
    "compiler = DensityMatrixCompiler()\n",
    "DensityMatrixCompiler.measurement_determinism = 1"
   ]
  },
  {
   "cell_type": "markdown",
   "metadata": {},
   "source": [
    "# Define a Solver\n",
    "\n",
    "In the graph-compiler package, the role of the solver is to produce a circuit which creates the \"best\" circuit, where the circuit is designed to produce the target state (other criteria, such as circuit depth or cost, may also be considered).\n",
    "\n",
    "\n",
    "For this demonstration, we use a solver called the `EvolutionarySolver`."
   ]
  },
  {
   "cell_type": "code",
   "execution_count": 3,
   "metadata": {},
   "outputs": [
    {
     "name": "stderr",
     "output_type": "stream",
     "text": [
      "C:\\Users\\julie\\Documents\\_graduate\\git_repositories\\graph-compiler\\src\\solvers\\solver_base.py:41: UserWarning: Initial circuit for EvolutionarySolver is 'None'. \n",
      "  warnings.warn(f\"Initial circuit for {self.__class__.__name__} is 'None'. \")\n"
     ]
    }
   ],
   "source": [
    "\"\"\" Defining a Solver (EvolutionarySolver) \"\"\"\n",
    "\n",
    "# The evolutionary solver requires a \"metric\" or \"cost function\" which tells it\n",
    "# the quality of a solution circuit. By convention, the evolutionary solver tries to MINIMIZE\n",
    "# the cost function.\n",
    "from src.metrics import Infidelity\n",
    "\n",
    "metric = Infidelity(target=ghz3_target)\n",
    "\n",
    "# Now that we have a way to evaluate circuit quality, we can define a solver\n",
    "from src.solvers.evolutionary_solver import EvolutionarySolver\n",
    "\n",
    "solver = EvolutionarySolver(\n",
    "    target=ghz3_target,  # target state we want to achieve\n",
    "    metric=metric,  # how we judge the quality of a solution\n",
    "    compiler=compiler,  # how we simulate our solution\n",
    "    n_emitter=1,  # number of emitter qubits available as resources\n",
    "    n_photon=3,  # number of photons making up the target state\n",
    "    noise_model_mapping=None,  # we ignore noise in this example\n",
    ")"
   ]
  },
  {
   "cell_type": "code",
   "execution_count": 4,
   "metadata": {},
   "outputs": [
    {
     "name": "stdout",
     "output_type": "stream",
     "text": [
      "Iteration 0 | Best score: 0.7500\n",
      "Iteration 1 | Best score: 0.7500\n",
      "Iteration 2 | Best score: 0.7500\n",
      "Iteration 3 | Best score: 0.7500\n",
      "Iteration 4 | Best score: 0.7500\n",
      "Iteration 5 | Best score: 0.5000\n",
      "Iteration 6 | Best score: 0.5000\n",
      "Iteration 7 | Best score: 0.5000\n",
      "Iteration 8 | Best score: 0.5000\n",
      "Iteration 9 | Best score: 0.5000\n",
      "Iteration 10 | Best score: 0.5000\n",
      "Iteration 11 | Best score: 0.5000\n",
      "Iteration 12 | Best score: 0.5000\n",
      "Iteration 13 | Best score: 0.5000\n",
      "Iteration 14 | Best score: 0.5000\n",
      "Iteration 15 | Best score: 0.5000\n",
      "Iteration 16 | Best score: 0.5000\n",
      "Iteration 17 | Best score: 0.5000\n",
      "Iteration 18 | Best score: 0.5000\n",
      "Iteration 19 | Best score: 0.5000\n",
      "Iteration 20 | Best score: 0.5000\n",
      "Iteration 21 | Best score: 0.5000\n",
      "Iteration 22 | Best score: 0.5000\n",
      "Iteration 23 | Best score: 0.5000\n",
      "Iteration 24 | Best score: 0.5000\n",
      "Iteration 25 | Best score: 0.5000\n",
      "Iteration 26 | Best score: 0.5000\n",
      "Iteration 27 | Best score: 0.5000\n",
      "Iteration 28 | Best score: 0.5000\n",
      "Iteration 29 | Best score: 0.5000\n",
      "Iteration 30 | Best score: 0.5000\n",
      "Iteration 31 | Best score: 0.5000\n",
      "Iteration 32 | Best score: 0.5000\n",
      "Iteration 33 | Best score: 0.5000\n",
      "Iteration 34 | Best score: 0.5000\n",
      "Iteration 35 | Best score: 0.5000\n",
      "Iteration 36 | Best score: 0.5000\n",
      "Iteration 37 | Best score: 0.5000\n",
      "Iteration 38 | Best score: 0.5000\n",
      "Iteration 39 | Best score: 0.5000\n",
      "Iteration 40 | Best score: 0.5000\n",
      "Iteration 41 | Best score: 0.5000\n",
      "Iteration 42 | Best score: 0.5000\n",
      "Iteration 43 | Best score: 0.5000\n",
      "Iteration 44 | Best score: 0.5000\n",
      "Iteration 45 | Best score: 0.0000\n",
      "Iteration 46 | Best score: 0.0000\n",
      "Iteration 47 | Best score: 0.0000\n",
      "Iteration 48 | Best score: 0.0000\n",
      "Iteration 49 | Best score: 0.0000\n"
     ]
    }
   ],
   "source": [
    "\"\"\" Run your solver \"\"\"\n",
    "\n",
    "# Run\n",
    "solver.seed(0)  # this will allow us to replicate results reliably (fixes the rng)\n",
    "solver.solve()"
   ]
  },
  {
   "cell_type": "code",
   "execution_count": 5,
   "metadata": {},
   "outputs": [
    {
     "name": "stdout",
     "output_type": "stream",
     "text": [
      "<src.circuit.CircuitDAG object at 0x0000023C3C0F4DC0>\n"
     ]
    },
    {
     "data": {
      "image/png": "[encoded data removed]",
      "text/plain": [
       "<Figure size 432x288 with 1 Axes>"
      ]
     },
     "metadata": {},
     "output_type": "display_data"
    },
    {
     "data": {
      "text/plain": [
       "(<Figure size 432x288 with 1 Axes>, <AxesSubplot:>)"
      ]
     },
     "execution_count": 5,
     "metadata": {},
     "output_type": "execute_result"
    }
   ],
   "source": [
    "\"\"\" Look at solver results \"\"\"\n",
    "\n",
    "# The solver has a \"hof\" (hall of fame) where hof[i][0] is the metric/cost value\n",
    "# of the i^th best circuit, and hof[i][1] is the i^th best circuit\n",
    "# We can consider the best circuit...\n",
    "\n",
    "best_circuit = solver.hof[0][1]\n",
    "print(best_circuit)\n",
    "\n",
    "# We can also visualize the generated circuit\n",
    "best_circuit.draw_circuit()"
   ]
  },
  {
   "cell_type": "markdown",
   "metadata": {},
   "source": [
    "## Conclusion\n",
    "\n",
    "We have successfully found a circuit which creates a 3 qubit ghz state! To summarize, we have seen an example of each of the following:\n",
    "* Defining a target state\n",
    "* Initializing a compiler\n",
    "* Initializing a solver metric/cost function\n",
    "* Running a solver, and getting a solution circuit"
   ]
  }
 ],
 "metadata": {
  "kernelspec": {
   "display_name": "Python 3 (ipykernel)",
   "language": "python",
   "name": "python3"
  },
  "language_info": {
   "codemirror_mode": {
    "name": "ipython",
    "version": 3
   },
   "file_extension": ".py",
   "mimetype": "text/x-python",
   "name": "python",
   "nbconvert_exporter": "python",
   "pygments_lexer": "ipython3",
   "version": "3.9.5"
  }
 },
 "nbformat": 4,
 "nbformat_minor": 1
}
