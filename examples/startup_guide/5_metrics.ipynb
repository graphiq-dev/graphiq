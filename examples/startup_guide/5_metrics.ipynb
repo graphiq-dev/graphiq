{
 "cells": [
  {
   "cell_type": "markdown",
   "metadata": {
    "collapsed": true
   },
   "source": [
    "# Metrics/Cost Functions: MetricBase, Infidelity, TraceDistance, Metrics"
   ]
  },
  {
   "cell_type": "markdown",
   "metadata": {},
   "source": [
    "## Overview [Public API]\n",
    "\n",
    "We want to consider these metrics/cost functions from an optimization/inverse design perspective. **These cost functions (aka fitness functions) quantify the quality of produced circuits.**\n",
    "\n",
    "Inverse design is a design paradigm where we first pick a cost function, and then search the design space in the goal of minimizing/maximizing said function. In our algorithms, we only consider minimization (note however, that it is trivial to change a cost function which should be maximized into a minimizable cost function: you can simply add a negative sign). Most optimization algorithms work best when solutions which are nearby to optimal solutions have a low cost, and solutions which are further from optimal solutions have a high cost. \n",
    "\n",
    "Different requirements on quantum systems might lead to different definitions of cost functions. Additionally, some cost functions may be easier to optimize than others. Finally, we may want to evaluate metrics which we are not actively optimizing to check properties of our circuits. Thus, we support a number of cost functions/metrics which may perform differently under optimization.\n",
    "\n",
    "We will consider the following:\n",
    "1. General features of metrics/cost functions\n",
    "2. `Infidelity`, `TraceDistance`, and `CircuitDepth`\n",
    "3. Joint metrics (trading off between metric classes)"
   ]
  },
  {
   "cell_type": "markdown",
   "metadata": {},
   "source": [
    "## Metric object requirements: `MetricBase`\n",
    "\n",
    "All metric objects inherit from `MetricBase`\n",
    "\n",
    "### 1. Initialization\n",
    "\n",
    "All metric can be initialized with a `log_steps` argument. If unspecifies, `log_steps` defaults to one.\n",
    "\n",
    "Each `MetricBase` type object will log metric values upon evaluation. They will log every `log_step` value. This can be useful to tracking metrics over the run of certain solvers (particularly those which are not population based); however, the logging information collected through the solver is likely more useful.\n",
    "\n",
    "Sometimes, metrics will require additional initialization information (e.g. a target state). This is not always required.\n",
    "\n",
    "### 2. Evaluation\n",
    "\n",
    "Each metric object must have an evaluate function, `evaluate(state, circuit)`; that is, we consider the quality of a solution circuit to be fully characterized by its components and the state it produces.\n",
    "\n",
    "Metrics may only depend on the produced state(e.g. `Infidelity`,  `TraceDistance`), or only depend on the circuit (e.g. `CircuitDepth`). However, we require both arguments such that the solver can be agnostic to the metric type (i.e. so that it can pass both arguments without having to check the type of metric which it is running).\n",
    "\n",
    "`evaluate` must return a scalar (later, a vector may be acceptable for pareto-front optimization. This is not the case at the moment)"
   ]
  },
  {
   "cell_type": "markdown",
   "metadata": {},
   "source": [
    "# `Infidelity`, `TraceDistance`, `CircuitDepth`\n",
    "\n",
    "These are currently implemented metrics in our system.\n",
    "\n",
    "`Infidelity` and `TraceDistance` are measures of closeness between two quantum states (where smaller values indicate closer quantum states). Thus, we can make our optimizable cost functions the infidelity/trace distance between our produced state, and a target state.\n",
    "\n",
    "**NOTE:** both of these metrics require the two quantum states being compared to have the same size (i.e. same number of qubits). Otherwise, and error will be raised."
   ]
  },
  {
   "cell_type": "code",
   "execution_count": 1,
   "metadata": {},
   "outputs": [
    {
     "name": "stdout",
     "output_type": "stream",
     "text": [
      "Cost functions results on perfect state/circuit:\n",
      "Infidelity: 4.440892098500626e-16\n",
      "Trace distance: 0.0\n",
      "Circuit depth: 8\n",
      "\n",
      "Cost functions results on an incorrect state/circuit:\n",
      "Infidelity: 1.0\n",
      "Trace distance: 1.0\n",
      "Circuit depth: 8\n",
      "\n",
      "Infidelity log: [4.440892098500626e-16, 1.0]\n",
      "\n",
      " Trace Distance log: [0.0, 1.0]\n",
      "\n",
      " Circuit depth log: [8, 8]\n"
     ]
    }
   ],
   "source": [
    "\"\"\" Evaluating metrics \"\"\"\n",
    "\n",
    "from benchmarks.circuits import ghz4_state_circuit, linear_cluster_4qubit_circuit\n",
    "import src.metrics as met\n",
    "from src.backends.density_matrix.state import DensityMatrix\n",
    "\n",
    "# Let's look at a ghz4 target state\n",
    "ghz4_circuit, ghz4_target = ghz4_state_circuit()\n",
    "ghz4_target = ghz4_target['dm']  # this gives us a numpy array. A change coming in will force this to be a QuantumState\n",
    "\n",
    "# Initialize metrics\n",
    "infidelity = met.Infidelity(ghz4_target)\n",
    "trace_dist = met.TraceDistance(ghz4_target)\n",
    "circ_depth = met.CircuitDepth()\n",
    "\n",
    "# Let's look at optimal results\n",
    "print(f'Cost functions results on perfect state/circuit:')\n",
    "print(f'Infidelity: {infidelity.evaluate(ghz4_target, ghz4_circuit)}')\n",
    "print(f'Trace distance: {trace_dist.evaluate(ghz4_target, ghz4_circuit)}')\n",
    "print(f'Circuit depth: {circ_depth.evaluate(ghz4_target, ghz4_circuit)}')\n",
    "\n",
    "# Let's look at results, where the circuit produces the wrong state (for example, the linear cluster state)\n",
    "linear4_circuit, linear4_target = linear_cluster_4qubit_circuit()\n",
    "linear4_target = linear4_target['dm']\n",
    "\n",
    "print(f'\\nCost functions results on an incorrect state/circuit:')\n",
    "print(f'Infidelity: {infidelity.evaluate(linear4_target, ghz4_circuit)}')\n",
    "print(f'Trace distance: {trace_dist.evaluate(linear4_target, ghz4_circuit)}')\n",
    "print(f'Circuit depth: {circ_depth.evaluate(linear4_target, ghz4_circuit)}')\n",
    "\n",
    "# We can look at the logged values (recalling that by default, log_steps == 1, and we log every function result)\n",
    "print(f'\\nInfidelity log: {infidelity.log}')\n",
    "print(f'\\n Trace Distance log: {trace_dist.log}')\n",
    "print(f'\\n Circuit depth log: {circ_depth.log}')"
   ]
  },
  {
   "cell_type": "markdown",
   "metadata": {},
   "source": [
    "### CircuitDepth metric: normalization\n",
    "\n",
    "While the `Infidelity` and `TraceDistance` metrics have an obvious normalization, this is not the case for `CircuitDepth`. In the example above, we did not normalize circuit depth at all. However, we also allow a `depth_penalty` function to be defined."
   ]
  },
  {
   "cell_type": "code",
   "execution_count": 2,
   "metadata": {},
   "outputs": [
    {
     "name": "stdout",
     "output_type": "stream",
     "text": [
      "Circuit depth penalty: 0.25\n"
     ]
    }
   ],
   "source": [
    "\"\"\" CircuitDepth metric: normalization \"\"\"\n",
    "\n",
    "# Suppose that we don't mind circuits of depth ~< 16, but we want to punish circuit growth more harshly afterwards\n",
    "\n",
    "circ_depth_quadratic = met.CircuitDepth(depth_penalty=lambda x: (x / 16) ** 2)\n",
    "print(f'Circuit depth penalty: {circ_depth_quadratic.evaluate(linear4_target, ghz4_circuit)}')"
   ]
  },
  {
   "cell_type": "markdown",
   "metadata": {},
   "source": [
    "### Function implementation [Implementer Info]\n",
    "\n",
    "`Infidelity` and `TraceDistance` are currently only implemented in the density matrix representation (and the state input must reflect this--currently the state input is a numpy array, but shortly a change will come in and it will be a `QuantumState` object. Nevertheless, the `QuantumState` object must have a density matrix representation). An upcoming change will add the option to run `Infidelity` in stabilizer formalism.\n",
    "\n",
    "They are implemented from helper functions in `src/backends/density_matrix/functions.py`.\n",
    "\n",
    "`CircuitDepth` is implemented from a `depth` attribute in the circuit class."
   ]
  },
  {
   "cell_type": "markdown",
   "metadata": {},
   "source": [
    "## Joint metrics\n",
    "\n",
    "It can be useful to consider multiple metrics at once in our cost function. For example, we may decide that we care both about fidelity (how good the produced state is) and circuit depth (a measure of how expensive it would be to produce this state using the designed circuit).\n",
    "\n",
    "For this purpose, we can use the `Metrics` class."
   ]
  },
  {
   "cell_type": "code",
   "execution_count": 3,
   "metadata": {},
   "outputs": [
    {
     "name": "stdout",
     "output_type": "stream",
     "text": [
      "Combined metric on correct state/circuit: 0.25000000000000044\n",
      "Combined metric on incorrect state/circuit: 2.25\n"
     ]
    }
   ],
   "source": [
    "\"\"\" Combo metric, default weighting \"\"\"\n",
    "\n",
    "combo_metric = met.Metrics([infidelity, trace_dist, circ_depth_quadratic])\n",
    "print(f'Combined metric on correct state/circuit: {combo_metric.evaluate(ghz4_target, ghz4_circuit)}')\n",
    "print(f'Combined metric on incorrect state/circuit: {combo_metric.evaluate(linear4_target, ghz4_circuit)}')"
   ]
  },
  {
   "cell_type": "code",
   "execution_count": 4,
   "metadata": {},
   "outputs": [
    {
     "name": "stdout",
     "output_type": "stream",
     "text": [
      "Combined metric on correct state/circuit: 0.05000000000000018\n",
      "Combined metric on incorrect state/circuit: 0.8500000000000001\n"
     ]
    }
   ],
   "source": [
    "\"\"\" Combo metric, linear combination weighting \"\"\"\n",
    "combo_metric = met.Metrics([infidelity, trace_dist, circ_depth_quadratic], metric_weight=[0.4, 0.4, 0.2])\n",
    "print(f'Combined metric on correct state/circuit: {combo_metric.evaluate(ghz4_target, ghz4_circuit)}')\n",
    "print(f'Combined metric on incorrect state/circuit: {combo_metric.evaluate(linear4_target, ghz4_circuit)}')"
   ]
  },
  {
   "cell_type": "code",
   "execution_count": 7,
   "metadata": {},
   "outputs": [
    {
     "ename": "TypeError",
     "evalue": "unhashable type: 'list'",
     "output_type": "error",
     "traceback": [
      "\u001b[1;31m---------------------------------------------------------------------------\u001b[0m",
      "\u001b[1;31mTypeError\u001b[0m                                 Traceback (most recent call last)",
      "Input \u001b[1;32mIn [7]\u001b[0m, in \u001b[0;36m<cell line: 14>\u001b[1;34m()\u001b[0m\n\u001b[0;32m     10\u001b[0m     metrics_eval \u001b[38;5;241m=\u001b[39m \u001b[38;5;241m0.4\u001b[39m \u001b[38;5;241m*\u001b[39m metric_list[\u001b[38;5;241m0\u001b[39m]\u001b[38;5;241m.\u001b[39mevaluate(state, circuit) \u001b[38;5;241m+\u001b[39m \u001b[38;5;241m0.4\u001b[39m \u001b[38;5;241m*\u001b[39m metric_list[\u001b[38;5;241m1\u001b[39m]\u001b[38;5;241m.\u001b[39mevaluate(state, circuit) \u001b[38;5;241m+\u001b[39m \\\n\u001b[0;32m     11\u001b[0m                    \u001b[38;5;241m0.2\u001b[39m \u001b[38;5;241m*\u001b[39m metric_list[\u001b[38;5;241m2\u001b[39m]\u001b[38;5;241m.\u001b[39mevaluate(state, circuit) \u001b[38;5;241m*\u001b[39m\u001b[38;5;241m*\u001b[39m \u001b[38;5;241m2\u001b[39m\n\u001b[0;32m     12\u001b[0m     \u001b[38;5;28;01mreturn\u001b[39;00m metrics_eval\n\u001b[1;32m---> 14\u001b[0m combo_metric \u001b[38;5;241m=\u001b[39m \u001b[43mmet\u001b[49m\u001b[38;5;241;43m.\u001b[39;49m\u001b[43mMetrics\u001b[49m\u001b[43m(\u001b[49m\u001b[43mmetric_list\u001b[49m\u001b[43m,\u001b[49m\u001b[43m \u001b[49m\u001b[43mmetric_weight\u001b[49m\u001b[38;5;241;43m=\u001b[39;49m\u001b[43mmetric_weight_custom\u001b[49m\u001b[43m)\u001b[49m\n\u001b[0;32m     15\u001b[0m \u001b[38;5;28mprint\u001b[39m(\u001b[38;5;124mf\u001b[39m\u001b[38;5;124m'\u001b[39m\u001b[38;5;124mCombined metric on correct state/circuit: \u001b[39m\u001b[38;5;132;01m{\u001b[39;00mcombo_metric\u001b[38;5;241m.\u001b[39mevaluate(ghz4_target, ghz4_circuit)\u001b[38;5;132;01m}\u001b[39;00m\u001b[38;5;124m'\u001b[39m)\n\u001b[0;32m     16\u001b[0m \u001b[38;5;28mprint\u001b[39m(\u001b[38;5;124mf\u001b[39m\u001b[38;5;124m'\u001b[39m\u001b[38;5;124mCombined metric on incorrect state/circuit: \u001b[39m\u001b[38;5;132;01m{\u001b[39;00mcombo_metric\u001b[38;5;241m.\u001b[39mevaluate(linear4_target, ghz4_circuit)\u001b[38;5;132;01m}\u001b[39;00m\u001b[38;5;124m'\u001b[39m)\n",
      "File \u001b[1;32m~\\Documents\\_graduate\\git_repositories\\graph-compiler\\src\\metrics.py:215\u001b[0m, in \u001b[0;36mMetrics.__init__\u001b[1;34m(self, metrics_list, metric_weight, log_steps, *args, **kwargs)\u001b[0m\n\u001b[0;32m    213\u001b[0m \u001b[38;5;28;01mif\u001b[39;00m metric\u001b[38;5;241m.\u001b[39m\u001b[38;5;18m__class__\u001b[39m \u001b[38;5;129;01min\u001b[39;00m \u001b[38;5;28mself\u001b[39m\u001b[38;5;241m.\u001b[39m_all\u001b[38;5;241m.\u001b[39mvalues():\n\u001b[0;32m    214\u001b[0m     _metrics\u001b[38;5;241m.\u001b[39mappend(metric)\n\u001b[1;32m--> 215\u001b[0m \u001b[38;5;28;01melif\u001b[39;00m \u001b[43mmetric\u001b[49m\u001b[43m \u001b[49m\u001b[38;5;129;43;01min\u001b[39;49;00m\u001b[43m \u001b[49m\u001b[38;5;28;43mself\u001b[39;49m\u001b[38;5;241;43m.\u001b[39;49m\u001b[43m_all\u001b[49m\u001b[38;5;241;43m.\u001b[39;49m\u001b[43mkeys\u001b[49m\u001b[43m(\u001b[49m\u001b[43m)\u001b[49m:\n\u001b[0;32m    216\u001b[0m     _metrics\u001b[38;5;241m.\u001b[39mappend(\u001b[38;5;28mself\u001b[39m\u001b[38;5;241m.\u001b[39m_all[metric]())\n\u001b[0;32m    217\u001b[0m \u001b[38;5;28;01melse\u001b[39;00m:\n",
      "\u001b[1;31mTypeError\u001b[0m: unhashable type: 'list'"
     ]
    }
   ],
   "source": [
    "\"\"\" Combo metric, arbitrary weighting / metric function \"\"\"\n",
    "\n",
    "# first, let's clear the metric_list logs\n",
    "infidelity.log = []\n",
    "trace_dist.log = []\n",
    "circ_depth_quadratic = []\n",
    "\n",
    "metric_list = [infidelity, trace_dist, circ_depth_quadratic]\n",
    "def metric_weight_custom(state, circuit):\n",
    "    metrics_eval = 0.4 * metric_list[0].evaluate(state, circuit) + 0.4 * metric_list[1].evaluate(state, circuit) + \\\n",
    "                   0.2 * metric_list[2].evaluate(state, circuit) ** 2\n",
    "    return metrics_eval\n",
    "\n",
    "combo_metric = met.Metrics(metric_list, metric_weight=metric_weight_custom)\n",
    "print(f'Combined metric on correct state/circuit: {combo_metric.evaluate(ghz4_target, ghz4_circuit)}')\n",
    "print(f'Combined metric on incorrect state/circuit: {combo_metric.evaluate(linear4_target, ghz4_circuit)}')"
   ]
  },
  {
   "cell_type": "code",
   "execution_count": 6,
   "metadata": {},
   "outputs": [
    {
     "name": "stdout",
     "output_type": "stream",
     "text": [
      "score log:\n",
      "[0.012500000000000178, 0.8125]\n",
      "score log for each constituent function:\n",
      "{'Infidelity': [4.440892098500626e-16, 1.0, 4.440892098500626e-16, 1.0, 4.440892098500626e-16, 1.0, 4.440892098500626e-16, 1.0], 'TraceDistance': [0.0, 1.0, 0.0, 1.0, 0.0, 1.0, 0.0, 1.0], 'CircuitDepth': [0.25, 0.25, 0.25, 0.25, 0.25, 0.25, 0.25]}\n"
     ]
    }
   ],
   "source": [
    "\"\"\" Finally, we can still access the log of a particular metric, as well as the logs of each constituent function\"\"\"\n",
    "\n",
    "print(f'score log:')\n",
    "print(combo_metric.log)\n",
    "\n",
    "print(f'score log for each constituent function:')\n",
    "print(combo_metric.per_metric_log)"
   ]
  }
 ],
 "metadata": {
  "kernelspec": {
   "display_name": "Python 3 (ipykernel)",
   "language": "python",
   "name": "python3"
  },
  "language_info": {
   "codemirror_mode": {
    "name": "ipython",
    "version": 3
   },
   "file_extension": ".py",
   "mimetype": "text/x-python",
   "name": "python",
   "nbconvert_exporter": "python",
   "pygments_lexer": "ipython3",
   "version": "3.9.5"
  }
 },
 "nbformat": 4,
 "nbformat_minor": 1
}
