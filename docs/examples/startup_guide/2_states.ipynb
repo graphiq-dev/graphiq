{
 "cells": [
  {
   "cell_type": "markdown",
   "metadata": {
    "pycharm": {
     "name": "#%% md\n"
    }
   },
   "source": [
    "# Creating a State: Introduction to QuantumState, state representations, and associated visualization"
   ]
  },
  {
   "cell_type": "markdown",
   "metadata": {
    "pycharm": {
     "name": "#%% md\n"
    }
   },
   "source": [
    "## Overview [Public API]\n",
    "\n",
    "\n",
    "Our quantum states are represented by objects of a `QuantumState` class. This is a wrapper class which contains one or more circuit representations; in the future, this class is also expected to mediate conversions between different state representations.\n",
    "\n",
    "Our quantum states have 3 currently planned representations:\n",
    "1. **Density matrix:** this is the most powerful representation, and can represent mixed quantum states and the most types of noise. However, the size of the matrix scales exponentially with the number of qubits.\n",
    "2. **Stabilizer:** less powerful than the density matrix (cannot represent mixed states), but simulation of a circuit with stabilizer formalism has a polynomial runtime, and thus it can access much larger states\n",
    "3. **Graph:** this is a graph-based representation of quantum states (it can only represent a class of graphs called \"graph states\"). While more restrictive than the stabilizer representation, it may allow us to use graph-theoretic tools (e.g. graph edit distance) in our solvers.\n",
    "\n",
    "We will consider each state representation first."
   ]
  },
  {
   "cell_type": "markdown",
   "metadata": {
    "pycharm": {
     "name": "#%% md\n"
    }
   },
   "source": [
    "## Density Matrix State Representation\n",
    "\n",
    "**Relevant python files:** graphiq/backends/density_matrix/state.py\n",
    "\n",
    "This is not an overview of density matrix formalism in quantum mechanics, but rather of our density matrix class.\n",
    "\n",
    "Internally, the density matrix is represented by a numpy array. Additionally, the class contains helper functions which allows us to apply quantum operations (e.g. unitary gates, measurements) or noise to our system without manually modifying the numpy array."
   ]
  },
  {
   "cell_type": "markdown",
   "metadata": {
    "pycharm": {
     "name": "#%% md\n"
    }
   },
   "source": [
    "### Initializing `DensityMatrix` state representation [Public API]\n",
    "\n",
    "Most often, the only direct state manipulation a user will have to perform is the initialization of their ideal state (the remaining state manipulation occurs during the compilation/simulation of the circuit, which is done automatically)."
   ]
  },
  {
   "cell_type": "code",
   "execution_count": 3,
   "metadata": {
    "pycharm": {
     "name": "#%%\n"
    }
   },
   "outputs": [
    {
     "ename": "ImportError",
     "evalue": "dlopen(/Library/Frameworks/Python.framework/Versions/3.10/lib/python3.10/site-packages/pandas/_libs/interval.cpython-310-darwin.so, 0x0002): tried: '/Library/Frameworks/Python.framework/Versions/3.10/lib/python3.10/site-packages/pandas/_libs/interval.cpython-310-darwin.so' (mach-o file, but is an incompatible architecture (have 'x86_64', need 'arm64')), '/System/Volumes/Preboot/Cryptexes/OS/Library/Frameworks/Python.framework/Versions/3.10/lib/python3.10/site-packages/pandas/_libs/interval.cpython-310-darwin.so' (no such file), '/Library/Frameworks/Python.framework/Versions/3.10/lib/python3.10/site-packages/pandas/_libs/interval.cpython-310-darwin.so' (mach-o file, but is an incompatible architecture (have 'x86_64', need 'arm64'))",
     "output_type": "error",
     "traceback": [
      "\u001B[0;31m---------------------------------------------------------------------------\u001B[0m",
      "\u001B[0;31mImportError\u001B[0m                               Traceback (most recent call last)",
      "Input \u001B[0;32mIn [3]\u001B[0m, in \u001B[0;36m<cell line: 3>\u001B[0;34m()\u001B[0m\n\u001B[1;32m      1\u001B[0m \u001B[38;5;124;03m\"\"\" Initializing a density matrix of size n, with every qubit in state |0> \"\"\"\u001B[39;00m\n\u001B[0;32m----> 3\u001B[0m \u001B[38;5;28;01mfrom\u001B[39;00m \u001B[38;5;21;01msrc\u001B[39;00m\u001B[38;5;21;01m.\u001B[39;00m\u001B[38;5;21;01mbackends\u001B[39;00m\u001B[38;5;21;01m.\u001B[39;00m\u001B[38;5;21;01mdensity_matrix\u001B[39;00m\u001B[38;5;21;01m.\u001B[39;00m\u001B[38;5;21;01mstate\u001B[39;00m \u001B[38;5;28;01mimport\u001B[39;00m DensityMatrix\n\u001B[1;32m      5\u001B[0m n \u001B[38;5;241m=\u001B[39m \u001B[38;5;241m3\u001B[39m\n\u001B[1;32m      6\u001B[0m dm_state \u001B[38;5;241m=\u001B[39m DensityMatrix(n)\n",
      "File \u001B[0;32m~/Documents/GitHub/graph-compiler/graphiq/backends/density_matrix/state.py:12\u001B[0m, in \u001B[0;36m<module>\u001B[0;34m\u001B[0m\n\u001B[1;32m     10\u001B[0m \u001B[38;5;28;01mfrom\u001B[39;00m \u001B[38;5;21;01msrc\u001B[39;00m\u001B[38;5;21;01m.\u001B[39;00m\u001B[38;5;21;01mbackends\u001B[39;00m\u001B[38;5;21;01m.\u001B[39;00m\u001B[38;5;21;01mstate_base\u001B[39;00m \u001B[38;5;28;01mimport\u001B[39;00m StateRepresentationBase\n\u001B[1;32m     11\u001B[0m \u001B[38;5;28;01mfrom\u001B[39;00m \u001B[38;5;21;01msrc\u001B[39;00m\u001B[38;5;21;01m.\u001B[39;00m\u001B[38;5;21;01mbackends\u001B[39;00m\u001B[38;5;21;01m.\u001B[39;00m\u001B[38;5;21;01mgraph\u001B[39;00m\u001B[38;5;21;01m.\u001B[39;00m\u001B[38;5;21;01mstate\u001B[39;00m \u001B[38;5;28;01mimport\u001B[39;00m Graph\n\u001B[0;32m---> 12\u001B[0m \u001B[38;5;28;01mfrom\u001B[39;00m \u001B[38;5;21;01msrc\u001B[39;00m\u001B[38;5;21;01m.\u001B[39;00m\u001B[38;5;21;01mvisualizers\u001B[39;00m\u001B[38;5;21;01m.\u001B[39;00m\u001B[38;5;21;01mdensity_matrix\u001B[39;00m \u001B[38;5;28;01mimport\u001B[39;00m density_matrix_heatmap, density_matrix_bars\n\u001B[1;32m     13\u001B[0m \u001B[38;5;28;01mfrom\u001B[39;00m \u001B[38;5;21;01msrc\u001B[39;00m\u001B[38;5;21;01m.\u001B[39;00m\u001B[38;5;21;01mbackends\u001B[39;00m\u001B[38;5;21;01m.\u001B[39;00m\u001B[38;5;21;01mstate_rep_conversion\u001B[39;00m \u001B[38;5;28;01mimport\u001B[39;00m graph_to_density\n\u001B[1;32m     16\u001B[0m \u001B[38;5;28;01mclass\u001B[39;00m \u001B[38;5;21;01mDensityMatrix\u001B[39;00m(StateRepresentationBase):\n",
      "File \u001B[0;32m~/Documents/GitHub/graph-compiler/graphiq/visualizers/density_matrix.py:2\u001B[0m, in \u001B[0;36m<module>\u001B[0;34m\u001B[0m\n\u001B[1;32m      1\u001B[0m \u001B[38;5;28;01mimport\u001B[39;00m \u001B[38;5;21;01mmatplotlib\u001B[39;00m\u001B[38;5;21;01m.\u001B[39;00m\u001B[38;5;21;01mpyplot\u001B[39;00m \u001B[38;5;28;01mas\u001B[39;00m \u001B[38;5;21;01mplt\u001B[39;00m\n\u001B[0;32m----> 2\u001B[0m \u001B[38;5;28;01mimport\u001B[39;00m \u001B[38;5;21;01mseaborn\u001B[39;00m \u001B[38;5;28;01mas\u001B[39;00m \u001B[38;5;21;01msns\u001B[39;00m\n\u001B[1;32m      3\u001B[0m \u001B[38;5;28;01mimport\u001B[39;00m \u001B[38;5;21;01mqutip\u001B[39;00m \u001B[38;5;28;01mas\u001B[39;00m \u001B[38;5;21;01mqt\u001B[39;00m\n\u001B[1;32m      4\u001B[0m \u001B[38;5;28;01mimport\u001B[39;00m \u001B[38;5;21;01mnumpy\u001B[39;00m \u001B[38;5;28;01mas\u001B[39;00m \u001B[38;5;21;01mnp\u001B[39;00m\n",
      "File \u001B[0;32m/Library/Frameworks/Python.framework/Versions/3.10/lib/python3.10/site-packages/seaborn/__init__.py:2\u001B[0m, in \u001B[0;36m<module>\u001B[0;34m\u001B[0m\n\u001B[1;32m      1\u001B[0m \u001B[38;5;66;03m# Import seaborn objects\u001B[39;00m\n\u001B[0;32m----> 2\u001B[0m \u001B[38;5;28;01mfrom\u001B[39;00m \u001B[38;5;21;01m.\u001B[39;00m\u001B[38;5;21;01mrcmod\u001B[39;00m \u001B[38;5;28;01mimport\u001B[39;00m \u001B[38;5;241m*\u001B[39m  \u001B[38;5;66;03m# noqa: F401,F403\u001B[39;00m\n\u001B[1;32m      3\u001B[0m \u001B[38;5;28;01mfrom\u001B[39;00m \u001B[38;5;21;01m.\u001B[39;00m\u001B[38;5;21;01mutils\u001B[39;00m \u001B[38;5;28;01mimport\u001B[39;00m \u001B[38;5;241m*\u001B[39m  \u001B[38;5;66;03m# noqa: F401,F403\u001B[39;00m\n\u001B[1;32m      4\u001B[0m \u001B[38;5;28;01mfrom\u001B[39;00m \u001B[38;5;21;01m.\u001B[39;00m\u001B[38;5;21;01mpalettes\u001B[39;00m \u001B[38;5;28;01mimport\u001B[39;00m \u001B[38;5;241m*\u001B[39m  \u001B[38;5;66;03m# noqa: F401,F403\u001B[39;00m\n",
      "File \u001B[0;32m/Library/Frameworks/Python.framework/Versions/3.10/lib/python3.10/site-packages/seaborn/rcmod.py:7\u001B[0m, in \u001B[0;36m<module>\u001B[0;34m\u001B[0m\n\u001B[1;32m      5\u001B[0m \u001B[38;5;28;01mimport\u001B[39;00m \u001B[38;5;21;01mmatplotlib\u001B[39;00m \u001B[38;5;28;01mas\u001B[39;00m \u001B[38;5;21;01mmpl\u001B[39;00m\n\u001B[1;32m      6\u001B[0m \u001B[38;5;28;01mfrom\u001B[39;00m \u001B[38;5;21;01mcycler\u001B[39;00m \u001B[38;5;28;01mimport\u001B[39;00m cycler\n\u001B[0;32m----> 7\u001B[0m \u001B[38;5;28;01mfrom\u001B[39;00m \u001B[38;5;21;01m.\u001B[39;00m \u001B[38;5;28;01mimport\u001B[39;00m palettes\n\u001B[1;32m     10\u001B[0m __all__ \u001B[38;5;241m=\u001B[39m [\u001B[38;5;124m\"\u001B[39m\u001B[38;5;124mset_theme\u001B[39m\u001B[38;5;124m\"\u001B[39m, \u001B[38;5;124m\"\u001B[39m\u001B[38;5;124mset\u001B[39m\u001B[38;5;124m\"\u001B[39m, \u001B[38;5;124m\"\u001B[39m\u001B[38;5;124mreset_defaults\u001B[39m\u001B[38;5;124m\"\u001B[39m, \u001B[38;5;124m\"\u001B[39m\u001B[38;5;124mreset_orig\u001B[39m\u001B[38;5;124m\"\u001B[39m,\n\u001B[1;32m     11\u001B[0m            \u001B[38;5;124m\"\u001B[39m\u001B[38;5;124maxes_style\u001B[39m\u001B[38;5;124m\"\u001B[39m, \u001B[38;5;124m\"\u001B[39m\u001B[38;5;124mset_style\u001B[39m\u001B[38;5;124m\"\u001B[39m, \u001B[38;5;124m\"\u001B[39m\u001B[38;5;124mplotting_context\u001B[39m\u001B[38;5;124m\"\u001B[39m, \u001B[38;5;124m\"\u001B[39m\u001B[38;5;124mset_context\u001B[39m\u001B[38;5;124m\"\u001B[39m,\n\u001B[1;32m     12\u001B[0m            \u001B[38;5;124m\"\u001B[39m\u001B[38;5;124mset_palette\u001B[39m\u001B[38;5;124m\"\u001B[39m]\n\u001B[1;32m     15\u001B[0m _style_keys \u001B[38;5;241m=\u001B[39m [\n\u001B[1;32m     16\u001B[0m \n\u001B[1;32m     17\u001B[0m     \u001B[38;5;124m\"\u001B[39m\u001B[38;5;124maxes.facecolor\u001B[39m\u001B[38;5;124m\"\u001B[39m,\n\u001B[0;32m   (...)\u001B[0m\n\u001B[1;32m     52\u001B[0m \n\u001B[1;32m     53\u001B[0m ]\n",
      "File \u001B[0;32m/Library/Frameworks/Python.framework/Versions/3.10/lib/python3.10/site-packages/seaborn/palettes.py:9\u001B[0m, in \u001B[0;36m<module>\u001B[0;34m\u001B[0m\n\u001B[1;32m      5\u001B[0m \u001B[38;5;28;01mimport\u001B[39;00m \u001B[38;5;21;01mmatplotlib\u001B[39;00m \u001B[38;5;28;01mas\u001B[39;00m \u001B[38;5;21;01mmpl\u001B[39;00m\n\u001B[1;32m      7\u001B[0m \u001B[38;5;28;01mfrom\u001B[39;00m \u001B[38;5;21;01m.\u001B[39;00m\u001B[38;5;21;01mexternal\u001B[39;00m \u001B[38;5;28;01mimport\u001B[39;00m husl\n\u001B[0;32m----> 9\u001B[0m \u001B[38;5;28;01mfrom\u001B[39;00m \u001B[38;5;21;01m.\u001B[39;00m\u001B[38;5;21;01mutils\u001B[39;00m \u001B[38;5;28;01mimport\u001B[39;00m desaturate, get_color_cycle\n\u001B[1;32m     10\u001B[0m \u001B[38;5;28;01mfrom\u001B[39;00m \u001B[38;5;21;01m.\u001B[39;00m\u001B[38;5;21;01mcolors\u001B[39;00m \u001B[38;5;28;01mimport\u001B[39;00m xkcd_rgb, crayons\n\u001B[1;32m     13\u001B[0m __all__ \u001B[38;5;241m=\u001B[39m [\u001B[38;5;124m\"\u001B[39m\u001B[38;5;124mcolor_palette\u001B[39m\u001B[38;5;124m\"\u001B[39m, \u001B[38;5;124m\"\u001B[39m\u001B[38;5;124mhls_palette\u001B[39m\u001B[38;5;124m\"\u001B[39m, \u001B[38;5;124m\"\u001B[39m\u001B[38;5;124mhusl_palette\u001B[39m\u001B[38;5;124m\"\u001B[39m, \u001B[38;5;124m\"\u001B[39m\u001B[38;5;124mmpl_palette\u001B[39m\u001B[38;5;124m\"\u001B[39m,\n\u001B[1;32m     14\u001B[0m            \u001B[38;5;124m\"\u001B[39m\u001B[38;5;124mdark_palette\u001B[39m\u001B[38;5;124m\"\u001B[39m, \u001B[38;5;124m\"\u001B[39m\u001B[38;5;124mlight_palette\u001B[39m\u001B[38;5;124m\"\u001B[39m, \u001B[38;5;124m\"\u001B[39m\u001B[38;5;124mdiverging_palette\u001B[39m\u001B[38;5;124m\"\u001B[39m,\n\u001B[1;32m     15\u001B[0m            \u001B[38;5;124m\"\u001B[39m\u001B[38;5;124mblend_palette\u001B[39m\u001B[38;5;124m\"\u001B[39m, \u001B[38;5;124m\"\u001B[39m\u001B[38;5;124mxkcd_palette\u001B[39m\u001B[38;5;124m\"\u001B[39m, \u001B[38;5;124m\"\u001B[39m\u001B[38;5;124mcrayon_palette\u001B[39m\u001B[38;5;124m\"\u001B[39m,\n\u001B[1;32m     16\u001B[0m            \u001B[38;5;124m\"\u001B[39m\u001B[38;5;124mcubehelix_palette\u001B[39m\u001B[38;5;124m\"\u001B[39m, \u001B[38;5;124m\"\u001B[39m\u001B[38;5;124mset_color_codes\u001B[39m\u001B[38;5;124m\"\u001B[39m]\n",
      "File \u001B[0;32m/Library/Frameworks/Python.framework/Versions/3.10/lib/python3.10/site-packages/seaborn/utils.py:11\u001B[0m, in \u001B[0;36m<module>\u001B[0;34m\u001B[0m\n\u001B[1;32m      9\u001B[0m \u001B[38;5;28;01mimport\u001B[39;00m \u001B[38;5;21;01mnumpy\u001B[39;00m \u001B[38;5;28;01mas\u001B[39;00m \u001B[38;5;21;01mnp\u001B[39;00m\n\u001B[1;32m     10\u001B[0m \u001B[38;5;28;01mfrom\u001B[39;00m \u001B[38;5;21;01mscipy\u001B[39;00m \u001B[38;5;28;01mimport\u001B[39;00m stats\n\u001B[0;32m---> 11\u001B[0m \u001B[38;5;28;01mimport\u001B[39;00m \u001B[38;5;21;01mpandas\u001B[39;00m \u001B[38;5;28;01mas\u001B[39;00m \u001B[38;5;21;01mpd\u001B[39;00m\n\u001B[1;32m     12\u001B[0m \u001B[38;5;28;01mimport\u001B[39;00m \u001B[38;5;21;01mmatplotlib\u001B[39;00m \u001B[38;5;28;01mas\u001B[39;00m \u001B[38;5;21;01mmpl\u001B[39;00m\n\u001B[1;32m     13\u001B[0m \u001B[38;5;28;01mimport\u001B[39;00m \u001B[38;5;21;01mmatplotlib\u001B[39;00m\u001B[38;5;21;01m.\u001B[39;00m\u001B[38;5;21;01mcolors\u001B[39;00m \u001B[38;5;28;01mas\u001B[39;00m \u001B[38;5;21;01mmplcol\u001B[39;00m\n",
      "File \u001B[0;32m/Library/Frameworks/Python.framework/Versions/3.10/lib/python3.10/site-packages/pandas/__init__.py:22\u001B[0m, in \u001B[0;36m<module>\u001B[0;34m\u001B[0m\n\u001B[1;32m     19\u001B[0m \u001B[38;5;28;01mdel\u001B[39;00m hard_dependencies, dependency, missing_dependencies\n\u001B[1;32m     21\u001B[0m \u001B[38;5;66;03m# numpy compat\u001B[39;00m\n\u001B[0;32m---> 22\u001B[0m \u001B[38;5;28;01mfrom\u001B[39;00m \u001B[38;5;21;01mpandas\u001B[39;00m\u001B[38;5;21;01m.\u001B[39;00m\u001B[38;5;21;01mcompat\u001B[39;00m \u001B[38;5;28;01mimport\u001B[39;00m is_numpy_dev \u001B[38;5;28;01mas\u001B[39;00m _is_numpy_dev\n\u001B[1;32m     24\u001B[0m \u001B[38;5;28;01mtry\u001B[39;00m:\n\u001B[1;32m     25\u001B[0m     \u001B[38;5;28;01mfrom\u001B[39;00m \u001B[38;5;21;01mpandas\u001B[39;00m\u001B[38;5;21;01m.\u001B[39;00m\u001B[38;5;21;01m_libs\u001B[39;00m \u001B[38;5;28;01mimport\u001B[39;00m hashtable \u001B[38;5;28;01mas\u001B[39;00m _hashtable, lib \u001B[38;5;28;01mas\u001B[39;00m _lib, tslib \u001B[38;5;28;01mas\u001B[39;00m _tslib\n",
      "File \u001B[0;32m/Library/Frameworks/Python.framework/Versions/3.10/lib/python3.10/site-packages/pandas/compat/__init__.py:15\u001B[0m, in \u001B[0;36m<module>\u001B[0;34m\u001B[0m\n\u001B[1;32m     12\u001B[0m \u001B[38;5;28;01mimport\u001B[39;00m \u001B[38;5;21;01msys\u001B[39;00m\n\u001B[1;32m     14\u001B[0m \u001B[38;5;28;01mfrom\u001B[39;00m \u001B[38;5;21;01mpandas\u001B[39;00m\u001B[38;5;21;01m.\u001B[39;00m\u001B[38;5;21;01m_typing\u001B[39;00m \u001B[38;5;28;01mimport\u001B[39;00m F\n\u001B[0;32m---> 15\u001B[0m \u001B[38;5;28;01mfrom\u001B[39;00m \u001B[38;5;21;01mpandas\u001B[39;00m\u001B[38;5;21;01m.\u001B[39;00m\u001B[38;5;21;01mcompat\u001B[39;00m\u001B[38;5;21;01m.\u001B[39;00m\u001B[38;5;21;01mnumpy\u001B[39;00m \u001B[38;5;28;01mimport\u001B[39;00m (\n\u001B[1;32m     16\u001B[0m     is_numpy_dev,\n\u001B[1;32m     17\u001B[0m     np_version_under1p19,\n\u001B[1;32m     18\u001B[0m     np_version_under1p20,\n\u001B[1;32m     19\u001B[0m )\n\u001B[1;32m     20\u001B[0m \u001B[38;5;28;01mfrom\u001B[39;00m \u001B[38;5;21;01mpandas\u001B[39;00m\u001B[38;5;21;01m.\u001B[39;00m\u001B[38;5;21;01mcompat\u001B[39;00m\u001B[38;5;21;01m.\u001B[39;00m\u001B[38;5;21;01mpyarrow\u001B[39;00m \u001B[38;5;28;01mimport\u001B[39;00m (\n\u001B[1;32m     21\u001B[0m     pa_version_under1p01,\n\u001B[1;32m     22\u001B[0m     pa_version_under2p0,\n\u001B[1;32m     23\u001B[0m     pa_version_under3p0,\n\u001B[1;32m     24\u001B[0m     pa_version_under4p0,\n\u001B[1;32m     25\u001B[0m )\n\u001B[1;32m     27\u001B[0m PY39 \u001B[38;5;241m=\u001B[39m sys\u001B[38;5;241m.\u001B[39mversion_info \u001B[38;5;241m>\u001B[39m\u001B[38;5;241m=\u001B[39m (\u001B[38;5;241m3\u001B[39m, \u001B[38;5;241m9\u001B[39m)\n",
      "File \u001B[0;32m/Library/Frameworks/Python.framework/Versions/3.10/lib/python3.10/site-packages/pandas/compat/numpy/__init__.py:4\u001B[0m, in \u001B[0;36m<module>\u001B[0;34m\u001B[0m\n\u001B[1;32m      1\u001B[0m \u001B[38;5;124;03m\"\"\" support numpy compatibility across versions \"\"\"\u001B[39;00m\n\u001B[1;32m      2\u001B[0m \u001B[38;5;28;01mimport\u001B[39;00m \u001B[38;5;21;01mnumpy\u001B[39;00m \u001B[38;5;28;01mas\u001B[39;00m \u001B[38;5;21;01mnp\u001B[39;00m\n\u001B[0;32m----> 4\u001B[0m \u001B[38;5;28;01mfrom\u001B[39;00m \u001B[38;5;21;01mpandas\u001B[39;00m\u001B[38;5;21;01m.\u001B[39;00m\u001B[38;5;21;01mutil\u001B[39;00m\u001B[38;5;21;01m.\u001B[39;00m\u001B[38;5;21;01mversion\u001B[39;00m \u001B[38;5;28;01mimport\u001B[39;00m Version\n\u001B[1;32m      6\u001B[0m \u001B[38;5;66;03m# numpy versioning\u001B[39;00m\n\u001B[1;32m      7\u001B[0m _np_version \u001B[38;5;241m=\u001B[39m np\u001B[38;5;241m.\u001B[39m__version__\n",
      "File \u001B[0;32m/Library/Frameworks/Python.framework/Versions/3.10/lib/python3.10/site-packages/pandas/util/__init__.py:1\u001B[0m, in \u001B[0;36m<module>\u001B[0;34m\u001B[0m\n\u001B[0;32m----> 1\u001B[0m \u001B[38;5;28;01mfrom\u001B[39;00m \u001B[38;5;21;01mpandas\u001B[39;00m\u001B[38;5;21;01m.\u001B[39;00m\u001B[38;5;21;01mutil\u001B[39;00m\u001B[38;5;21;01m.\u001B[39;00m\u001B[38;5;21;01m_decorators\u001B[39;00m \u001B[38;5;28;01mimport\u001B[39;00m (  \u001B[38;5;66;03m# noqa:F401\u001B[39;00m\n\u001B[1;32m      2\u001B[0m     Appender,\n\u001B[1;32m      3\u001B[0m     Substitution,\n\u001B[1;32m      4\u001B[0m     cache_readonly,\n\u001B[1;32m      5\u001B[0m )\n\u001B[1;32m      7\u001B[0m \u001B[38;5;28;01mfrom\u001B[39;00m \u001B[38;5;21;01mpandas\u001B[39;00m\u001B[38;5;21;01m.\u001B[39;00m\u001B[38;5;21;01mcore\u001B[39;00m\u001B[38;5;21;01m.\u001B[39;00m\u001B[38;5;21;01mutil\u001B[39;00m\u001B[38;5;21;01m.\u001B[39;00m\u001B[38;5;21;01mhashing\u001B[39;00m \u001B[38;5;28;01mimport\u001B[39;00m (  \u001B[38;5;66;03m# noqa:F401\u001B[39;00m\n\u001B[1;32m      8\u001B[0m     hash_array,\n\u001B[1;32m      9\u001B[0m     hash_pandas_object,\n\u001B[1;32m     10\u001B[0m )\n\u001B[1;32m     13\u001B[0m \u001B[38;5;28;01mdef\u001B[39;00m \u001B[38;5;21m__getattr__\u001B[39m(name):\n",
      "File \u001B[0;32m/Library/Frameworks/Python.framework/Versions/3.10/lib/python3.10/site-packages/pandas/util/_decorators.py:14\u001B[0m, in \u001B[0;36m<module>\u001B[0;34m\u001B[0m\n\u001B[1;32m      6\u001B[0m \u001B[38;5;28;01mfrom\u001B[39;00m \u001B[38;5;21;01mtyping\u001B[39;00m \u001B[38;5;28;01mimport\u001B[39;00m (\n\u001B[1;32m      7\u001B[0m     Any,\n\u001B[1;32m      8\u001B[0m     Callable,\n\u001B[1;32m      9\u001B[0m     Mapping,\n\u001B[1;32m     10\u001B[0m     cast,\n\u001B[1;32m     11\u001B[0m )\n\u001B[1;32m     12\u001B[0m \u001B[38;5;28;01mimport\u001B[39;00m \u001B[38;5;21;01mwarnings\u001B[39;00m\n\u001B[0;32m---> 14\u001B[0m \u001B[38;5;28;01mfrom\u001B[39;00m \u001B[38;5;21;01mpandas\u001B[39;00m\u001B[38;5;21;01m.\u001B[39;00m\u001B[38;5;21;01m_libs\u001B[39;00m\u001B[38;5;21;01m.\u001B[39;00m\u001B[38;5;21;01mproperties\u001B[39;00m \u001B[38;5;28;01mimport\u001B[39;00m cache_readonly  \u001B[38;5;66;03m# noqa:F401\u001B[39;00m\n\u001B[1;32m     15\u001B[0m \u001B[38;5;28;01mfrom\u001B[39;00m \u001B[38;5;21;01mpandas\u001B[39;00m\u001B[38;5;21;01m.\u001B[39;00m\u001B[38;5;21;01m_typing\u001B[39;00m \u001B[38;5;28;01mimport\u001B[39;00m F\n\u001B[1;32m     18\u001B[0m \u001B[38;5;28;01mdef\u001B[39;00m \u001B[38;5;21mdeprecate\u001B[39m(\n\u001B[1;32m     19\u001B[0m     name: \u001B[38;5;28mstr\u001B[39m,\n\u001B[1;32m     20\u001B[0m     alternative: Callable[\u001B[38;5;241m.\u001B[39m\u001B[38;5;241m.\u001B[39m\u001B[38;5;241m.\u001B[39m, Any],\n\u001B[0;32m   (...)\u001B[0m\n\u001B[1;32m     25\u001B[0m     msg: \u001B[38;5;28mstr\u001B[39m \u001B[38;5;241m|\u001B[39m \u001B[38;5;28;01mNone\u001B[39;00m \u001B[38;5;241m=\u001B[39m \u001B[38;5;28;01mNone\u001B[39;00m,\n\u001B[1;32m     26\u001B[0m ) \u001B[38;5;241m-\u001B[39m\u001B[38;5;241m>\u001B[39m Callable[[F], F]:\n",
      "File \u001B[0;32m/Library/Frameworks/Python.framework/Versions/3.10/lib/python3.10/site-packages/pandas/_libs/__init__.py:13\u001B[0m, in \u001B[0;36m<module>\u001B[0;34m\u001B[0m\n\u001B[1;32m      1\u001B[0m __all__ \u001B[38;5;241m=\u001B[39m [\n\u001B[1;32m      2\u001B[0m     \u001B[38;5;124m\"\u001B[39m\u001B[38;5;124mNaT\u001B[39m\u001B[38;5;124m\"\u001B[39m,\n\u001B[1;32m      3\u001B[0m     \u001B[38;5;124m\"\u001B[39m\u001B[38;5;124mNaTType\u001B[39m\u001B[38;5;124m\"\u001B[39m,\n\u001B[0;32m   (...)\u001B[0m\n\u001B[1;32m      9\u001B[0m     \u001B[38;5;124m\"\u001B[39m\u001B[38;5;124mInterval\u001B[39m\u001B[38;5;124m\"\u001B[39m,\n\u001B[1;32m     10\u001B[0m ]\n\u001B[0;32m---> 13\u001B[0m \u001B[38;5;28;01mfrom\u001B[39;00m \u001B[38;5;21;01mpandas\u001B[39;00m\u001B[38;5;21;01m.\u001B[39;00m\u001B[38;5;21;01m_libs\u001B[39;00m\u001B[38;5;21;01m.\u001B[39;00m\u001B[38;5;21;01minterval\u001B[39;00m \u001B[38;5;28;01mimport\u001B[39;00m Interval\n\u001B[1;32m     14\u001B[0m \u001B[38;5;28;01mfrom\u001B[39;00m \u001B[38;5;21;01mpandas\u001B[39;00m\u001B[38;5;21;01m.\u001B[39;00m\u001B[38;5;21;01m_libs\u001B[39;00m\u001B[38;5;21;01m.\u001B[39;00m\u001B[38;5;21;01mtslibs\u001B[39;00m \u001B[38;5;28;01mimport\u001B[39;00m (\n\u001B[1;32m     15\u001B[0m     NaT,\n\u001B[1;32m     16\u001B[0m     NaTType,\n\u001B[0;32m   (...)\u001B[0m\n\u001B[1;32m     21\u001B[0m     iNaT,\n\u001B[1;32m     22\u001B[0m )\n",
      "\u001B[0;31mImportError\u001B[0m: dlopen(/Library/Frameworks/Python.framework/Versions/3.10/lib/python3.10/site-packages/pandas/_libs/interval.cpython-310-darwin.so, 0x0002): tried: '/Library/Frameworks/Python.framework/Versions/3.10/lib/python3.10/site-packages/pandas/_libs/interval.cpython-310-darwin.so' (mach-o file, but is an incompatible architecture (have 'x86_64', need 'arm64')), '/System/Volumes/Preboot/Cryptexes/OS/Library/Frameworks/Python.framework/Versions/3.10/lib/python3.10/site-packages/pandas/_libs/interval.cpython-310-darwin.so' (no such file), '/Library/Frameworks/Python.framework/Versions/3.10/lib/python3.10/site-packages/pandas/_libs/interval.cpython-310-darwin.so' (mach-o file, but is an incompatible architecture (have 'x86_64', need 'arm64'))"
     ]
    }
   ],
   "source": [
    "\"\"\" Initializing a density matrix of size n, with every qubit in state |0> \"\"\"\n",
    "\n",
    "from graphiq.backends.density_matrix.state import DensityMatrix\n",
    "\n",
    "n = 3\n",
    "dm_state = DensityMatrix(n)\n",
    "\n",
    "# We can print the density matrix\n",
    "print(dm_state.data)\n",
    "\n",
    "# Or we can view it via matplotlib... Though there seems to be an unfortunate non-visible square that happens to be the one we want\n",
    "dm_state.draw()"
   ]
  },
  {
   "cell_type": "code",
   "execution_count": null,
   "metadata": {
    "pycharm": {
     "name": "#%%\n"
    }
   },
   "outputs": [],
   "source": [
    "\"\"\" Initializing a density matrix from a numpy array \"\"\"\n",
    "\n",
    "# We can initialize it from any defined numpy array of adequate dimensions\n",
    "import numpy as np\n",
    "\n",
    "n = 4\n",
    "data = np.eye(2**n)  # this generates an identity matrix for an n-qubit state\n",
    "dm_state = DensityMatrix(data)\n",
    "\n",
    "print(dm_state.data)\n",
    "\n",
    "dm_state.draw()"
   ]
  },
  {
   "cell_type": "code",
   "execution_count": null,
   "metadata": {
    "pycharm": {
     "name": "#%%\n"
    }
   },
   "outputs": [],
   "source": [
    "\"\"\" Initializing a state with density matrix helper functions \"\"\"\n",
    "\n",
    "# Some states can be more difficult to build from scratch.\n",
    "# Our code base provides helper functions for density matrix numpy manipulation, which can be used as needed\n",
    "import graphiq.backends.density_matrix.functions as dmf\n",
    "\n",
    "# 4-qubit GHZ state: |phi> = 1/sqrt(2) * (|0000> + |1111>)\n",
    "ghz4_dm = dmf.ket2dm(\n",
    "    (dmf.tensor(4 * [dmf.state_ketz0()]) + dmf.tensor(4 * [dmf.state_ketz1()]))\n",
    "    / np.sqrt(2)\n",
    ")\n",
    "\n",
    "ghz4_state = DensityMatrix(ghz4_dm)\n",
    "ghz4_state.draw()"
   ]
  },
  {
   "cell_type": "code",
   "execution_count": null,
   "metadata": {
    "pycharm": {
     "name": "#%%\n"
    }
   },
   "outputs": [],
   "source": [
    "\"\"\" \n",
    "Defining a target state from a graph by converting the target graph to a density matrix\n",
    "\n",
    "When the target state is a graph state, it tends to be easiest to express them as graphs. Those can then be converted\n",
    "a density matrix.\n",
    "\"\"\"\n",
    "\n",
    "import networkx as nx  # this is a graph-manipulation python library. We use it for our DAG circuits as well\n",
    "\n",
    "linear_cluster_3_graph = nx.Graph([(1, 2), (2, 3)])  # Edge between node 1-2, node 2-3\n",
    "nx.draw(linear_cluster_3_graph)\n",
    "\n",
    "linear_cluster_3_state = DensityMatrix.from_graph(linear_cluster_3_graph)\n",
    "linear_cluster_3_state.draw()"
   ]
  },
  {
   "cell_type": "markdown",
   "metadata": {
    "pycharm": {
     "name": "#%% md\n"
    }
   },
   "source": [
    "### Further transformations on the `DensityMatrix` state representation [General API]\n",
    "\n",
    "When working on the compiler (or possibly when initializing a more complicated target state, the additional functionalities of the `DensityMatrix` class may become useful."
   ]
  },
  {
   "cell_type": "code",
   "execution_count": null,
   "metadata": {
    "pycharm": {
     "name": "#%%\n"
    }
   },
   "outputs": [],
   "source": [
    "\"\"\" Apply a unitary transformation \"\"\"\n",
    "\n",
    "# Suppose that we want to simulate the following circuit: a single qubit, a single gate\n",
    "from graphiq.circuit.circuit_dag import CircuitDAG\n",
    "from graphiq.circuit.ops import Hadamard\n",
    "\n",
    "c = CircuitDAG()\n",
    "c.add(Hadamard(register=0, reg_type=\"e\"))\n",
    "c.draw_circuit()"
   ]
  },
  {
   "cell_type": "code",
   "execution_count": null,
   "metadata": {
    "pycharm": {
     "name": "#%%\n"
    }
   },
   "outputs": [],
   "source": [
    "# Before any gates are applied, the density matrix data are the default values when the DensityMatrix is initialized by an integer n\n",
    "n = 1\n",
    "\n",
    "dm_state = DensityMatrix(n)\n",
    "dm_state.draw()"
   ]
  },
  {
   "cell_type": "code",
   "execution_count": null,
   "metadata": {
    "pycharm": {
     "name": "#%%\n"
    }
   },
   "outputs": [],
   "source": [
    "# We can get gates from the density matrix helper functions\n",
    "#\n",
    "h_gate = dmf.get_one_qubit_gate(\n",
    "    n,  # number of total qubits in the state\n",
    "    0,  # index of the density matrix which represents the target qubit\n",
    "    dmf.hadamard(),  # the single-qubit state version of the gate we want to apply\n",
    ")\n",
    "dm_state.apply_unitary(h_gate)\n",
    "dm_state.draw()"
   ]
  },
  {
   "cell_type": "code",
   "execution_count": null,
   "metadata": {
    "pycharm": {
     "name": "#%%\n"
    }
   },
   "outputs": [],
   "source": [
    "\"\"\" Measure a qubit (projects the qubit onto a given basis--we will focus on the computational basis Z)\"\"\"\n",
    "\n",
    "# We measure qubit to convert the (inaccessible to us) quantum information to classical information\n",
    "projectors = dmf.projectors_zbasis(n, 0)  # this is the basis on which we project\n",
    "outcome = dm_state.apply_measurement(\n",
    "    projectors,  # the projector\n",
    "    measurement_determinism=\"probabilistic\"  # most quantum measurements are inherently probabilistic,\n",
    "    # but we allow deterministic measurements for algorithmic reasons\n",
    ")\n",
    "print(f\"This time, the outcome was: {outcome}\")\n",
    "dm_state.draw()"
   ]
  },
  {
   "cell_type": "markdown",
   "metadata": {
    "pycharm": {
     "name": "#%% md\n"
    }
   },
   "source": [
    "**NOTE:** We can also apply a quantum channel to the state, but this is mostly used for noise in our application so we will not discuss it here"
   ]
  },
  {
   "cell_type": "markdown",
   "metadata": {
    "pycharm": {
     "name": "#%% md\n"
    }
   },
   "source": [
    "## Stabilizer State Preresentation\n",
    "\n",
    "**Relevant python files:** graphiq/backends/stabilizer/state.py, graphiq/backends/stabilizer/function*\n",
    "\n",
    "The Stabilizer represent n-qubit with 4 vectors:\n",
    "- Destabilizer: n vector\n",
    "- Stabilizer: n vector\n",
    "- phase: 2n vector\n",
    "- i phase: 2n vector"
   ]
  },
  {
   "cell_type": "markdown",
   "metadata": {
    "pycharm": {
     "name": "#%% md\n"
    }
   },
   "source": [
    "### Initializing `Stabilizer` state representation [Public API]\n",
    "\n",
    "The Stabilizer class has the `__str__` function that helps view the data of the class through the `print()` function. "
   ]
  },
  {
   "cell_type": "code",
   "execution_count": null,
   "metadata": {
    "pycharm": {
     "name": "#%%\n"
    }
   },
   "outputs": [],
   "source": [
    "\"\"\" Initializing a stabilizer of size n, with every qubit in state |0> \"\"\"\n",
    "\n",
    "from graphiq.backends.stabilizer.state import Stabilizer\n",
    "\n",
    "n = 3\n",
    "stabilizer_state = Stabilizer(n)\n",
    "print(stabilizer_state)"
   ]
  },
  {
   "cell_type": "code",
   "execution_count": null,
   "metadata": {
    "pycharm": {
     "name": "#%%\n"
    }
   },
   "outputs": [],
   "source": [
    "\"\"\" Initializing a stabilizer from a Clifford Tableau \"\"\"\n",
    "\n",
    "from graphiq.backends.stabilizer.clifford_tableau import CliffordTableau\n",
    "\n",
    "n = 3\n",
    "tableau = CliffordTableau(n)\n",
    "\n",
    "stabilizer_state = Stabilizer(tableau)\n",
    "print(stabilizer_state)"
   ]
  },
  {
   "cell_type": "code",
   "execution_count": null,
   "metadata": {
    "pycharm": {
     "name": "#%%\n"
    }
   },
   "outputs": [],
   "source": [
    "\"\"\" \n",
    "Defining a target state from a graph by converting the target graph to a stabilizer\n",
    "\"\"\"\n",
    "\n",
    "import networkx as nx  \n",
    "from graphiq.backends.stabilizer.functions.rep_conversion import get_clifford_tableau_from_graph\n",
    "\n",
    "linear_cluster_3_graph = nx.Graph([(1, 2), (2, 3)])  # Edge between node 1-2, node 2-3\n",
    "nx.draw(linear_cluster_3_graph)\n",
    "\n",
    "linear_cluster_3_stabilizer_state = get_clifford_tableau_from_graph(linear_cluster_3_graph)\n",
    "print(linear_cluster_3_stabilizer_state)"
   ]
  },
  {
   "cell_type": "markdown",
   "metadata": {
    "pycharm": {
     "name": "#%% md\n"
    }
   },
   "source": [
    "### Further transformations on the `Stabilizer` state representation [General API]\n",
    "\n",
    "The transformation functionality for `Stabilizer` class is very useful. Allows users to apply operations to the qubits and transform the stabilizer to the correct state"
   ]
  },
  {
   "cell_type": "code",
   "execution_count": null,
   "metadata": {
    "pycharm": {
     "name": "#%%\n"
    }
   },
   "outputs": [],
   "source": [
    "from graphiq.circuit.circuit_dag import CircuitDAG\n",
    "from graphiq.circuit.ops import Hadamard\n",
    "\n",
    "c = CircuitDAG()\n",
    "c.add(Hadamard(register=0, reg_type=\"e\"))\n",
    "c.draw_circuit()"
   ]
  },
  {
   "cell_type": "code",
   "execution_count": null,
   "metadata": {
    "pycharm": {
     "name": "#%%\n"
    }
   },
   "outputs": [],
   "source": [
    "# Before any gates are applied \n",
    "n = 1\n",
    "\n",
    "stabilizer_state = Stabilizer(n)\n",
    "print(stabilizer_state)"
   ]
  },
  {
   "cell_type": "code",
   "execution_count": null,
   "metadata": {
    "pycharm": {
     "name": "#%%\n"
    }
   },
   "outputs": [],
   "source": [
    "\"\"\"Apply a unitary transformation and measurement\"\"\"\n",
    "\n",
    "# Apply Hadamard gate on the first qubit\n",
    "stabilizer_state = Stabilizer(1)\n",
    "stabilizer_state.apply_hadamard(0)\n",
    "\n",
    "print(stabilizer_state)"
   ]
  },
  {
   "cell_type": "code",
   "execution_count": null,
   "metadata": {
    "pycharm": {
     "name": "#%%\n"
    }
   },
   "outputs": [],
   "source": [
    "from graphiq.backends.stabilizer.functions.clifford import measure_z\n",
    "\n",
    "# Apply measurement on z basis\n",
    "# By default the measurement determinism is probabilistic\n",
    "outcome = measure_z(stabilizer_state.tableau, 0, measurement_determinism=\"probabilistic\")\n",
    "print(f\"Outcome of the measurement: {outcome}\")"
   ]
  },
  {
   "cell_type": "markdown",
   "metadata": {
    "pycharm": {
     "name": "#%% md\n"
    }
   },
   "source": [
    "## Graph State Representation (In development)\n",
    "\n",
    "**Relevant python files:** graphiq/backends/graph/state.py, graphiq/backends/graph/function.py\n",
    "\n",
    "The graph state does not have a fully implemented compiler yet, there is no tutorial for graph state at this time."
   ]
  },
  {
   "cell_type": "markdown",
   "metadata": {
    "pycharm": {
     "name": "#%% md\n"
    }
   },
   "source": [
    "## QuantumState representation [General API]\n",
    "\n",
    "**Relevant python files:** graphiq/state.py\n",
    "\n",
    "At this time, the QuantumState representation is quite bare-bones. However, a lot of planned functionality will be added to it moving forward.\n",
    "\n",
    "I would suggest looking at the code and `TODO` statements. For now, we will only go over initialization.\n",
    "\n",
    "**NOTE:** All data representations which are valid initializers for `DensityMatrix`, `Stabilizer` or `Graph` are valid initialization data for `QuantumState`"
   ]
  },
  {
   "cell_type": "code",
   "execution_count": null,
   "metadata": {
    "pycharm": {
     "name": "#%%\n"
    }
   },
   "outputs": [],
   "source": [
    "\"\"\" Initializing a single representation \"\"\"\n",
    "from graphiq.state import QuantumState\n",
    "\n",
    "n = 2\n",
    "data = np.eye(2**n)\n",
    "\n",
    "state = QuantumState(\n",
    "    data,  # initialization data\n",
    "    rep_type=\"dm\",  # can also be 'g' for graph or 's' for stabilizer\n",
    ")\n",
    "\n",
    "print(state.rep_data.data)"
   ]
  },
  {
   "cell_type": "markdown",
   "metadata": {
    "pycharm": {
     "name": "#%% md\n"
    }
   },
   "source": [
    "## Conversion between state representations\n",
    "\n",
    "Not all representations can be converted to one another without loss of information.\n",
    "* The `Graph` representation can represent only a class of quantum states called graph states, and is the least general. \n",
    "* The `Stabilizer` representation is more general, and can represent any \"pure states\" (there are no unknowns associated with classical probabilities).\n",
    "* The `DensityMatrix` representation is most general of all, and can represent both pure states and mixed states.\n",
    "\n",
    "However, we still have functions to convert between all these states (albeit imperfectly in some cases--and the limitations are important to understand).\n",
    "\n",
    "Note that these functions act on the underlying representations of different states (i.e. numpy array, networkx Graph), not on the state objects themselves."
   ]
  },
  {
   "cell_type": "code",
   "execution_count": null,
   "metadata": {
    "pycharm": {
     "name": "#%%\n"
    }
   },
   "outputs": [],
   "source": [
    "\"\"\" Graph to density matrix\"\"\"\n",
    "import graphiq.backends.state_rep_conversion as rc\n",
    "import src.visualizers.density_matrix as vdm\n",
    "\n",
    "linear3_g = nx.Graph([(1, 2), (2, 3)])  # Edge between node 1-2, node 2-3\n",
    "linear3_dm = rc.graph_to_density(linear3_g)\n",
    "\n",
    "nx.draw(linear3_g)\n",
    "vdm.density_matrix_bars(linear3_dm)"
   ]
  },
  {
   "cell_type": "code",
   "execution_count": null,
   "metadata": {
    "pycharm": {
     "name": "#%%\n"
    }
   },
   "outputs": [],
   "source": [
    "\"\"\" Density matrix to graph: exact \"\"\"\n",
    "\n",
    "# we know that linear3_dm is a graph state--we can convert it back to a graph\n",
    "graph_list = rc.density_to_graph(linear3_dm, threshold=0.4999)\n",
    "# as linear3_dm is a pure state, the graph_list should contain only one element\n",
    "linear3_graph_from_dm = nx.from_numpy_matrix(graph_list[0][1])\n",
    "nx.draw(linear3_graph_from_dm)"
   ]
  },
  {
   "cell_type": "code",
   "execution_count": null,
   "metadata": {
    "pycharm": {
     "name": "#%%\n"
    }
   },
   "outputs": [],
   "source": [
    "# CAREFUL. density_to_graph is not an exact conversion for reasons explained above\n",
    "# If we change the threshold (even by a very small amount), the resulting graph may change\n",
    "graph_list = rc.density_to_graph(linear3_dm, threshold=0.5)\n",
    "linear3_graph_from_dm2 = nx.from_numpy_matrix(\n",
    "    graph_list[0][1]\n",
    ")\n",
    "nx.draw(linear3_graph_from_dm2)"
   ]
  },
  {
   "cell_type": "code",
   "execution_count": null,
   "metadata": {
    "pycharm": {
     "name": "#%%\n"
    }
   },
   "outputs": [],
   "source": [
    "\"\"\" Density matrix to graph, inexact \"\"\"\n",
    "\n",
    "# Let's consider something that is NOT a graph state now (e.g. the GHZ4 state)\n",
    "ghz4_dm = dmf.ket2dm(\n",
    "    (dmf.tensor(4 * [dmf.state_ketz0()]) + dmf.tensor(4 * [dmf.state_ketz1()]))\n",
    "    / np.sqrt(2)\n",
    ")\n",
    "\n",
    "# No edge seems to be added here, no matter how low we drive the threshold\n",
    "ghz4_g_from_dm1 = nx.from_numpy_matrix(rc.density_to_graph(ghz4_dm, threshold=0.00001))\n",
    "nx.draw(ghz4_g_from_dm1)"
   ]
  },
  {
   "cell_type": "code",
   "execution_count": null,
   "metadata": {
    "pycharm": {
     "name": "#%%\n"
    }
   },
   "outputs": [],
   "source": [
    "\"\"\" Graph to stabilizer and back \"\"\"\n",
    "linear3_stabilizer = rc.graph_to_stabilizer(linear3_g)\n",
    "print(linear3_stabilizer)\n",
    "nx.draw(rc.stabilizer_to_graph(linear3_stabilizer))"
   ]
  },
  {
   "cell_type": "code",
   "execution_count": null,
   "metadata": {
    "pycharm": {
     "name": "#%%\n"
    }
   },
   "outputs": [],
   "source": [
    "\"\"\" Stabilizer to density and back \"\"\"\n",
    "linear3_dm_from_stabilizer = rc.stabilizer_to_density(linear3_stabilizer)\n",
    "vdm.density_matrix_bars(linear3_dm_from_stabilizer)\n",
    "linear3_stabilizer_from_dm = rc.density_to_stabilizer(linear3_dm_from_stabilizer)\n",
    "print(linear3_stabilizer_from_dm)"
   ]
  }
 ],
 "metadata": {
  "kernelspec": {
   "display_name": "Python 3 (ipykernel)",
   "language": "python",
   "name": "python3"
  },
  "language_info": {
   "codemirror_mode": {
    "name": "ipython",
    "version": 3
   },
   "file_extension": ".py",
   "mimetype": "text/x-python",
   "name": "python",
   "nbconvert_exporter": "python",
   "pygments_lexer": "ipython3",
   "version": "3.9.12"
  }
 },
 "nbformat": 4,
 "nbformat_minor": 1
}
