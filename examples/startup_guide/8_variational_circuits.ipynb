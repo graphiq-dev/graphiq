{
 "cells": [
  {
   "cell_type": "markdown",
   "source": [
    "# [In progress] Optimizing a parameterized quantum circuit: Gradient-descent, JAX backend for DensityMatrix"
   ],
   "metadata": {
    "collapsed": false
   }
  },
  {
   "cell_type": "markdown",
   "source": [
    "Variational circuits are a class of circuits which are composed of continuously parameterized gates. These parameters are generally optimized to meet a certain functionality, such as generating a target output quantum state. Such variational circuits are attractive in the NISQ era, where quantum devices are not error-corrected and limited to shallow (i.e., few-gate) circuits.\n",
    "\n",
    "We use `JAX` and its ecosystem of associated libraries, such as `Optax`, for automatically differentiation our circuits and optimizing them via a gradient descent algorithm."
   ],
   "metadata": {
    "collapsed": false
   }
  },
  {
   "cell_type": "code",
   "execution_count": 1,
   "outputs": [],
   "source": [
    "%load_ext autoreload\n",
    "%autoreload 2"
   ],
   "metadata": {
    "collapsed": false,
    "pycharm": {
     "name": "#%%\n"
    }
   }
  },
  {
   "cell_type": "code",
   "execution_count": 2,
   "outputs": [],
   "source": [
    "# to use differentiation, we must set the array library to 'jax' at the top of the script \n",
    "import src\n",
    "src.DENSITY_MATRIX_ARRAY_LIBRARY = \"jax\"\n",
    "\n",
    "import optax\n",
    "import jax"
   ],
   "metadata": {
    "collapsed": false,
    "pycharm": {
     "name": "#%%\n"
    }
   }
  },
  {
   "cell_type": "code",
   "execution_count": 3,
   "outputs": [
    {
     "name": "stdout",
     "output_type": "stream",
     "text": [
      "c:\\venvs\\graph-compiler\\lib\\site-packages\\jax\\_src\\scipy\\linalg.py\n",
      "c:\\venvs\\graph-compiler\\lib\\site-packages\\jax\\numpy\\__init__.py\n"
     ]
    }
   ],
   "source": [
    "import matplotlib.pyplot as plt\n",
    "import tqdm\n",
    "\n",
    "from src import ops\n",
    "from src.circuit import CircuitDAG\n",
    "import src.backends.density_matrix.functions as dmf\n",
    "from src.backends.density_matrix.compiler import DensityMatrixCompiler\n",
    "from src.metrics import Infidelity\n",
    "\n",
    "import benchmarks.circuits"
   ],
   "metadata": {
    "collapsed": false,
    "pycharm": {
     "name": "#%%\n"
    }
   }
  },
  {
   "cell_type": "markdown",
   "source": [
    "As usual, we start with our target state. For this tutorial, choose any of the Bell state, 3- or 4-qubit GHZ state. We will use the infidelity as our metric to minimize. Currently, variational circuits are only supported for the DensityMatrix backend."
   ],
   "metadata": {
    "collapsed": false
   }
  },
  {
   "cell_type": "code",
   "execution_count": 4,
   "outputs": [],
   "source": [
    "_, target = benchmarks.circuits.bell_state_circuit()\n",
    "# _, target = benchmarks.circuits.ghz3_state_circuit()\n",
    "# _, target = benchmarks.circuits.ghz4_state_circuit()\n",
    "\n",
    "compiler = DensityMatrixCompiler()\n",
    "metric = Infidelity(target=target)"
   ],
   "metadata": {
    "collapsed": false,
    "pycharm": {
     "name": "#%%\n"
    }
   }
  },
  {
   "cell_type": "code",
   "execution_count": 5,
   "outputs": [
    {
     "data": {
      "text/plain": "<Figure size 432x288 with 1 Axes>",
      "image/png": "[encoded data removed]"
     },
     "metadata": {},
     "output_type": "display_data"
    }
   ],
   "source": [
    "circuit = CircuitDAG(n_emitter=target.n_qubits, n_photon=0, n_classical=0)\n",
    "\n",
    "circuit.add(\n",
    "    ops.ParameterizedOneQubitRotation(\n",
    "        register=0,\n",
    "        reg_type=\"e\",\n",
    "        params=(0.0, 1.0, 1.0),  # set the parameters explicitly, if desired\n",
    "    )\n",
    ")\n",
    "for i in range(1, target.n_qubits):\n",
    "    circuit.add(\n",
    "        ops.ParameterizedControlledRotationQubit(\n",
    "            control=i - 1, control_type=\"e\", target=i, target_type=\"e\"\n",
    "        )\n",
    "    )\n",
    "\n",
    "circuit.draw_circuit()\n",
    "\n",
    "params = circuit.initialize_parameters()  # randomly sample the initial parameters"
   ],
   "metadata": {
    "collapsed": false,
    "pycharm": {
     "name": "#%%\n"
    }
   }
  },
  {
   "cell_type": "markdown",
   "source": [
    "We wrap all the functions for computing the metric loss value into a single function, where the first parameter is our parameter dictionary."
   ],
   "metadata": {
    "collapsed": false
   }
  },
  {
   "cell_type": "code",
   "execution_count": 6,
   "outputs": [
    {
     "data": {
      "text/plain": "DeviceArray(0.51202965, dtype=float32)"
     },
     "execution_count": 6,
     "metadata": {},
     "output_type": "execute_result"
    }
   ],
   "source": [
    "def compute_loss(params: dict, circuit: CircuitDAG):\n",
    "    circuit.parameters = params\n",
    "    output_state = compiler.compile(circuit)\n",
    "    loss = metric.evaluate(output_state, circuit)\n",
    "    return loss\n",
    "\n",
    "\n",
    "compute_loss(params, circuit)"
   ],
   "metadata": {
    "collapsed": false,
    "pycharm": {
     "name": "#%%\n"
    }
   }
  },
  {
   "cell_type": "markdown",
   "source": [
    "Now, we define our `Optax` optimizer to use. For this demonstration, we will use the Adagrad algorithm, but many other popular optimizers exist and are already implemented in `Optax`. These include Adam, SGD, RMSProp, etc."
   ],
   "metadata": {
    "collapsed": false
   }
  },
  {
   "cell_type": "code",
   "execution_count": 7,
   "outputs": [],
   "source": [
    "learning_rate = 0.4\n",
    "n_step = 100\n",
    "progress = True\n",
    "optimizer = optax.adagrad(learning_rate)\n",
    "opt_state = optimizer.init(params)"
   ],
   "metadata": {
    "collapsed": false,
    "pycharm": {
     "name": "#%%\n"
    }
   }
  },
  {
   "cell_type": "markdown",
   "source": [
    "Here is the main learning loop. We iterate `n_step` times in our gradient-descent algorithm. Each loss value is stored to an array for plotting the learning curve later."
   ],
   "metadata": {
    "collapsed": false
   }
  },
  {
   "cell_type": "code",
   "execution_count": 8,
   "outputs": [
    {
     "name": "stderr",
     "output_type": "stream",
     "text": [
      "Cost: 0.0000000000: 100%|██████████| 100/100 [00:19<00:00,  5.02it/s]\n"
     ]
    }
   ],
   "source": [
    "loss_curve = []\n",
    "for step in (pbar := tqdm.tqdm(range(n_step), disable=(not progress))):\n",
    "    loss = compute_loss(params, circuit)\n",
    "    grads = jax.grad(compute_loss)(params, circuit)\n",
    "    updates, opt_state = optimizer.update(grads, opt_state)\n",
    "    params = optax.apply_updates(params, updates)\n",
    "    loss_curve.append(loss)\n",
    "    if progress:\n",
    "        pbar.set_description(f\"Cost: {loss:.10f}\")\n",
    "    else:\n",
    "        print(step, loss, params)"
   ],
   "metadata": {
    "collapsed": false,
    "pycharm": {
     "name": "#%%\n"
    }
   }
  },
  {
   "cell_type": "markdown",
   "source": [
    "Plot the resulting state to see how the optimization performed."
   ],
   "metadata": {
    "collapsed": false
   }
  },
  {
   "cell_type": "code",
   "execution_count": 9,
   "outputs": [
    {
     "data": {
      "text/plain": "<Figure size 432x288 with 2 Axes>",
      "image/png": "[encoded data removed]"
     },
     "metadata": {
      "needs_background": "light"
     },
     "output_type": "display_data"
    },
    {
     "data": {
      "text/plain": "<Figure size 432x288 with 1 Axes>",
      "image/png": "[encoded data removed]"
     },
     "metadata": {
      "needs_background": "light"
     },
     "output_type": "display_data"
    }
   ],
   "source": [
    "circuit.parameters = params\n",
    "output_state = compiler.compile(circuit)\n",
    "output_state.dm.draw()\n",
    "\n",
    "fig, ax = plt.subplots(1, 1)\n",
    "ax.plot(loss_curve)\n",
    "ax.set(xlabel=\"Optimization Step\", ylabel=\"Infidelity\")\n",
    "plt.show()"
   ],
   "metadata": {
    "collapsed": false,
    "pycharm": {
     "name": "#%%\n"
    }
   }
  },
  {
   "cell_type": "markdown",
   "source": [
    "Now we do it with the GradientDescentSolver."
   ],
   "metadata": {
    "collapsed": false
   }
  },
  {
   "cell_type": "code",
   "execution_count": 10,
   "outputs": [],
   "source": [
    "from src.solvers.gradient_descent_solver import GradientDescentSolver, adagrad"
   ],
   "metadata": {
    "collapsed": false,
    "pycharm": {
     "name": "#%%\n"
    }
   }
  },
  {
   "cell_type": "code",
   "execution_count": 11,
   "outputs": [],
   "source": [
    "optimizer = adagrad(learning_rate=0.4)\n",
    "solver = GradientDescentSolver(\n",
    "    target=target,\n",
    "    metric=metric,\n",
    "    compiler=compiler,\n",
    "    circuit=circuit,\n",
    "    optimizer=optimizer,\n",
    "    n_step=n_step,\n",
    ")"
   ],
   "metadata": {
    "collapsed": false,
    "pycharm": {
     "name": "#%%\n"
    }
   }
  },
  {
   "cell_type": "code",
   "execution_count": 12,
   "outputs": [
    {
     "name": "stderr",
     "output_type": "stream",
     "text": [
      "Cost: 0.0000000596: 100%|██████████| 100/100 [00:13<00:00,  7.48it/s]\n"
     ]
    }
   ],
   "source": [
    "loss_curve, params = solver.solve()"
   ],
   "metadata": {
    "collapsed": false,
    "pycharm": {
     "name": "#%%\n"
    }
   }
  },
  {
   "cell_type": "code",
   "execution_count": 13,
   "outputs": [
    {
     "data": {
      "text/plain": "<Figure size 432x288 with 1 Axes>",
      "image/png": "[encoded data removed]"
     },
     "metadata": {
      "needs_background": "light"
     },
     "output_type": "display_data"
    }
   ],
   "source": [
    "fig, ax = plt.subplots(1, 1)\n",
    "ax.plot(loss_curve)\n",
    "ax.set(xlabel=\"Optimization Step\", ylabel=\"Infidelity\")\n",
    "plt.show()"
   ],
   "metadata": {
    "collapsed": false,
    "pycharm": {
     "name": "#%%\n"
    }
   }
  }
 ],
 "metadata": {
  "kernelspec": {
   "display_name": "Python 3",
   "language": "python",
   "name": "python3"
  },
  "language_info": {
   "codemirror_mode": {
    "name": "ipython",
    "version": 2
   },
   "file_extension": ".py",
   "mimetype": "text/x-python",
   "name": "python",
   "nbconvert_exporter": "python",
   "pygments_lexer": "ipython2",
   "version": "2.7.6"
  }
 },
 "nbformat": 4,
 "nbformat_minor": 0
}