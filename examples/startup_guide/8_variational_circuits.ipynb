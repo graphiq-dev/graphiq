{
 "cells": [
  {
   "cell_type": "markdown",
   "source": [
    "# [In progress] Optimizing a variational circuit: Gradient-descent, JAX backend for DensityMatrix"
   ],
   "metadata": {
    "collapsed": false
   }
  },
  {
   "cell_type": "markdown",
   "source": [
    "Variational circuits are a class of circuits which are composed of continuously parameterized gates. These parameters are generally optimized to meet a certain functionality, such as generating a target output quantum state. Such variational circuits are attractive in the NISQ era, where quantum devices are not error-corrected and limited to shallow (i.e., few-gate) circuits.\n",
    "\n",
    "We use `JAX` and its ecosystem of associated libraries, such as `Optax` for automatically differentiation our circuits and optimizing them via a gradient descent algorithm."
   ],
   "metadata": {
    "collapsed": false
   }
  },
  {
   "cell_type": "code",
   "execution_count": 31,
   "outputs": [],
   "source": [
    "import optax\n",
    "import jax\n",
    "import jax.numpy as np"
   ],
   "metadata": {
    "collapsed": false,
    "pycharm": {
     "name": "#%%\n"
    }
   }
  },
  {
   "cell_type": "code",
   "execution_count": 32,
   "outputs": [],
   "source": [
    "import matplotlib.pyplot as plt\n",
    "import tqdm\n",
    "\n",
    "from src import ops\n",
    "from src.circuit import CircuitDAG\n",
    "import src.backends.density_matrix.functions as dmf\n",
    "from src.backends.density_matrix.compiler import DensityMatrixCompiler\n",
    "from src.metrics import Infidelity\n",
    "\n",
    "import benchmarks.circuits"
   ],
   "metadata": {
    "collapsed": false,
    "pycharm": {
     "name": "#%%\n"
    }
   }
  },
  {
   "cell_type": "markdown",
   "source": [
    "As usual, we start with our target state. For this tutorial, choose any of the Bell state, 3- or 4-qubit GHZ state. We will use the infidelity as our metric to minimize. Currently, variational circuits are only supported for the DensityMatrix backend."
   ],
   "metadata": {
    "collapsed": false
   }
  },
  {
   "cell_type": "code",
   "execution_count": 33,
   "outputs": [],
   "source": [
    "_, target = benchmarks.circuits.bell_state_circuit()\n",
    "# _, target = benchmarks.circuits.ghz3_state_circuit()\n",
    "# _, target = benchmarks.circuits.ghz4_state_circuit()\n",
    "\n",
    "compiler = DensityMatrixCompiler()\n",
    "metric = Infidelity(target=target)"
   ],
   "metadata": {
    "collapsed": false,
    "pycharm": {
     "name": "#%%\n"
    }
   }
  },
  {
   "cell_type": "code",
   "execution_count": 34,
   "outputs": [],
   "source": [
    "circuit = CircuitDAG(n_emitter=target.n_qubits, n_photon=0, n_classical=0)\n",
    "\n",
    "circuit.add(ops.ParameterizedOneQubitRotation(register=0, reg_type=\"e\",\n",
    "                                              params=(0.0, 1.0, 1.0)  # set the parameters explicitly, if desired\n",
    "                                              ))\n",
    "for i in range(1, target.n_qubits):\n",
    "    circuit.add(ops.ParameterizedControlledRotationQubit(control=i-1, control_type=\"e\", target=i, target_type=\"e\"))\n",
    "\n",
    "circuit.init_params()  # randomly sample the initial parameters\n",
    "params = circuit.collect_params()"
   ],
   "metadata": {
    "collapsed": false,
    "pycharm": {
     "name": "#%%\n"
    }
   }
  },
  {
   "cell_type": "markdown",
   "source": [
    "We wrap all the functions for computing the metric loss value into a single function, where the first parameter is our parameter dictionary."
   ],
   "metadata": {
    "collapsed": false
   }
  },
  {
   "cell_type": "code",
   "execution_count": 35,
   "outputs": [],
   "source": [
    "def compute_loss(params: dict, circuit: CircuitDAG):\n",
    "    circuit.set_params(params)\n",
    "    output_state = compiler.compile(circuit)\n",
    "    loss = metric.evaluate(output_state, circuit)\n",
    "    return loss"
   ],
   "metadata": {
    "collapsed": false,
    "pycharm": {
     "name": "#%%\n"
    }
   }
  },
  {
   "cell_type": "markdown",
   "source": [
    "Now, we define our `Optax` optimizer to use. For this demonstration, we will use the Adagrad algorithm, but many other popular optimizers exist and are already implemented in `Optax`. These include Adam, SGD, RMSProp, etc."
   ],
   "metadata": {
    "collapsed": false
   }
  },
  {
   "cell_type": "code",
   "execution_count": 36,
   "outputs": [],
   "source": [
    "learning_rate = 0.4\n",
    "n_step = 100\n",
    "progress = True\n",
    "optimizer = optax.adagrad(learning_rate)\n",
    "opt_state = optimizer.init(params)"
   ],
   "metadata": {
    "collapsed": false,
    "pycharm": {
     "name": "#%%\n"
    }
   }
  },
  {
   "cell_type": "markdown",
   "source": [
    "Here is the main learning loop. We iterate `n_step` times in our gradient-descent algorithm. Each loss value is stored to an array for plotting the learning curve later."
   ],
   "metadata": {
    "collapsed": false
   }
  },
  {
   "cell_type": "code",
   "execution_count": null,
   "outputs": [
    {
     "name": "stderr",
     "output_type": "stream",
     "text": [
      "Cost: 0.0000005960:  71%|███████   | 71/100 [00:10<00:04,  6.73it/s]"
     ]
    }
   ],
   "source": [
    "loss_curve = []\n",
    "for step in (pbar := tqdm.tqdm(range(n_step), disable=(not progress))):\n",
    "    loss = compute_loss(params, circuit)\n",
    "    grads = jax.grad(compute_loss)(params, circuit)\n",
    "    updates, opt_state = optimizer.update(grads, opt_state)\n",
    "    params = optax.apply_updates(params, updates)\n",
    "    loss_curve.append(loss)\n",
    "    if progress:\n",
    "        pbar.set_description(f\"Cost: {loss:.10f}\")\n",
    "    else:\n",
    "        print(step, loss, params)"
   ],
   "metadata": {
    "collapsed": false,
    "pycharm": {
     "name": "#%%\n",
     "is_executing": true
    }
   }
  },
  {
   "cell_type": "markdown",
   "source": [
    "Plot the resulting state to see how the optimization performed."
   ],
   "metadata": {
    "collapsed": false
   }
  },
  {
   "cell_type": "code",
   "execution_count": null,
   "outputs": [],
   "source": [
    "circuit.set_params(params)\n",
    "output_state = compiler.compile(circuit)\n",
    "output_state.dm.draw()\n",
    "\n",
    "fig, ax = plt.subplots(1, 1)\n",
    "ax.plot(loss_curve)\n",
    "ax.set(xlabel=\"Optimization Step\", ylabel=\"Infidelity\")\n",
    "plt.show()"
   ],
   "metadata": {
    "collapsed": false,
    "pycharm": {
     "name": "#%%\n",
     "is_executing": true
    }
   }
  }
 ],
 "metadata": {
  "kernelspec": {
   "display_name": "Python 3",
   "language": "python",
   "name": "python3"
  },
  "language_info": {
   "codemirror_mode": {
    "name": "ipython",
    "version": 2
   },
   "file_extension": ".py",
   "mimetype": "text/x-python",
   "name": "python",
   "nbconvert_exporter": "python",
   "pygments_lexer": "ipython2",
   "version": "2.7.6"
  }
 },
 "nbformat": 4,
 "nbformat_minor": 0
}