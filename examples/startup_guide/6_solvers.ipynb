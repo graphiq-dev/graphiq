{
 "cells": [
  {
   "cell_type": "markdown",
   "metadata": {},
   "source": [
    "# Solvers: SolverBase, EvolutionarySolver, DeterministicSolver"
   ]
  },
  {
   "cell_type": "markdown",
   "metadata": {
    "collapsed": true
   },
   "source": [
    "## Overview [Public API]\n",
    "\n",
    "The role of a solver is to generate one or more candidate circuit (solution), which produces either an optimal or satisfactory state.\n",
    "\n",
    "We have a fully-complete `EvolutionarySolver` as well as an in-progress deterministic solver.\n",
    "\n",
    "Our `EvolutionarySolver` is a probabilistic solver where a population of candidate circuits are mutated and repeatedly evaluated / improved. This solver should be flexible/capable of targeting different circuit construction criteria. However, it is not guaranteed to produce a result of a certain quality.\n",
    "\n",
    "Our `DeterministicSolver` follows a polynomial algorithm designed by Li et al, and can deterministically create a given target state. However, it is a) in development at the moment and b) restricted to a very particular objective (i.e. relies on particular hardware, cannot account for noise in the design).\n",
    "\n",
    "Because the `DeterministicSolver` is not currently complete, we will focus on the `EvolutionarySolver` in this tutorial."
   ]
  },
  {
   "cell_type": "markdown",
   "metadata": {},
   "source": [
    "## `SolverBase` [Public API]\n",
    "\n",
    "The `SolverBase` class is useful to consider all the possible inputs which can be provided to a given solver. Note that not every solver uses all input parameters, however.\n",
    "\n",
    "The possible input parameters are:\n",
    "* **target**: this is the target state which we aim to design. In some cases, it will not be used because the cost function metric will provide all necessary information. In other cases (e.g. with deterministic algorithms), it's essential\n",
    "* **metric**: this is a cost function, which evaluates the \"goodness\" of a solution. For most heuristic optimization algorithms, this function is extremely important to the behaviour of the algorithm. Deterministic algorithms may not used it\n",
    "* **compiler**: the compiler allows us to generate an output state given a target circuit\n",
    "* **io**: this allows us to save information about the behaviour of the solver\n",
    "* **circuit**: this is a potential initial circuit (we could see our heuristics around this original circuit, for example)"
   ]
  },
  {
   "cell_type": "markdown",
   "metadata": {},
   "source": [
    "## `EvolutionarySolver` [Public API]\n",
    "\n",
    "The `EvolutionarySolver` follows the algorithm below:\n",
    "1. Initializes a group of candidate circuits, termed \"population\". Currently, the circuits are initialized as minimal. Each time we create a new population from the previous population, we call this a new \"generation\".\n",
    "2. For each generation, the `EvolutionarySolver` applies a \"mutation\" (circuit change) to every candidate. \n",
    "3. Each (now mutated) candidate is evaluated with the cost function. The best individuals are saved to a \"hall of fame\" (hof). We may also update the solver logs, which tell us about the progress of the optimizations.\n",
    "3. (optionally) The `EvolutionarySolver` picks out individual from the current general to form the next generation. This is called **selection**. For a fully random solver, we perform no selection and the next generation is formed by the mutated previous population.\n",
    "4. When a certain number of generations or a termination condition is reached, the evolution ends.\n",
    "\n",
    "Over generations, we expect the population to converge to better (fitter) individuals."
   ]
  },
  {
   "cell_type": "code",
   "execution_count": 1,
   "metadata": {
    "pycharm": {
     "is_executing": true
    }
   },
   "outputs": [
    {
     "name": "stderr",
     "output_type": "stream",
     "text": [
      "C:\\Users\\julie\\Documents\\_graduate\\git_repositories\\graph-compiler\\src\\solvers\\solver_base.py:41: UserWarning: Initial circuit for EvolutionarySolver is 'None'. \n",
      "  warnings.warn(f\"Initial circuit for {self.__class__.__name__} is 'None'. \")\n"
     ]
    }
   ],
   "source": [
    "\"\"\" Setting up a solver: taken from quickstart \"\"\"\n",
    "import numpy as np\n",
    "\n",
    "import src.backends.density_matrix.functions as dmf\n",
    "from src.backends.density_matrix.compiler import DensityMatrixCompiler\n",
    "from src.metrics import Infidelity\n",
    "from src.state import QuantumState\n",
    "from src.solvers.evolutionary_solver import EvolutionarySolver\n",
    "\n",
    "\n",
    "ghz3_target_dm = dmf.ket2dm(\n",
    "    (dmf.tensor(3 * [dmf.state_ketz0()]) + dmf.tensor(3 * [dmf.state_ketz1()]))\n",
    "    / np.sqrt(2)\n",
    ")\n",
    "ghz3_target = QuantumState(3, ghz3_target_dm, representation=\"density matrix\")\n",
    "\n",
    "compiler = DensityMatrixCompiler()\n",
    "DensityMatrixCompiler.measurement_determinism = 1\n",
    "\n",
    "metric = Infidelity(target=ghz3_target)\n",
    "\n",
    "# Now that we have a way to evaluate circuit quality, we can define a solver\n",
    "solver = EvolutionarySolver(\n",
    "    target=ghz3_target,  # target state we want to achieve\n",
    "    metric=metric,  # how we judge the quality of a solution\n",
    "    compiler=compiler,  # how we simulate our solution\n",
    "    n_emitter=1,  # number of emitter qubits available as resources\n",
    "    n_photon=3,  # number of photons making up the target state\n",
    "    noise_model_mapping=None,  # we ignore noise in this example\n",
    ")\n",
    "solver.seed(1)  # this will allow us to replicate results reliably (fixes the rng)"
   ]
  },
  {
   "cell_type": "markdown",
   "metadata": {},
   "source": [
    "### Circuit Initialization and Rules [Implementer Info]\n",
    "\n",
    "We have rules for circuit initialization which reflects some physical realities of the quantum systems we want to implement. We also enforce some search space constraints to avoid solutions which are identical up to renumbering of qubits.\n",
    "1. Each photon is created by an emitter. In the circuit, this is done via a controlled gate where the control is the emitter qubit, and the target is the photonic qubit. No gates can be applied on a photon before its creation\n",
    "2. We create the photons in time-order of their numbering (i.e. photon i is created before photon j if i < j)\n",
    "3. The emitters are ordered in the time-order where they release their first photon.\n",
    "4. The last operation on each emitter is a classically controlled gate, where the measurement result from the emitter is used to control a photon.\n",
    "5. We initial the circuits with only the photon-creating CNOTs, Hadamards on each photon, and the final classically controlled gates on emitters.\n",
    "\n",
    "In addition, we limit the operations we can apply on photons in subsequent circuit changes:\n",
    "* No controlled gates can be applied between pairs of photons (this is due to the experimental difficulty in creating those gates). Moreover, as there are only 24 single-qubit Clifford gates we can apply to the photons, we only allow one gate to be applied to each photon after their initialization (combinations of gates would reduce to one of the 24)\n",
    "\n",
    "\n",
    "**Within the limits above, all circuit combinations are allowed.**"
   ]
  },
  {
   "cell_type": "markdown",
   "metadata": {},
   "source": [
    "**NOTE**: the user does not have to deal with the initialization functions (it is handled in the solver)"
   ]
  },
  {
   "cell_type": "code",
   "execution_count": 2,
   "metadata": {
    "pycharm": {
     "is_executing": true
    }
   },
   "outputs": [
    {
     "data": {
      "image/png": "[encoded data removed]",
      "text/plain": [
       "<Figure size 432x288 with 1 Axes>"
      ]
     },
     "metadata": {},
     "output_type": "display_data"
    },
    {
     "data": {
      "text/plain": [
       "(<Figure size 432x288 with 1 Axes>, <AxesSubplot:>)"
      ]
     },
     "execution_count": 2,
     "metadata": {},
     "output_type": "execute_result"
    }
   ],
   "source": [
    "\"\"\" Solver circuit initialization examples \"\"\"\n",
    "\n",
    "# You can play around with the number of photons/emitters to see what different circuits you get!\n",
    "# Note, however, that this is the simplest way to get a result out of your solver\n",
    "\n",
    "n_photons = 3\n",
    "n_emitter = 1\n",
    "emission_assignment = EvolutionarySolver.get_emission_assignment(n_photons, n_emitter)\n",
    "measurement_assignment = EvolutionarySolver.get_measurement_assignment(\n",
    "    n_photons, n_emitter\n",
    ")\n",
    "\n",
    "circuit = solver.initialization(emission_assignment, measurement_assignment, {})\n",
    "circuit.draw_circuit()"
   ]
  },
  {
   "cell_type": "markdown",
   "metadata": {},
   "source": [
    "### Circuit Evolution Operations [Implementer Info]\n",
    "\n",
    "What are the circuit mutations which evolve our population? They are a randomized version of the advanced circuit operations discussed in `2_circuits.ipynb`.\n",
    "\n",
    "**NOTE:** The probability of each circuit transformation type being selected can be adjusted with the solver field `self.trans_probs` (transition probabilities). \n",
    "\n",
    "**Transformation types:**\n",
    "* `replace_photon_one_qubit_op`: there is a single gate after each photon. This function selects a random photonic qubit, and swaps the gate (where the new gate probabilities follow `self.p_dist`, where each index of `p_dist` corresponds to the probability of one specific Clifford gate).\n",
    "* `add_emitter_one_qubit_op`: this adds a single-qubit operation on an emitter (at any position). The new gate probabilities follow `self.e_dist`\n",
    "* `add_emitter_cnot`: this adds a CNOT gate where both the control and target are emitter qubits. \n",
    "* `remove_op`: Picks an operation to remove (the photon initialization and final measurement/controlled gates cannot be removed)\n",
    "* `add_measurement_cnot_and_reset`: this adds a measurement on an emitter qubit, the value of which determines whether or not a controlled gate is applied to a photonic qubit. The emitter is then reset to |0> \n",
    "\n",
    "**NOTE 1:** again, the operations in the example below are not typically directly by the user (they are regularly managed via the solver).\n",
    "\n",
    "**NOTE 2:** The identity operation can be used to replace single-qubit gates **and it is not visible in the circuit, since it's equivalent to no operation**. Thus, if it seems like a post-photon gate was simply removed, it was replaced by an identity gate. The seeds in the example were selected to give interesting demonstrations."
   ]
  },
  {
   "cell_type": "code",
   "execution_count": 3,
   "metadata": {
    "pycharm": {
     "is_executing": true
    }
   },
   "outputs": [
    {
     "data": {
      "image/png": "[encoded data removed]",
      "text/plain": [
       "<Figure size 432x288 with 1 Axes>"
      ]
     },
     "metadata": {},
     "output_type": "display_data"
    },
    {
     "data": {
      "text/plain": [
       "(<Figure size 432x288 with 1 Axes>, <AxesSubplot:>)"
      ]
     },
     "execution_count": 3,
     "metadata": {},
     "output_type": "execute_result"
    }
   ],
   "source": [
    "\"\"\" Looking at circuit operations... \"\"\"\n",
    "from copy import deepcopy\n",
    "\n",
    "# replace photon one qubit op\n",
    "solver.seed(8)\n",
    "circuit_copy = deepcopy(circuit)\n",
    "solver.replace_photon_one_qubit_op(circuit_copy)\n",
    "circuit_copy.draw_circuit()"
   ]
  },
  {
   "cell_type": "code",
   "execution_count": 4,
   "metadata": {
    "pycharm": {
     "is_executing": true
    }
   },
   "outputs": [
    {
     "data": {
      "image/png": "[encoded data removed]",
      "text/plain": [
       "<Figure size 432x288 with 1 Axes>"
      ]
     },
     "metadata": {},
     "output_type": "display_data"
    },
    {
     "data": {
      "text/plain": [
       "(<Figure size 432x288 with 1 Axes>, <AxesSubplot:>)"
      ]
     },
     "execution_count": 4,
     "metadata": {},
     "output_type": "execute_result"
    }
   ],
   "source": [
    "# add a gate to the emitter\n",
    "solver.seed(0)\n",
    "circuit_copy = deepcopy(circuit)\n",
    "solver.add_emitter_one_qubit_op(circuit_copy)\n",
    "circuit_copy.draw_circuit()"
   ]
  },
  {
   "cell_type": "markdown",
   "metadata": {},
   "source": [
    "No demonstration for adding a `CNOT` between 2 emitters, since we only have one emitter in this example. But the API is the same."
   ]
  },
  {
   "cell_type": "code",
   "execution_count": 5,
   "metadata": {
    "pycharm": {
     "is_executing": true
    }
   },
   "outputs": [
    {
     "name": "stdout",
     "output_type": "stream",
     "text": [
      "Circuit with added nodes\n"
     ]
    },
    {
     "data": {
      "image/png": "[encoded data removed]",
      "text/plain": [
       "<Figure size 432x288 with 1 Axes>"
      ]
     },
     "metadata": {},
     "output_type": "display_data"
    },
    {
     "name": "stdout",
     "output_type": "stream",
     "text": [
      "Circuit with a node removed (from previous drawn circuit)\n"
     ]
    },
    {
     "data": {
      "image/png": "[encoded data removed]",
      "text/plain": [
       "<Figure size 432x288 with 1 Axes>"
      ]
     },
     "metadata": {},
     "output_type": "display_data"
    },
    {
     "data": {
      "text/plain": [
       "(<Figure size 432x288 with 1 Axes>, <AxesSubplot:>)"
      ]
     },
     "execution_count": 5,
     "metadata": {},
     "output_type": "execute_result"
    }
   ],
   "source": [
    "\"\"\"\n",
    "Remove an operation\n",
    "Since our previous circuit example doesn't have removable nodes, \n",
    "we'll also add a few nodes first\n",
    "\"\"\"\n",
    "solver.seed(1)\n",
    "circuit_copy = deepcopy(circuit)\n",
    "solver.add_emitter_one_qubit_op(circuit_copy)\n",
    "solver.add_emitter_one_qubit_op(circuit_copy)\n",
    "solver.add_emitter_one_qubit_op(circuit_copy)\n",
    "print(f\"Circuit with added nodes\")\n",
    "circuit_copy.draw_circuit()\n",
    "\n",
    "solver.remove_op(circuit_copy)\n",
    "print(f\"Circuit with a node removed (from previous drawn circuit)\")\n",
    "circuit_copy.draw_circuit()"
   ]
  },
  {
   "cell_type": "code",
   "execution_count": 6,
   "metadata": {
    "pycharm": {
     "is_executing": true
    }
   },
   "outputs": [
    {
     "data": {
      "image/png": "[encoded data removed]",
      "text/plain": [
       "<Figure size 432x288 with 1 Axes>"
      ]
     },
     "metadata": {},
     "output_type": "display_data"
    },
    {
     "data": {
      "text/plain": [
       "(<Figure size 432x288 with 1 Axes>, <AxesSubplot:>)"
      ]
     },
     "execution_count": 6,
     "metadata": {},
     "output_type": "execute_result"
    }
   ],
   "source": [
    "# add a measurement+CNOT+reset\n",
    "# TODO: check whether we expect it not to add anything...\n",
    "# I would expect it to be able to add things between the last CNOT following gate...\n",
    "solver.seed(0)\n",
    "circuit_copy_2 = deepcopy(circuit_copy)\n",
    "solver.add_measurement_cnot_and_reset(circuit_copy_2)\n",
    "circuit_copy.draw_circuit()"
   ]
  },
  {
   "cell_type": "markdown",
   "metadata": {},
   "source": [
    "## Customizing the `EvolutionarySolver` [General API]\n",
    "\n",
    "Evolutionary algorithms must often be tuned for best performance. Our solver allows the following hyperparameters:\n",
    "\n",
    "**Solver class hyperparameters:** these are changed through the class, not the individual object (though that's a somewhat arbitrary choice)\n",
    "* `use_adapt_probability`: boolean value, which determines whether the probability of different circuit evolution operations change over time (set to `False` for now, since the adaptive probabilities were not tuned to improve performance). \n",
    "\n",
    "**Solver object parameters**: these are changed specifically to the object\n",
    "* `n_stop`: the number of generations run by the algorithm\n",
    "* `n_pop`: the size of the candidate circuit population\n",
    "* `tournament_k`: the best individuals of a given population are selected to move to the next generation via tournament selection (more later). This hyperparameter determines the trade-off between diversity of solution, and capitalizing on best individuals.\n",
    "* `self.p_dist`/`self.e_dist` (as previously explained)\n",
    "* `self.trans_probs`: the probability of different operators being selected to modify the circuit\n",
    "* `self.selection_active`: if True, we do some selection after each generation. Otherwise, there is no selection and we port mutated individuals directly to the next generation (no selection is the default)\n",
    "* `self.noise_simulation`: if true, the optimization is performed with noise. Otherwise, the optimization is noiseless.\n",
    "* `n_hof`: the number of different circuits we maintain in the hall of fame\n",
    "* `self.noise_model_mapping`: noise models (as previously discussed)\n",
    "* `self.save_openqasm`: whether we want to save the circuit population, hof, or both to openQASM strings"
   ]
  },
  {
   "cell_type": "code",
   "execution_count": 7,
   "metadata": {
    "pycharm": {
     "is_executing": true
    }
   },
   "outputs": [
    {
     "name": "stdout",
     "output_type": "stream",
     "text": [
      "default transformation probs: {<bound method EvolutionarySolver.add_emitter_one_qubit_op of <src.solvers.evolutionary_solver.EvolutionarySolver object at 0x0000024853636F10>>: 0.3333333333333333, <bound method EvolutionarySolver.replace_photon_one_qubit_op of <src.solvers.evolutionary_solver.EvolutionarySolver object at 0x0000024853636F10>>: 0.3333333333333333, <bound method EvolutionarySolver.remove_op of <src.solvers.evolutionary_solver.EvolutionarySolver object at 0x0000024853636F10>>: 0.3333333333333333}\n",
      "Iteration 0 | Best score: 0.7500\n",
      "Iteration 1 | Best score: 0.7500\n",
      "Iteration 2 | Best score: 0.5000\n",
      "Iteration 3 | Best score: 0.5000\n",
      "Iteration 4 | Best score: 0.5000\n",
      "Iteration 5 | Best score: 0.5000\n",
      "Iteration 6 | Best score: 0.5000\n",
      "Iteration 7 | Best score: 0.5000\n",
      "Iteration 8 | Best score: 0.5000\n",
      "Iteration 9 | Best score: 0.5000\n",
      "Iteration 10 | Best score: 0.5000\n",
      "Iteration 11 | Best score: 0.5000\n",
      "Iteration 12 | Best score: 0.5000\n",
      "Iteration 13 | Best score: 0.5000\n",
      "Iteration 14 | Best score: 0.5000\n",
      "Iteration 15 | Best score: 0.5000\n",
      "Iteration 16 | Best score: 0.5000\n",
      "Iteration 17 | Best score: 0.5000\n",
      "Iteration 18 | Best score: 0.5000\n",
      "Iteration 19 | Best score: 0.5000\n"
     ]
    }
   ],
   "source": [
    "\"\"\" Example where we mess around with settings to 'tune' our solver\"\"\"\n",
    "\n",
    "solver.n_stop = 20\n",
    "solver.n_pop = 100\n",
    "solver.tournament_k = 3\n",
    "\n",
    "print(f\"default transformation probs: {solver.trans_probs}\")  # we will keep these as is\n",
    "\n",
    "# Set equal probability for all single-qubit clifford gates\n",
    "solver.p_dist = [1 / 24] * 24\n",
    "solver.e_dist = [1 / 24] * 24\n",
    "\n",
    "solver.solve()"
   ]
  },
  {
   "cell_type": "markdown",
   "metadata": {},
   "source": [
    "## Understanding the hall of fame [Public API]\n",
    "\n",
    "The hall of fame is a list of the best tuples `(ciruit score, circuit)` which we encounter during optimization. This prevents us from losing the best solutions found.\n",
    "\n",
    "At each iteration, we update it with the best individuals of the new generation (if any of them exceeded the quality of previous hall of fame individuals).\n",
    "\n",
    "Currently, it is entirely possible for our hall of fame to contain duplicate circuits, since the evolution process is likely to generate the same circuit multiple times. In the future, we would want to add a check and forbid duplicates."
   ]
  },
  {
   "cell_type": "markdown",
   "metadata": {},
   "source": [
    "## Understanding selection\n",
    "\n",
    "Selection is the process by which candidate individuals of a population progress to the next generation (named after natural selection).\n",
    "\n",
    "Suppose that we have mutated every individual of generation X. Let's call our candidate list $S$ where $(score, candidate) \\in S$ for each cost function score + circuit pair.\n",
    "\n",
    "We can build our next population of any candidate where $(score, candidate) \\in S$. We can in theory pick any candidate any number of time (until the population is full)--repeat circuits are fine since they have the potential to evolve differently. \n",
    "\n",
    "**Tournament selection**\n",
    "Tournament selection is a form of selection, where we repeatedly sample $k$ different candidate circuits, and pick the candidate $c_i$ with the score $s_i > s_j, \\forall j \\neq i$ to go into the population. We repeat this process until the next generation has the desired size.\n",
    "\n",
    "Then, with a large $k$, we are extremely likely to pick the best individuals and push them to the next generation. This can be useful, but can also reduce the variety of our population (making it more likely to get stuck in a local optimum).\n",
    "\n",
    "In contrast, with a smaller $k$, our selection is more random. This keeps our population diverse, but means that we're learning less from the better circuits.\n",
    "\n",
    "The optimal value of k is something that must be tuned, in general."
   ]
  },
  {
   "cell_type": "markdown",
   "metadata": {},
   "source": [
    "## Improvement Suggestions for `EvolutionarySolver`\n",
    "* Add elitism (best individuals of a population are guaranteed a pass to the next generation)\n",
    "* Improve the hall of fame to eliminate redundant circuit solutions\n",
    "* Try a geometric probability adaptation rather than a linear one (i.e. transition probabilities change by a constant multiplying factor rather than a constant subtraction factor)\n",
    "* Currently, not all mutation operators of the `EvolutionarySolver` are effective (some of them \"mutate\" the state into the same state, for example replacing a certain gate by itself). We should change the code so that a change MUST occur."
   ]
  }
 ],
 "metadata": {
  "kernelspec": {
   "display_name": "Python 3 (ipykernel)",
   "language": "python",
   "name": "python3"
  },
  "language_info": {
   "codemirror_mode": {
    "name": "ipython",
    "version": 3
   },
   "file_extension": ".py",
   "mimetype": "text/x-python",
   "name": "python",
   "nbconvert_exporter": "python",
   "pygments_lexer": "ipython3",
   "version": "3.9.5"
  }
 },
 "nbformat": 4,
 "nbformat_minor": 1
}
